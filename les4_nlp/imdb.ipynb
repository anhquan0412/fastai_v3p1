{
 "cells": [
  {
   "cell_type": "code",
   "execution_count": 4,
   "metadata": {},
   "outputs": [],
   "source": [
    "%reload_ext autoreload\n",
    "%autoreload 2\n",
    "%matplotlib inline"
   ]
  },
  {
   "cell_type": "code",
   "execution_count": 5,
   "metadata": {},
   "outputs": [],
   "source": [
    "from fastai.text import *"
   ]
  },
  {
   "cell_type": "markdown",
   "metadata": {},
   "source": [
    "# Get data"
   ]
  },
  {
   "cell_type": "code",
   "execution_count": 3,
   "metadata": {},
   "outputs": [
    {
     "data": {
      "text/plain": [
       "[PosixPath('/home/quantran/.fastai/data/imdb_sample/tmp'),\n",
       " PosixPath('/home/quantran/.fastai/data/imdb_sample/texts.csv')]"
      ]
     },
     "execution_count": 3,
     "metadata": {},
     "output_type": "execute_result"
    }
   ],
   "source": [
    "path = untar_data(URLs.IMDB_SAMPLE)\n",
    "path.ls()"
   ]
  },
  {
   "cell_type": "code",
   "execution_count": null,
   "metadata": {},
   "outputs": [],
   "source": [
    "df = pd.read_csv(path/'texts.csv')"
   ]
  },
  {
   "cell_type": "code",
   "execution_count": 11,
   "metadata": {},
   "outputs": [
    {
     "data": {
      "text/html": [
       "<div>\n",
       "<style scoped>\n",
       "    .dataframe tbody tr th:only-of-type {\n",
       "        vertical-align: middle;\n",
       "    }\n",
       "\n",
       "    .dataframe tbody tr th {\n",
       "        vertical-align: top;\n",
       "    }\n",
       "\n",
       "    .dataframe thead th {\n",
       "        text-align: right;\n",
       "    }\n",
       "</style>\n",
       "<table border=\"1\" class=\"dataframe\">\n",
       "  <thead>\n",
       "    <tr style=\"text-align: right;\">\n",
       "      <th></th>\n",
       "      <th>label</th>\n",
       "      <th>text</th>\n",
       "      <th>is_valid</th>\n",
       "    </tr>\n",
       "  </thead>\n",
       "  <tbody>\n",
       "    <tr>\n",
       "      <th>995</th>\n",
       "      <td>negative</td>\n",
       "      <td>There are many different versions of this one ...</td>\n",
       "      <td>True</td>\n",
       "    </tr>\n",
       "    <tr>\n",
       "      <th>996</th>\n",
       "      <td>positive</td>\n",
       "      <td>Once upon a time Hollywood produced live-actio...</td>\n",
       "      <td>True</td>\n",
       "    </tr>\n",
       "    <tr>\n",
       "      <th>997</th>\n",
       "      <td>negative</td>\n",
       "      <td>Wenders was great with Million $ Hotel.I don't...</td>\n",
       "      <td>True</td>\n",
       "    </tr>\n",
       "    <tr>\n",
       "      <th>998</th>\n",
       "      <td>negative</td>\n",
       "      <td>Although a film with Bruce Willis is always wo...</td>\n",
       "      <td>True</td>\n",
       "    </tr>\n",
       "    <tr>\n",
       "      <th>999</th>\n",
       "      <td>positive</td>\n",
       "      <td>A compelling, honest, daring, and unforgettabl...</td>\n",
       "      <td>True</td>\n",
       "    </tr>\n",
       "  </tbody>\n",
       "</table>\n",
       "</div>"
      ],
      "text/plain": [
       "        label                                               text  is_valid\n",
       "995  negative  There are many different versions of this one ...      True\n",
       "996  positive  Once upon a time Hollywood produced live-actio...      True\n",
       "997  negative  Wenders was great with Million $ Hotel.I don't...      True\n",
       "998  negative  Although a film with Bruce Willis is always wo...      True\n",
       "999  positive  A compelling, honest, daring, and unforgettabl...      True"
      ]
     },
     "execution_count": 11,
     "metadata": {},
     "output_type": "execute_result"
    }
   ],
   "source": [
    "df.tail()"
   ]
  },
  {
   "cell_type": "code",
   "execution_count": 8,
   "metadata": {},
   "outputs": [
    {
     "data": {
      "text/plain": [
       "\"Un-bleeping-believable! Meg Ryan doesn't even look her usual pert lovable self in this, which normally makes me forgive her shallow ticky acting schtick. Hard to believe she was the producer on this dog. Plus Kevin Kline: what kind of suicide trip has his career been on? Whoosh... Banzai!!! Finally this was directed by the guy who did Big Chill? Must be a replay of Jonestown - hollywood style. Wooofff!\""
      ]
     },
     "execution_count": 8,
     "metadata": {},
     "output_type": "execute_result"
    }
   ],
   "source": [
    "df.loc[0,'text']"
   ]
  },
  {
   "cell_type": "code",
   "execution_count": 9,
   "metadata": {},
   "outputs": [
    {
     "data": {
      "text/plain": [
       "(1000, 3)"
      ]
     },
     "execution_count": 9,
     "metadata": {},
     "output_type": "execute_result"
    }
   ],
   "source": [
    "df.shape"
   ]
  },
  {
   "cell_type": "code",
   "execution_count": 10,
   "metadata": {},
   "outputs": [
    {
     "data": {
      "text/plain": [
       "False    800\n",
       "True     200\n",
       "Name: is_valid, dtype: int64"
      ]
     },
     "execution_count": 10,
     "metadata": {},
     "output_type": "execute_result"
    }
   ],
   "source": [
    "df.is_valid.value_counts()"
   ]
  },
  {
   "cell_type": "markdown",
   "metadata": {},
   "source": [
    "# Databunch"
   ]
  },
  {
   "cell_type": "markdown",
   "metadata": {},
   "source": [
    "Convert text to numbers by 1: tokenization and 2: numericalization"
   ]
  },
  {
   "cell_type": "code",
   "execution_count": 12,
   "metadata": {},
   "outputs": [],
   "source": [
    "data_lm = TextDataBunch.from_csv(path, 'texts.csv')"
   ]
  },
  {
   "cell_type": "markdown",
   "metadata": {},
   "source": [
    "Save data"
   ]
  },
  {
   "cell_type": "code",
   "execution_count": 15,
   "metadata": {},
   "outputs": [],
   "source": [
    "data = TextDataBunch.load(path)"
   ]
  },
  {
   "cell_type": "code",
   "execution_count": 16,
   "metadata": {},
   "outputs": [
    {
     "data": {
      "text/plain": [
       "TextClasDataBunch;\n",
       "\n",
       "Train: LabelList\n",
       "y: CategoryList (799 items)\n",
       "[Category negative, Category negative, Category negative, Category negative, Category positive]...\n",
       "Path: .\n",
       "x: TextList (799 items)\n",
       "[Text xxbos \" xxmaj xxunk \" is quite possibly the most incompetent , embarrassing , pitiful \" film \" i have ever seen . xxmaj the acting is criminal , the direction practically non - existent , and the special effects presumably put together by xxunk a xxunk with learning difficulties on a xxunk laptop computer . \n",
       "\n",
       " xxmaj far be it from me to xxunk creativity , but i actually believe things like this should n't be made . i am sure the \" film \"- makers will say that , yes , the \" film \" was xxunk by a low ( as in nothing ) budget - but in that case they just really should n't have bothered . xxmaj as it is , they have xxunk the world something so dire , so xxunk , that only xxunk could get the xxunk xxunk of enjoyment from it . \n",
       "\n",
       " xxmaj starting the \" movie \" it was n't as though i was expecting \" xxmaj citizen xxmaj kane \" or anything . i was expecting a low budget little horror with perhaps a xxunk of xxunk , a hint of fun , and even some energy . xxmaj what i got was the cinematic xxunk of a used xxunk . \n",
       "\n",
       " xxmaj the plot ? xxmaj well , our xxunk xxunk scientist , who works in his parents ' basement , is seen xxunk stirring some xxunk in a cup . xxmaj apparently , such high - level science is the end - result of years of research . xxmaj his parents then send him off to a strange hotel - type place in the countryside to xxunk . xxmaj there are some other people there , who are simply too awful to write about . xxmaj anyway , the scientist drops his test - xxunk onto some mushrooms - and soon the mushrooms grow and kill some people . ( xxmaj wow , i 'm getting xxunk just writing the plot summary ) . xxmaj our heroes save the day by xxunk a barrel of xxunk xxunk ( by xxunk a \" xxunk \" - really a piece of string - to it ) . xxmaj the barrel xxunk xxunk with the power of a small nuclear weapon , destroying all the mushrooms . xxmaj the end . ( xxmaj thank goodness ) . \n",
       "\n",
       " xxmaj that summary is as good as the \" film \" gets ( and actually makes it sound a lot more interesting than it actually is ) . xxmaj it really should never have got past this stage of development ( by which i mean a plot outline xxunk on the back of an xxunk with xxunk ) . xxmaj somebody should have really xxunk in and given someone a xxunk shake and said \" xxup no . \" \n",
       "\n",
       " xxmaj and those \" special \" effects . xxmaj well , they 're \" special \" all right . xxmaj this is xxup cgi gone crazy . xxmaj and done by a person who i can only assume believes the xxunk xxunk to be the xxunk of modern technology . xxmaj and when the xxunk monsters are not in the style of a xxunk home computer graphics xxunk , they are represented by actors xxunk along covered in a xxunk ( i kid you not ) . \n",
       "\n",
       " xxmaj one of the most xxunk things about the movie is its xxunk . xxmaj this can be xxunk up by the scene in which the hero xxunk his guns ( a la xxmaj clint xxmaj xxunk ) and then fails miserably to get them in his xxunk . i mean come on , a couple of xxunk and he could have pulled it off , but just to leave it as it is - really weak . \n",
       "\n",
       " i can not believe money was spent on this camcorder - shot rubbish . xxmaj the \" film \"- makers should hang their heads in shame and be xxunk from going within fifty xxunk of any movie - making equipment . \n",
       "\n",
       " i also think it 's wrong that friends and family of the makers come onto imdb and post xxunk reviews and give xxunk high user ratings which give a totally inaccurate picture of the \" movie . \" \" xxmaj xxunk \" is an absolute travesty of film - making . xxmaj mr xxmaj xxunk is either very , very stupid or very , very cynical ., Text xxbos i picked this xxup dvd up at the xxmaj dollar xxmaj store . xxmaj the xxup dvd was on the 2 for $ 1 xxunk , but since it had xxmaj michael xxmaj xxunk in it , i thought that since i had never seen the movie , i bought it anyway . \n",
       "\n",
       " i must say that i did n't like the movie . xxmaj the movie played more like a documentary or an xxunk for religion than anything else . i found that the director 's use of flashbacks did not add to the story line for me . i would have preferred to view the story line in xxunk order . \n",
       "\n",
       " i wo n't throw it away like one of the other xxunk , but xxmaj it may be quite awhile before i would consider watching this movie again . \n",
       "\n",
       " xxmaj who knows , since it was xxmaj michael xxmaj xxunk 's film debut , maybe it might have some xxunk value at some future date ., Text xxbos xxmaj first , let 's get it out of the way . . . yeah , this film steals a xxup lot from ' xxmaj darkness xxmaj falls ' ( 2003 ) . xxmaj the plot for ' xxmaj darkness xxmaj falls ' goes something like this : xxmaj the xxmaj tooth xxmaj fairy , a xxunk woman who hides her face due to xxunk kills people who look at her out of revenge . xxmaj in ' xxmaj the xxmaj tooth xxmaj fairy ' ( 2006 ) , the disfigured xxmaj tooth xxmaj fairy ( who , yeah , hides her face ) xxunk her furious vengeance on just about anyone . a little too similar to be xxunk . \n",
       "\n",
       " xxmaj but , what must be asked is this : xxmaj if you 're going to directly steal the exact plot from a movie , why choose something as mediocre as ' xxmaj darkness xxmaj falls ' ? xxmaj sure it made a few bucks at the box office , but that was strictly for the fairly okay theatrical experience the film delivered . a low - budget , straight - to - video movie will not have that same effect . xxmaj and it did n't . \n",
       "\n",
       " xxmaj as i watched the opening 15 - 20 minutes of the film , my expectations actually rose . xxmaj there seemed to be at least xxup some production value . xxmaj the story did n't seem terrible , just blatantly ripped off . xxmaj past the first scene , we get an okay cast of characters including an ex - doctor with secrets ( played by that guy who looks like a xxmaj xxunk ) and some hot xxunk student ( xxmaj xxunk from xxmaj xxunk 's ' xxmaj masters of xxmaj horror : xxmaj xxunk ' ) . xxmaj after those few minutes , however , the film just slowly goes down the xxunk . xxmaj it serves all the basic horrible clichés including , but not limited to : some crazy old person with an xxunk warning , the buff dumb jock , the psychic , and the xxunk with the heart - of - gold . \n",
       "\n",
       " xxmaj one of the biggest problems this film had was its xxunk to stick with a target audience . xxmaj it 's kind of like the filmmakers wanted to change the tone for whatever character was on screen at the time . xxmaj when the adults were on screen , it had a more mature feel . xxmaj when xxmaj star ( the xxunk ) and xxunk ( the jock ) were on screen , the dialogue went down to a more stupid , xxunk immature , level . xxmaj when the kid was on screen , it felt like an episode of ' xxmaj are xxmaj you xxmaj afraid of the xxmaj dark ? ' . . . only less scary . \n",
       "\n",
       " xxmaj technically , the film is all over the place . xxmaj the visuals range from fairly good to plain boring . xxmaj the writing is subpar , as is the acting for the most part . xxmaj on the plus side , there 's some excessive gore at parts ( including a fairly cool ( yet painfully predictable ) ) xxunk scene and a pretty vicious xxunk scene . xxmaj also , if you 're looking for a bit of the sexy stuff , there 's a brief topless scene ( but if you want to see this chick topless , there are better films to do that ) . xxmaj other than that , there 's not much to bother with when it comes to this film . \n",
       "\n",
       " xxmaj if you 're a huge fan of ' xxmaj darkness xxmaj falls ' ( do those exist ? ) , maybe you can check it out to see the story done in a different way . . . but , that 's about the only reason i can find to see this one . \n",
       "\n",
       " xxmaj final xxmaj xxunk : 3 / 10 xxup xxunk, Text xxbos xxmaj okay , i was bored and decided to see this movie . xxmaj but i think the main thing that brought this movie down was that there would be a hour of footage , then basically that same hour repeated 4 times . xxmaj it consists of 1 . xxmaj gathering the troops and discussing the attack plan , 2 . xxmaj flashbacks to the men 's wives 3 . xxmaj the approach of the troops marching in a long line 4 . xxmaj men running up hill and shooting , usually the first getting shot in the head then 3 other men xxunk him . 5 . xxmaj defeat of the enemy and calling to base to tell of success 6 . xxmaj men flashing back to wives and singing 10 minute songs . xxmaj that was the basic movie , and that same order of events happened about 4 or 5 times . and every time it did a flashback to the wives , it would show the man , then his wife and him . xxmaj there were about 10 men or more who would have a flashback so this took up tons of time . xxmaj other than that , the men could n't kill their enemy except with either xxunk or xxunk . i liked the music and there was a lot of action , though the action was repetitive . xxmaj overall , i probably would n't see it again , but it was n't too horrible ., Text xxbos xxmaj this was a great movie that had a lot of under lying issues . xxmaj it xxunk with issues of xxunk and class . xxmaj but , it also had a message of knowing yourself and taking responsibility for yourself . xxmaj this movie was very deep it gave the message of that you and only you can control your destiny . xxmaj it also showed that knowing yourself and being comfortable with who you are is the only way you will ever fit into society . xxmaj what others think of you is not important . i believe this movie did a wonderful job of showing it . xxmaj the actors i think were able to convey each character wonderfully . i just thought it was amazing how deep this movie really was . xxmaj at a just xxunk look you would n't see how deep the movie is , but on further look you see the xxunk meaning of the movie .]...\n",
       "Path: /home/quantran/.fastai/data/imdb_sample;\n",
       "\n",
       "Valid: LabelList\n",
       "y: CategoryList (201 items)\n",
       "[Category positive, Category negative, Category negative, Category negative, Category positive]...\n",
       "Path: .\n",
       "x: TextList (201 items)\n",
       "[Text xxbos i watched xxmaj xxunk king more times that all my friends put xxunk . xxmaj having a baby sister .. you know how it is . xxmaj by now i xxunk both the plot and the lines . xxmaj after xxmaj xxunk king 2 came out i was like ok well let me see ... the second one was xxunk xxunk ... then i saw an ad for xxunk king 1 and 1 / 2 ... i was like ok there we go again . xxmaj after watching the 1 1 / 2 i was like wow . xxmaj all my expectations ( for xxunk ) were broken . a truly lovely and original plot keeps you glued to your seat for the entire time . i have noticed that the cartoon was filled with so many comical moments that xxunk will apply here 100 % . \n",
       "\n",
       " i xxunk recommend seeing the cartoon ., Text xxbos i was n't really hoping for much when i went to see this . xxmaj after xxmaj xxunk the heck out of xxunk with some friends though , i was hoping for a similar experience here . \n",
       "\n",
       " xxmaj unfortunately the movie took itself way too seriously . xxmaj do i care about xxmaj jason 's problems ? i 'm sorry no . xxmaj there are a xxunk xxmaj xxunk movies that cover that anyway . xxmaj at at then end of the day , he 's an undead serial killer , i 'm just not going to get that sympathetic . \n",
       "\n",
       " xxmaj freddy was by far the most interesting aspect of the movie with the xxunk and what not , but unfortunately they were few and far between and by the end of the movie , it had xxunk into a bad episode of celebrity xxunk ... only not funny . \n",
       "\n",
       ", Text xxbos xxmaj not one of xxmaj keaton 's best efforts , this was perhaps a xxunk attempt to revenge himself on the family he married into - the xxmaj xxunk . a xxmaj polish / xxmaj english language xxunk and a series of coincidences leads xxmaj xxunk into a marriage with a large xxmaj irish woman , who ( along with her father and brothers ) treat him xxunk until they think he may be an xxunk to a fortune . xxmaj mistaken xxunk xxunk here - gags are set up and but for the main fail to pay off . \n",
       "\n",
       " xxmaj this xxmaj xxunk short does have at least two real laughs - xxmaj xxunk 's cleverly turning around his lack of xxunk by using the xxunk on the wall and the basic ignorance of his adopted family to literally bring the meat to his xxunk . xxmaj the other is a family xxunk , with the entire group slowly xxunk to the floor as the xxunk of the camera loses its xxunk . \n",
       "\n",
       " xxmaj the xxunk beer xxunk could have been the xxunk for a massive series of gags built upon gags , but stops short ( for all the xxunk ) of development . \n",
       "\n",
       " xxmaj xxunk 's xxunk is crisp and clear and the score is one for player piano , xxunk and sound effects . xxmaj not one of xxmaj xxunk 's best efforts , but worth a few laughs ., Text xxbos xxmaj one of the worst movies i 've ever seen . xxmaj acting was terrible , both for the kids and the adults . xxmaj most to all characters showed no , little or not enough emotion . xxmaj the lighting was terrible , and there were too many mess ups about the time of the day the film was shot ( xxmaj in the river scene where they just get their boat destroyed , there 's 4 shots ; xxmaj the sheriff and xxmaj dad in the evening on their boat , xxmaj xxunk and xxmaj xxunk in the evening swimming , the rest of the kids in the xxunk * when it 's supposed to in the evening * at the river bank , and the doctor , xxmaj xxunk , and xxmaj xxunk at night but not in the evening getting off their boat . ) xxmaj the best acting in the movie was probably from the sheriff , xxmaj xxunk ( xxmaj although , there 's a xxunk of character when the xxunk xxunk * xxmaj whatever that thing is when people die , it xxunk * shows xxmaj xxunk has died , he still moves while it can still be heard xxunk , and while the nurse extra xxunk his xxunk xxunk , then it shows the xxunk again , and xxup then he finally dies . ) i guess it 's not going to be perfect , since it 's an independent movie , but it still could be better . xxmaj not worth watching , honestly , even for kids . xxmaj might as well watch something good , like xxmaj the xxmaj xxunk xxmaj king or xxmaj toy xxmaj story if you 're going to see anything you 'll remember ., Text xxbos i was pretty surprised with this flick . xxmaj even though their xxunk was obviously lacking still you have to be impressed that this movie took 7 years to make and still turned out good . xxmaj the acting was pretty impressive and the story really xxunk me . xxmaj my only complaint would be that the ending really was a little too abrupt for my taste . xxmaj but hey if your audience is left wanting more then this movie has succeeded . \n",
       "\n",
       " i would really recommend anyone in xxmaj hollywood to look up xxmaj xxunk xxmaj xxunk who is an excellent xxmaj spanish talent ( something hard to find now days with all the bad xxunk over acting ) . xxmaj xxunk xxmaj xxunk truly is a star on the rise .]...\n",
       "Path: /home/quantran/.fastai/data/imdb_sample;\n",
       "\n",
       "Test: None"
      ]
     },
     "execution_count": 16,
     "metadata": {},
     "output_type": "execute_result"
    }
   ],
   "source": [
    "data"
   ]
  },
  {
   "cell_type": "markdown",
   "metadata": {},
   "source": [
    "## Tokenization"
   ]
  },
  {
   "cell_type": "markdown",
   "metadata": {},
   "source": [
    "Splitting words by: taking care of punctuation, word contraction (isn't) and word cleaning\n",
    "\n",
    "sometimes if it's like an 's from it's, it will get its own token. Every bit of punctuation tends to get its own token (a comma, a full stop, and so forth)."
   ]
  },
  {
   "cell_type": "code",
   "execution_count": 17,
   "metadata": {},
   "outputs": [
    {
     "data": {
      "text/html": [
       "<table>  <col width='90%'>  <col width='10%'>  <tr>\n",
       "    <th>text</th>\n",
       "    <th>target</th>\n",
       "  </tr>\n",
       "  <tr>\n",
       "    <th>xxbos xxmaj raising xxmaj victor xxmaj vargas : a xxmaj review \\n\\n xxmaj you know , xxmaj raising xxmaj victor xxmaj vargas is like sticking your hands into a big , xxunk bowl of xxunk . xxmaj it 's warm and gooey , but you 're not sure if it feels right . xxmaj try as i might , no matter how warm and gooey xxmaj raising xxmaj victor xxmaj</th>\n",
       "    <th>negative</th>\n",
       "  </tr>\n",
       "  <tr>\n",
       "    <th>xxbos xxup the xxup shop xxup around xxup the xxup corner is one of the xxunk and most feel - good romantic comedies ever made . xxmaj there 's just no getting around that , and it 's hard to actually put one 's feeling for this film into words . xxmaj it 's not one of those films that tries too hard , nor does it come up with</th>\n",
       "    <th>positive</th>\n",
       "  </tr>\n",
       "  <tr>\n",
       "    <th>xxbos xxmaj now that xxmaj che(2008 ) has finished its relatively short xxmaj australian cinema run ( extremely limited xxunk screen in xxmaj xxunk , after xxunk ) , i can xxunk join both xxunk of \" xxmaj at xxmaj the xxmaj movies \" in taking xxmaj steven xxmaj soderbergh to task . \\n\\n xxmaj it 's usually satisfying to watch a film director change his style / subject ,</th>\n",
       "    <th>negative</th>\n",
       "  </tr>\n",
       "  <tr>\n",
       "    <th>xxbos xxmaj this film sat on my xxmaj xxunk for weeks before i watched it . i xxunk a self - indulgent xxunk flick about relationships gone bad . i was wrong ; this was an xxunk xxunk into the screwed - up xxunk of xxmaj new xxmaj xxunk . \\n\\n xxmaj the format is the same as xxmaj max xxmaj xxunk ' \" xxmaj la xxmaj xxunk , \"</th>\n",
       "    <th>positive</th>\n",
       "  </tr>\n",
       "  <tr>\n",
       "    <th>xxbos xxmaj many neglect that this is n't just a classic due to the fact that it 's the first xxup 3d game , or even the first xxunk - up . xxmaj it 's also one of the first xxunk games , one of the xxunk definitely the first ) truly claustrophobic games , and just a pretty well - xxunk xxunk experience in general . xxmaj with graphics</th>\n",
       "    <th>positive</th>\n",
       "  </tr>\n",
       "</table>\n"
      ],
      "text/plain": [
       "<IPython.core.display.HTML object>"
      ]
     },
     "metadata": {},
     "output_type": "display_data"
    }
   ],
   "source": [
    "data.show_batch()"
   ]
  },
  {
   "cell_type": "markdown",
   "metadata": {},
   "source": [
    "Original text for review #3\n",
    "\n",
    "Now that Che(2008) has finished its relatively short Australian cinema run (extremely limited release:1 screen in Sydney, after 6wks), I can guiltlessly join both hosts of \"At The Movies\" in taking Steven Soderbergh to task. \n",
    "\n",
    "It's usually satisfying to watch a film director change his style/subject, but Soderbergh's most recent stinker, The Girlfriend Experience(2009), was also missing a story, so narrative (and editing?) seem to suddenly be Soderbergh's main challenge. Strange, after 20-odd years in the business. He was probably never much good at narrative, just hid it well inside \"edgy\" projects. "
   ]
  },
  {
   "cell_type": "markdown",
   "metadata": {},
   "source": [
    "There are several special token that begins with 'xx', e.g: 'xxbos' for start of reviews, 'xxmaj' for capitalization ... "
   ]
  },
  {
   "cell_type": "markdown",
   "metadata": {},
   "source": [
    "## Numericalization\n",
    "\n",
    "Convert tokens to integers. Keep only tokens that appear at list twice with max vocab size of 60k\n",
    "\n",
    "Replace any token that doesn't match the requirements with UNK token"
   ]
  },
  {
   "cell_type": "code",
   "execution_count": 21,
   "metadata": {},
   "outputs": [
    {
     "data": {
      "text/plain": [
       "['xxunk',\n",
       " 'xxpad',\n",
       " 'xxbos',\n",
       " 'xxfld',\n",
       " 'xxmaj',\n",
       " 'xxup',\n",
       " 'xxrep',\n",
       " 'xxwrep',\n",
       " 'the',\n",
       " '.',\n",
       " ',',\n",
       " 'and',\n",
       " 'a',\n",
       " 'of',\n",
       " 'to',\n",
       " 'is',\n",
       " 'it',\n",
       " 'in',\n",
       " 'i',\n",
       " 'that']"
      ]
     },
     "execution_count": 21,
     "metadata": {},
     "output_type": "execute_result"
    }
   ],
   "source": [
    "data.vocab.itos[:20]"
   ]
  },
  {
   "cell_type": "code",
   "execution_count": 22,
   "metadata": {
    "scrolled": true
   },
   "outputs": [
    {
     "data": {
      "text/plain": [
       "Text xxbos \" xxmaj xxunk \" is quite possibly the most incompetent , embarrassing , pitiful \" film \" i have ever seen . xxmaj the acting is criminal , the direction practically non - existent , and the special effects presumably put together by xxunk a xxunk with learning difficulties on a xxunk laptop computer . \n",
       "\n",
       " xxmaj far be it from me to xxunk creativity , but i actually believe things like this should n't be made . i am sure the \" film \"- makers will say that , yes , the \" film \" was xxunk by a low ( as in nothing ) budget - but in that case they just really should n't have bothered . xxmaj as it is , they have xxunk the world something so dire , so xxunk , that only xxunk could get the xxunk xxunk of enjoyment from it . \n",
       "\n",
       " xxmaj starting the \" movie \" it was n't as though i was expecting \" xxmaj citizen xxmaj kane \" or anything . i was expecting a low budget little horror with perhaps a xxunk of xxunk , a hint of fun , and even some energy . xxmaj what i got was the cinematic xxunk of a used xxunk . \n",
       "\n",
       " xxmaj the plot ? xxmaj well , our xxunk xxunk scientist , who works in his parents ' basement , is seen xxunk stirring some xxunk in a cup . xxmaj apparently , such high - level science is the end - result of years of research . xxmaj his parents then send him off to a strange hotel - type place in the countryside to xxunk . xxmaj there are some other people there , who are simply too awful to write about . xxmaj anyway , the scientist drops his test - xxunk onto some mushrooms - and soon the mushrooms grow and kill some people . ( xxmaj wow , i 'm getting xxunk just writing the plot summary ) . xxmaj our heroes save the day by xxunk a barrel of xxunk xxunk ( by xxunk a \" xxunk \" - really a piece of string - to it ) . xxmaj the barrel xxunk xxunk with the power of a small nuclear weapon , destroying all the mushrooms . xxmaj the end . ( xxmaj thank goodness ) . \n",
       "\n",
       " xxmaj that summary is as good as the \" film \" gets ( and actually makes it sound a lot more interesting than it actually is ) . xxmaj it really should never have got past this stage of development ( by which i mean a plot outline xxunk on the back of an xxunk with xxunk ) . xxmaj somebody should have really xxunk in and given someone a xxunk shake and said \" xxup no . \" \n",
       "\n",
       " xxmaj and those \" special \" effects . xxmaj well , they 're \" special \" all right . xxmaj this is xxup cgi gone crazy . xxmaj and done by a person who i can only assume believes the xxunk xxunk to be the xxunk of modern technology . xxmaj and when the xxunk monsters are not in the style of a xxunk home computer graphics xxunk , they are represented by actors xxunk along covered in a xxunk ( i kid you not ) . \n",
       "\n",
       " xxmaj one of the most xxunk things about the movie is its xxunk . xxmaj this can be xxunk up by the scene in which the hero xxunk his guns ( a la xxmaj clint xxmaj xxunk ) and then fails miserably to get them in his xxunk . i mean come on , a couple of xxunk and he could have pulled it off , but just to leave it as it is - really weak . \n",
       "\n",
       " i can not believe money was spent on this camcorder - shot rubbish . xxmaj the \" film \"- makers should hang their heads in shame and be xxunk from going within fifty xxunk of any movie - making equipment . \n",
       "\n",
       " i also think it 's wrong that friends and family of the makers come onto imdb and post xxunk reviews and give xxunk high user ratings which give a totally inaccurate picture of the \" movie . \" \" xxmaj xxunk \" is an absolute travesty of film - making . xxmaj mr xxmaj xxunk is either very , very stupid or very , very cynical ."
      ]
     },
     "execution_count": 22,
     "metadata": {},
     "output_type": "execute_result"
    }
   ],
   "source": [
    "data.train_ds[0][0]"
   ]
  },
  {
   "cell_type": "code",
   "execution_count": 23,
   "metadata": {},
   "outputs": [
    {
     "data": {
      "text/plain": [
       "fastai.text.data.Text"
      ]
     },
     "execution_count": 23,
     "metadata": {},
     "output_type": "execute_result"
    }
   ],
   "source": [
    "type(data.train_ds[0][0])"
   ]
  },
  {
   "cell_type": "code",
   "execution_count": 24,
   "metadata": {},
   "outputs": [
    {
     "data": {
      "text/plain": [
       "array([  2,  21,   4,   0,  21,  15, 177, 860,   8, 109])"
      ]
     },
     "execution_count": 24,
     "metadata": {},
     "output_type": "execute_result"
    }
   ],
   "source": [
    "data.train_ds[0][0].data[:10]"
   ]
  },
  {
   "cell_type": "markdown",
   "metadata": {},
   "source": [
    "# Datablock API: more comprehensive"
   ]
  },
  {
   "cell_type": "markdown",
   "metadata": {},
   "source": [
    "we have to manually call the tokenize and numericalize steps. This allows more flexibility, and if you're not using the defaults from fastai, the variaous arguments to pass will appear in the step they're revelant, so it'll be more readable."
   ]
  },
  {
   "cell_type": "code",
   "execution_count": 25,
   "metadata": {},
   "outputs": [],
   "source": [
    "data = (TextList.from_csv(path, 'texts.csv', cols='text')\n",
    "                .split_from_df(col=2)\n",
    "                .label_from_df(cols=0)\n",
    "                .databunch())"
   ]
  },
  {
   "cell_type": "code",
   "execution_count": 26,
   "metadata": {},
   "outputs": [
    {
     "data": {
      "text/plain": [
       "Text xxbos xxmaj un - xxunk - believable ! xxmaj meg xxmaj ryan does n't even look her usual xxunk lovable self in this , which normally makes me forgive her shallow xxunk acting xxunk . xxmaj hard to believe she was the producer on this dog . xxmaj plus xxmaj kevin xxmaj kline : what kind of suicide trip has his career been on ? xxmaj xxunk ... xxmaj xxunk ! ! ! xxmaj finally this was directed by the guy who did xxmaj big xxmaj xxunk ? xxmaj must be a replay of xxmaj jonestown - hollywood style . xxmaj xxunk !"
      ]
     },
     "execution_count": 26,
     "metadata": {},
     "output_type": "execute_result"
    }
   ],
   "source": [
    "data.train_ds[0][0]"
   ]
  },
  {
   "cell_type": "markdown",
   "metadata": {},
   "source": [
    "# Language model on full dataset"
   ]
  },
  {
   "cell_type": "markdown",
   "metadata": {},
   "source": [
    "Dataset\n",
    "\n",
    "The core dataset contains 50,000 reviews split evenly into 25k train\n",
    "and 25k test sets. The overall distribution of labels is balanced (25k\n",
    "pos and 25k neg). We also include an additional 50,000 unlabeled\n",
    "documents for unsupervised learning."
   ]
  },
  {
   "cell_type": "code",
   "execution_count": 3,
   "metadata": {},
   "outputs": [
    {
     "data": {
      "text/plain": [
       "[PosixPath('/home/quantran/.fastai/data/imdb/README'),\n",
       " PosixPath('/home/quantran/.fastai/data/imdb/train'),\n",
       " PosixPath('/home/quantran/.fastai/data/imdb/tmp_lm'),\n",
       " PosixPath('/home/quantran/.fastai/data/imdb/tmp_clas'),\n",
       " PosixPath('/home/quantran/.fastai/data/imdb/models'),\n",
       " PosixPath('/home/quantran/.fastai/data/imdb/unsup'),\n",
       " PosixPath('/home/quantran/.fastai/data/imdb/test'),\n",
       " PosixPath('/home/quantran/.fastai/data/imdb/imdb.vocab')]"
      ]
     },
     "execution_count": 3,
     "metadata": {},
     "output_type": "execute_result"
    }
   ],
   "source": [
    "path = untar_data(URLs.IMDB)\n",
    "path.ls()"
   ]
  },
  {
   "cell_type": "code",
   "execution_count": 4,
   "metadata": {},
   "outputs": [
    {
     "data": {
      "text/plain": [
       "[PosixPath('/home/quantran/.fastai/data/imdb/train/neg'),\n",
       " PosixPath('/home/quantran/.fastai/data/imdb/train/pos'),\n",
       " PosixPath('/home/quantran/.fastai/data/imdb/train/labeledBow.feat'),\n",
       " PosixPath('/home/quantran/.fastai/data/imdb/train/unsupBow.feat')]"
      ]
     },
     "execution_count": 4,
     "metadata": {},
     "output_type": "execute_result"
    }
   ],
   "source": [
    "(path/'train').ls()"
   ]
  },
  {
   "cell_type": "markdown",
   "metadata": {},
   "source": [
    "## fine-tune Wiki pretrained model to our particular dataset."
   ]
  },
  {
   "cell_type": "code",
   "execution_count": 31,
   "metadata": {},
   "outputs": [],
   "source": [
    "# data_lm = (TextList.from_folder(path)\n",
    "#            #Inputs: all the text files in path\n",
    "#             .filter_by_folder(include=['train', 'test', 'unsup']) \n",
    "#            #We may have other temp folders that contain text files so we only keep what's in train and test\n",
    "#             .random_split_by_pct(0.1)\n",
    "#            #We randomly split and keep 10% (10,000 reviews) for validation\n",
    "#             .label_for_lm()           \n",
    "#            #We want to do a language model so we label accordingly\n",
    "#             .databunch(bs=bs))\n",
    "# data_lm.save('tmp_lm')"
   ]
  },
  {
   "cell_type": "markdown",
   "metadata": {},
   "source": [
    "We concatenate the training and test set together and randomly splitting it by 10%"
   ]
  },
  {
   "cell_type": "markdown",
   "metadata": {},
   "source": [
    "Since training language model is **self supervised learning**: classic supervised model﹣we have labels, but the labels are not things that somebody else have created. They're built into the dataset itself"
   ]
  },
  {
   "cell_type": "code",
   "execution_count": 5,
   "metadata": {},
   "outputs": [],
   "source": [
    "bs=80"
   ]
  },
  {
   "cell_type": "code",
   "execution_count": 6,
   "metadata": {},
   "outputs": [],
   "source": [
    "data_lm = TextLMDataBunch.load(path, 'tmp_lm', bs=bs)"
   ]
  },
  {
   "cell_type": "code",
   "execution_count": 7,
   "metadata": {},
   "outputs": [
    {
     "data": {
      "text/html": [
       "<table>  <col width='5%'>  <col width='95%'>  <tr>\n",
       "    <th>idx</th>\n",
       "    <th>text</th>\n",
       "  </tr>\n",
       "  <tr>\n",
       "    <th>0</th>\n",
       "    <th>xxmaj the thing is i knew this before starting to watch . xxmaj but , despite this , i was still looking forward to it . xxmaj in the right hands , with a good cast and a bright script it can still be a pleasant way to pass a couple of hours . \\n\\n this was none of these . \\n\\n this was dire . \\n\\n a female lead</th>\n",
       "  </tr>\n",
       "  <tr>\n",
       "    <th>1</th>\n",
       "    <th>terms of fact . i can assume though , from your distaste regarding youth , that you are of sufficient age where the mannered acting of bygone days is more to your taste . \\n\\n xxmaj my personal favourite pairing was xxmaj rylance and mcteer on the xxmaj london stage . xxmaj unlike xxmaj xxunk , mcteer , a skilled and charismatic performer , can act . xxbos xxmaj within</th>\n",
       "  </tr>\n",
       "  <tr>\n",
       "    <th>2</th>\n",
       "    <th>'s sister in front of his girlfriend 's family , her character seems to change in lightning - flash strokes making it hard to see what xxmaj drew would see in her . xxmaj the story spins completely out of control by the last third with one contrived situation piled on top of another until plot strands are tied together in short order . xxmaj it 's rumored that much</th>\n",
       "  </tr>\n",
       "  <tr>\n",
       "    <th>3</th>\n",
       "    <th>then i realized i could just watch the three stooges for free and laugh more ! \\n\\n xxmaj whatever respect i might have had for xxmaj samuel xxmaj jackson has been irreversibly destroyed . xxmaj and xxmaj hollywood demonstrates once again how removed from reality they really are . xxmaj when i was a kid we used to catch snakes for fun . xxmaj the only thing snakes would do</th>\n",
       "  </tr>\n",
       "  <tr>\n",
       "    <th>4</th>\n",
       "    <th>. xxmaj meg xxmaj ryan is her usual affable self and the chemistry between she and xxmaj robbins is charming , like that of an affectionate sister and her big brother . * * from xxrep 4 * xxbos but there are not too many of them . xxmaj probably the worst \" major release \" film i have seen in my life . xxmaj definitely the worst for this</th>\n",
       "  </tr>\n",
       "</table>\n"
      ],
      "text/plain": [
       "<IPython.core.display.HTML object>"
      ]
     },
     "metadata": {},
     "output_type": "display_data"
    }
   ],
   "source": [
    "data_lm.show_batch()"
   ]
  },
  {
   "cell_type": "markdown",
   "metadata": {},
   "source": [
    "## train language model"
   ]
  },
  {
   "cell_type": "markdown",
   "metadata": {},
   "source": [
    "Specify drop_mult (dropout) to be 0.3. High drop_mult = high regularization, however model is underfitting -> reduce drop_mult"
   ]
  },
  {
   "cell_type": "code",
   "execution_count": 8,
   "metadata": {},
   "outputs": [],
   "source": [
    "learn = language_model_learner(data_lm, pretrained_model=URLs.WT103_1, drop_mult=0.3)"
   ]
  },
  {
   "cell_type": "code",
   "execution_count": 9,
   "metadata": {},
   "outputs": [],
   "source": [
    "learn = learn.to_fp16()"
   ]
  },
  {
   "cell_type": "code",
   "execution_count": 13,
   "metadata": {},
   "outputs": [
    {
     "name": "stdout",
     "output_type": "stream",
     "text": [
      "LR Finder is complete, type {learner_name}.recorder.plot() to see the graph.\n"
     ]
    },
    {
     "data": {
      "image/png": "[encoded data removed]",
      "text/plain": [
       "<Figure size 432x288 with 1 Axes>"
      ]
     },
     "metadata": {
      "needs_background": "light"
     },
     "output_type": "display_data"
    }
   ],
   "source": [
    "learn.lr_find()\n",
    "learn.recorder.plot(skip_end=15)"
   ]
  },
  {
   "cell_type": "markdown",
   "metadata": {},
   "source": [
    "TODO: explaining moms"
   ]
  },
  {
   "cell_type": "code",
   "execution_count": 15,
   "metadata": {},
   "outputs": [
    {
     "data": {
      "text/html": [
       "Total time: 32:22 <p><table style='width:300px; margin-bottom:10px'>\n",
       "  <tr>\n",
       "    <th>epoch</th>\n",
       "    <th>train_loss</th>\n",
       "    <th>valid_loss</th>\n",
       "    <th>accuracy</th>\n",
       "  </tr>\n",
       "  <tr>\n",
       "    <th>1</th>\n",
       "    <th>4.111014</th>\n",
       "    <th>3.980875</th>\n",
       "    <th>0.296776</th>\n",
       "  </tr>\n",
       "</table>\n"
      ],
      "text/plain": [
       "<IPython.core.display.HTML object>"
      ]
     },
     "metadata": {},
     "output_type": "display_data"
    }
   ],
   "source": [
    "learn.fit_one_cycle(1, 1e-2, moms=(0.8,0.7))"
   ]
  },
  {
   "cell_type": "code",
   "execution_count": 16,
   "metadata": {},
   "outputs": [],
   "source": [
    "# learn.save('fit_head')"
   ]
  },
  {
   "cell_type": "code",
   "execution_count": 13,
   "metadata": {},
   "outputs": [
    {
     "data": {
      "text/plain": [
       "56"
      ]
     },
     "execution_count": 13,
     "metadata": {},
     "output_type": "execute_result"
    }
   ],
   "source": [
    "import gc\n",
    "del data_lm\n",
    "del learn\n",
    "gc.collect()"
   ]
  },
  {
   "cell_type": "code",
   "execution_count": 10,
   "metadata": {},
   "outputs": [],
   "source": [
    "bs=75\n",
    "\n",
    "data_lm = TextLMDataBunch.load(path, 'tmp_lm', bs=bs)"
   ]
  },
  {
   "cell_type": "code",
   "execution_count": 11,
   "metadata": {},
   "outputs": [],
   "source": [
    "learn = language_model_learner(data_lm, pretrained_model=URLs.WT103_1, drop_mult=0.3)\n",
    "\n",
    "learn = learn.to_fp16()"
   ]
  },
  {
   "cell_type": "code",
   "execution_count": 16,
   "metadata": {},
   "outputs": [],
   "source": [
    "learn.load('fit_head');"
   ]
  },
  {
   "cell_type": "code",
   "execution_count": 17,
   "metadata": {},
   "outputs": [],
   "source": [
    "learn.unfreeze()"
   ]
  },
  {
   "cell_type": "code",
   "execution_count": null,
   "metadata": {},
   "outputs": [
    {
     "data": {
      "text/html": [
       "\n",
       "    <div>\n",
       "        <style>\n",
       "            /* Turns off some styling */\n",
       "            progress {\n",
       "                /* gets rid of default border in Firefox and Opera. */\n",
       "                border: none;\n",
       "                /* Needs to be in here for Safari polyfill so background images work as expected. */\n",
       "                background-size: auto;\n",
       "            }\n",
       "            .progress-bar-interrupted, .progress-bar-interrupted::-webkit-progress-bar {\n",
       "                background: #F44336;\n",
       "            }\n",
       "        </style>\n",
       "      <progress value='0' class='' max='1', style='width:300px; height:20px; vertical-align: middle;'></progress>\n",
       "      0.00% [0/1 00:00<00:00]\n",
       "    </div>\n",
       "    \n",
       "<table style='width:300px; margin-bottom:10px'>\n",
       "  <tr>\n",
       "    <th>epoch</th>\n",
       "    <th>train_loss</th>\n",
       "    <th>valid_loss</th>\n",
       "    <th>accuracy</th>\n",
       "  </tr>\n",
       "</table>\n",
       "\n",
       "\n",
       "    <div>\n",
       "        <style>\n",
       "            /* Turns off some styling */\n",
       "            progress {\n",
       "                /* gets rid of default border in Firefox and Opera. */\n",
       "                border: none;\n",
       "                /* Needs to be in here for Safari polyfill so background images work as expected. */\n",
       "                background-size: auto;\n",
       "            }\n",
       "            .progress-bar-interrupted, .progress-bar-interrupted::-webkit-progress-bar {\n",
       "                background: #F44336;\n",
       "            }\n",
       "        </style>\n",
       "      <progress value='4252' class='' max='5151', style='width:300px; height:20px; vertical-align: middle;'></progress>\n",
       "      82.55% [4252/5151 28:38<06:03 3.8081]\n",
       "    </div>\n",
       "    "
      ],
      "text/plain": [
       "<IPython.core.display.HTML object>"
      ]
     },
     "metadata": {},
     "output_type": "display_data"
    }
   ],
   "source": [
    "learn.fit_one_cycle(1, 1e-3, moms=(0.8,0.7))"
   ]
  },
  {
   "cell_type": "code",
   "execution_count": 21,
   "metadata": {},
   "outputs": [],
   "source": [
    "# learn.save('fine_tuned')"
   ]
  },
  {
   "cell_type": "code",
   "execution_count": null,
   "metadata": {},
   "outputs": [],
   "source": [
    "# learn.save_encoder('fine_tuned_enc')"
   ]
  },
  {
   "cell_type": "markdown",
   "metadata": {},
   "source": [
    "# Load trained model: predict next words"
   ]
  },
  {
   "cell_type": "code",
   "execution_count": 6,
   "metadata": {},
   "outputs": [],
   "source": [
    "path = untar_data(URLs.IMDB)\n",
    "bs=75\n",
    "\n",
    "data_lm = TextLMDataBunch.load(path, 'tmp_lm', bs=bs)\n",
    "\n",
    "learn = language_model_learner(data_lm, pretrained_model=URLs.WT103_1, drop_mult=0.3)\n",
    "\n",
    "learn = learn.to_fp16()\n"
   ]
  },
  {
   "cell_type": "code",
   "execution_count": 7,
   "metadata": {},
   "outputs": [],
   "source": [
    "learn.load('fine_tuned');"
   ]
  },
  {
   "cell_type": "code",
   "execution_count": 8,
   "metadata": {},
   "outputs": [],
   "source": [
    "TEXT = \"I liked this movie because\"\n",
    "N_WORDS = 40\n",
    "N_SENTENCES = 2"
   ]
  },
  {
   "cell_type": "markdown",
   "metadata": {},
   "source": [
    "Less temperature: more randomized"
   ]
  },
  {
   "cell_type": "code",
   "execution_count": 14,
   "metadata": {},
   "outputs": [
    {
     "data": {
      "text/plain": [
       "'I liked this movie because it was a very good movie . xxmaj it was a great movie , and i have to say that i was very impressed with the acting . xxmaj the story was good , and the acting was good .'"
      ]
     },
     "execution_count": 14,
     "metadata": {},
     "output_type": "execute_result"
    }
   ],
   "source": [
    "learn.predict(TEXT, N_WORDS, temperature=0.2)"
   ]
  },
  {
   "cell_type": "code",
   "execution_count": 15,
   "metadata": {},
   "outputs": [
    {
     "data": {
      "text/plain": [
       "\"I liked this movie because of the fact that i found it very funny . xxmaj it is funny and fun at times , and i 'm not just a fan of xxmaj stephen xxmaj king 's movies . xxmaj but this movie is a\""
      ]
     },
     "execution_count": 15,
     "metadata": {},
     "output_type": "execute_result"
    }
   ],
   "source": [
    "learn.predict(TEXT, N_WORDS, temperature=0.5)"
   ]
  },
  {
   "cell_type": "code",
   "execution_count": 16,
   "metadata": {},
   "outputs": [
    {
     "data": {
      "text/plain": [
       "'I liked this movie because i was quite entertained by the acting . xxmaj the rest of the cast is terrific . xxmaj the main character is very likable and is a xxmaj fox xxmaj news reporter . xxmaj the movie is also very funny'"
      ]
     },
     "execution_count": 16,
     "metadata": {},
     "output_type": "execute_result"
    }
   ],
   "source": [
    "learn.predict(TEXT, N_WORDS, temperature=0.75)"
   ]
  },
  {
   "cell_type": "code",
   "execution_count": 17,
   "metadata": {},
   "outputs": [
    {
     "data": {
      "text/plain": [
       "'I liked this movie because it was over and over again with the exception of the ending . xxmaj most of the reviewers referred to this as a rip off of xxmaj cabin xxmaj fever as much to enjoy . xxmaj however , i almost'"
      ]
     },
     "execution_count": 17,
     "metadata": {},
     "output_type": "execute_result"
    }
   ],
   "source": [
    "learn.predict(TEXT, N_WORDS, temperature=1)"
   ]
  },
  {
   "cell_type": "code",
   "execution_count": 18,
   "metadata": {},
   "outputs": [
    {
     "data": {
      "text/plain": [
       "'I liked this movie because of xxmaj karyo as original rich owner something that has is character to effect in the serious and conveys the consequences of living up to follow in the tradition of having to set him death destitute covering this time .'"
      ]
     },
     "execution_count": 18,
     "metadata": {},
     "output_type": "execute_result"
    }
   ],
   "source": [
    "learn.predict(TEXT, N_WORDS, temperature=1.25)"
   ]
  },
  {
   "cell_type": "code",
   "execution_count": 19,
   "metadata": {},
   "outputs": [
    {
     "data": {
      "text/plain": [
       "'I liked this movie because tragically for its casting ineptness ! xxmaj that shift investigation asking characters does indeed resemble shrug extraordinarily ? xxbos monster raw horror movie under mediocre execution maybe would be bordering up dead with assassination corruption simultaneously . jackson isolated aging'"
      ]
     },
     "execution_count": 19,
     "metadata": {},
     "output_type": "execute_result"
    }
   ],
   "source": [
    "learn.predict(TEXT, N_WORDS, temperature=1.5)"
   ]
  },
  {
   "cell_type": "code",
   "execution_count": 20,
   "metadata": {},
   "outputs": [
    {
     "data": {
      "text/plain": [
       "'I liked this movie because expect annual at such subtle secrecy present blares furs , puma jones programs klimovsky eggs legs to secretive mandy - observer shaking faltering retreats painter dizzying policemen bangers kod kernels gunman hops limits walter actioner jacketed hindi conductor levant ringer'"
      ]
     },
     "execution_count": 20,
     "metadata": {},
     "output_type": "execute_result"
    }
   ],
   "source": [
    "learn.predict(TEXT, N_WORDS, temperature=2)"
   ]
  },
  {
   "cell_type": "markdown",
   "metadata": {},
   "source": [
    "# Encoder"
   ]
  },
  {
   "cell_type": "code",
   "execution_count": 26,
   "metadata": {},
   "outputs": [],
   "source": [
    "enc = get_model(learn.model)"
   ]
  },
  {
   "cell_type": "code",
   "execution_count": 32,
   "metadata": {},
   "outputs": [
    {
     "data": {
      "text/plain": [
       "SequentialRNN(\n",
       "  (0): RNNCore(\n",
       "    (encoder): Embedding(60003, 400, padding_idx=1)\n",
       "    (encoder_dp): EmbeddingDropout(\n",
       "      (emb): Embedding(60003, 400, padding_idx=1)\n",
       "    )\n",
       "    (rnns): ModuleList(\n",
       "      (0): WeightDropout(\n",
       "        (module): LSTM(400, 1150, batch_first=True)\n",
       "      )\n",
       "      (1): WeightDropout(\n",
       "        (module): LSTM(1150, 1150, batch_first=True)\n",
       "      )\n",
       "      (2): WeightDropout(\n",
       "        (module): LSTM(1150, 400, batch_first=True)\n",
       "      )\n",
       "    )\n",
       "    (input_dp): RNNDropout()\n",
       "    (hidden_dps): ModuleList(\n",
       "      (0): RNNDropout()\n",
       "      (1): RNNDropout()\n",
       "      (2): RNNDropout()\n",
       "    )\n",
       "  )\n",
       "  (1): LinearDecoder(\n",
       "    (decoder): Linear(in_features=400, out_features=60003, bias=True)\n",
       "    (output_dp): RNNDropout()\n",
       "  )\n",
       ")"
      ]
     },
     "execution_count": 32,
     "metadata": {},
     "output_type": "execute_result"
    }
   ],
   "source": [
    "enc"
   ]
  },
  {
   "cell_type": "code",
   "execution_count": 31,
   "metadata": {},
   "outputs": [
    {
     "data": {
      "text/plain": [
       "RNNCore(\n",
       "  (encoder): Embedding(60003, 400, padding_idx=1)\n",
       "  (encoder_dp): EmbeddingDropout(\n",
       "    (emb): Embedding(60003, 400, padding_idx=1)\n",
       "  )\n",
       "  (rnns): ModuleList(\n",
       "    (0): WeightDropout(\n",
       "      (module): LSTM(400, 1150, batch_first=True)\n",
       "    )\n",
       "    (1): WeightDropout(\n",
       "      (module): LSTM(1150, 1150, batch_first=True)\n",
       "    )\n",
       "    (2): WeightDropout(\n",
       "      (module): LSTM(1150, 400, batch_first=True)\n",
       "    )\n",
       "  )\n",
       "  (input_dp): RNNDropout()\n",
       "  (hidden_dps): ModuleList(\n",
       "    (0): RNNDropout()\n",
       "    (1): RNNDropout()\n",
       "    (2): RNNDropout()\n",
       "  )\n",
       ")"
      ]
     },
     "execution_count": 31,
     "metadata": {},
     "output_type": "execute_result"
    }
   ],
   "source": [
    "enc[0]"
   ]
  },
  {
   "cell_type": "code",
   "execution_count": 33,
   "metadata": {},
   "outputs": [],
   "source": [
    "enc=enc[0]"
   ]
  },
  {
   "cell_type": "code",
   "execution_count": 39,
   "metadata": {},
   "outputs": [
    {
     "data": {
      "text/plain": [
       "17"
      ]
     },
     "execution_count": 39,
     "metadata": {},
     "output_type": "execute_result"
    }
   ],
   "source": [
    "len(enc.state_dict())"
   ]
  },
  {
   "cell_type": "code",
   "execution_count": 40,
   "metadata": {},
   "outputs": [],
   "source": [
    "dic = enc.state_dict()"
   ]
  },
  {
   "cell_type": "code",
   "execution_count": 43,
   "metadata": {},
   "outputs": [
    {
     "data": {
      "text/plain": [
       "torch.Size([60003, 400])"
      ]
     },
     "execution_count": 43,
     "metadata": {},
     "output_type": "execute_result"
    }
   ],
   "source": [
    "dic['encoder.weight'].shape"
   ]
  },
  {
   "cell_type": "code",
   "execution_count": 44,
   "metadata": {},
   "outputs": [
    {
     "data": {
      "text/plain": [
       "tensor([[ 0.1444,  0.0519, -0.2300,  ..., -0.1754, -0.0109, -0.1000],\n",
       "        [ 0.2095, -0.0574,  0.1385,  ..., -0.0277, -0.0631, -0.1113],\n",
       "        [-0.8438, -0.1164,  0.6021,  ..., -0.8701,  0.1510,  0.7476],\n",
       "        ...,\n",
       "        [ 0.2101, -0.0831,  0.2074,  ..., -0.1525, -0.0403,  0.0116],\n",
       "        [ 0.2324, -0.1403,  0.1434,  ..., -0.1897, -0.0130,  0.0598],\n",
       "        [ 0.2295, -0.1414,  0.1672,  ..., -0.0815, -0.0493, -0.0222]],\n",
       "       device='cuda:0', dtype=torch.float16)"
      ]
     },
     "execution_count": 44,
     "metadata": {},
     "output_type": "execute_result"
    }
   ],
   "source": [
    "dic['encoder.weight']"
   ]
  },
  {
   "cell_type": "markdown",
   "metadata": {},
   "source": [
    "# Classifier"
   ]
  },
  {
   "cell_type": "markdown",
   "metadata": {},
   "source": [
    "```\n",
    "data_lm = (TextList.from_folder(path)\n",
    "           #Inputs: all the text files in path\n",
    "            .filter_by_folder(include=['train', 'test', 'unsup']) \n",
    "           #We may have other temp folders that contain text files so we only keep what's in train and test\n",
    "            .random_split_by_pct(0.1)\n",
    "           #We randomly split and keep 10% (10,000 reviews) for validation\n",
    "            .label_for_lm()           \n",
    "           #We want to do a language model so we label accordingly\n",
    "            .databunch(bs=bs))\n",
    "```"
   ]
  },
  {
   "cell_type": "code",
   "execution_count": 1,
   "metadata": {},
   "outputs": [],
   "source": [
    "%reload_ext autoreload\n",
    "%autoreload 2\n",
    "%matplotlib inline"
   ]
  },
  {
   "cell_type": "code",
   "execution_count": 2,
   "metadata": {},
   "outputs": [],
   "source": [
    "from fastai.text import *"
   ]
  },
  {
   "cell_type": "code",
   "execution_count": 3,
   "metadata": {},
   "outputs": [],
   "source": [
    "path = untar_data(URLs.IMDB)"
   ]
  },
  {
   "cell_type": "code",
   "execution_count": 4,
   "metadata": {},
   "outputs": [],
   "source": [
    "bs=30 #does not really matter if bs larger than this (in training only)!\n"
   ]
  },
  {
   "cell_type": "markdown",
   "metadata": {},
   "source": [
    "we pass in the vocab from the language model to make sure that this data bunch is going to have exactly the same vocab. That's an important step."
   ]
  },
  {
   "cell_type": "code",
   "execution_count": 5,
   "metadata": {},
   "outputs": [],
   "source": [
    "# data_clas = (TextList.from_folder(path, vocab=data_lm.vocab)\n",
    "#              #grab all the text files in path\n",
    "#              .split_by_folder(valid='test')\n",
    "#              #split by train and valid folder (that only keeps 'train' and 'test' so no need to filter)\n",
    "#              .label_from_folder(classes=['neg', 'pos'])\n",
    "#              #label them all with their folders\n",
    "#              .databunch(bs=bs))\n",
    "\n",
    "# data_clas.save('tmp_clas')"
   ]
  },
  {
   "cell_type": "code",
   "execution_count": 5,
   "metadata": {},
   "outputs": [],
   "source": [
    "data_clas = TextClasDataBunch.load(path, 'tmp_clas', bs=bs)"
   ]
  },
  {
   "cell_type": "code",
   "execution_count": 7,
   "metadata": {},
   "outputs": [
    {
     "data": {
      "text/html": [
       "<table>  <col width='90%'>  <col width='10%'>  <tr>\n",
       "    <th>text</th>\n",
       "    <th>target</th>\n",
       "  </tr>\n",
       "  <tr>\n",
       "    <th>xxbos xxmaj match 1 : xxmaj tag xxmaj team xxmaj table xxmaj match xxmaj bubba xxmaj ray and xxmaj spike xxmaj dudley vs xxmaj eddie xxmaj guerrero and xxmaj chris xxmaj benoit xxmaj bubba xxmaj ray and xxmaj spike xxmaj dudley started things off with a xxmaj tag xxmaj team xxmaj table xxmaj match against xxmaj eddie xxmaj guerrero and xxmaj chris xxmaj benoit . xxmaj according to the rules</th>\n",
       "    <th>pos</th>\n",
       "  </tr>\n",
       "  <tr>\n",
       "    <th>xxbos xxmaj warning : xxmaj does contain spoilers . \\n\\n xxmaj open xxmaj your xxmaj eyes \\n\\n xxmaj if you have not seen this film and plan on doing so , just stop reading here and take my word for it . xxmaj you have to see this film . i have seen it four times so far and i still have n't made up my mind as to what</th>\n",
       "    <th>pos</th>\n",
       "  </tr>\n",
       "  <tr>\n",
       "    <th>xxbos xxmaj this movie was recently released on xxup dvd in the xxup us and i finally got the chance to see this hard - to - find gem . xxmaj it even came with original theatrical previews of other xxmaj italian horror classics like \" xxup xxunk \" and \" xxup beyond xxup the xxup darkness \" . xxmaj unfortunately , the previews were the best thing about this</th>\n",
       "    <th>neg</th>\n",
       "  </tr>\n",
       "  <tr>\n",
       "    <th>xxbos i thought that xxup rotj was clearly the best out of the three xxmaj star xxmaj wars movies . i find it surprising that xxup rotj is considered the weakest installment in the xxmaj trilogy by many who have voted . xxmaj to me it seemed like xxup rotj was the best because it had the most profound plot , the most suspense , surprises , most xxunk the</th>\n",
       "    <th>pos</th>\n",
       "  </tr>\n",
       "  <tr>\n",
       "    <th>xxbos xxmaj heavy - handed moralism . xxmaj writers using characters as mouthpieces to speak for themselves . xxmaj predictable , plodding plot points ( say that five times fast ) . a child 's imitation of xxmaj britney xxmaj spears . xxmaj this film has all the earmarks of a xxmaj lifetime xxmaj special reject . \\n\\n i honestly believe that xxmaj jesus xxmaj xxunk and xxmaj julia xxmaj</th>\n",
       "    <th>neg</th>\n",
       "  </tr>\n",
       "</table>\n"
      ],
      "text/plain": [
       "<IPython.core.display.HTML object>"
      ]
     },
     "metadata": {},
     "output_type": "display_data"
    }
   ],
   "source": [
    "data_clas.show_batch()"
   ]
  },
  {
   "cell_type": "markdown",
   "metadata": {},
   "source": [
    "## Load encoder"
   ]
  },
  {
   "cell_type": "code",
   "execution_count": 9,
   "metadata": {},
   "outputs": [],
   "source": [
    "# import gc\n",
    "# del learn\n",
    "# gc.collect()"
   ]
  },
  {
   "cell_type": "code",
   "execution_count": 6,
   "metadata": {},
   "outputs": [],
   "source": [
    "learn = text_classifier_learner(data_clas, drop_mult=0.5)\n",
    "learn.load_encoder('fine_tuned_enc')\n",
    "learn.freeze()"
   ]
  },
  {
   "cell_type": "code",
   "execution_count": 7,
   "metadata": {},
   "outputs": [],
   "source": [
    "learn = learn.to_fp16()"
   ]
  },
  {
   "cell_type": "code",
   "execution_count": 9,
   "metadata": {},
   "outputs": [
    {
     "data": {
      "text/plain": [
       "SequentialRNN(\n",
       "  (0): MultiBatchRNNCore(\n",
       "    (encoder): Embedding(60003, 400, padding_idx=1)\n",
       "    (encoder_dp): EmbeddingDropout(\n",
       "      (emb): Embedding(60003, 400, padding_idx=1)\n",
       "    )\n",
       "    (rnns): ModuleList(\n",
       "      (0): WeightDropout(\n",
       "        (module): LSTM(400, 1150, batch_first=True)\n",
       "      )\n",
       "      (1): WeightDropout(\n",
       "        (module): LSTM(1150, 1150, batch_first=True)\n",
       "      )\n",
       "      (2): WeightDropout(\n",
       "        (module): LSTM(1150, 400, batch_first=True)\n",
       "      )\n",
       "    )\n",
       "    (input_dp): RNNDropout()\n",
       "    (hidden_dps): ModuleList(\n",
       "      (0): RNNDropout()\n",
       "      (1): RNNDropout()\n",
       "      (2): RNNDropout()\n",
       "    )\n",
       "  )\n",
       "  (1): PoolingLinearClassifier(\n",
       "    (layers): Sequential(\n",
       "      (0): BatchNorm1d(1200, eps=1e-05, momentum=0.1, affine=True, track_running_stats=True)\n",
       "      (1): Dropout(p=0.2)\n",
       "      (2): Linear(in_features=1200, out_features=50, bias=True)\n",
       "      (3): ReLU(inplace)\n",
       "      (4): BatchNorm1d(50, eps=1e-05, momentum=0.1, affine=True, track_running_stats=True)\n",
       "      (5): Dropout(p=0.1)\n",
       "      (6): Linear(in_features=50, out_features=2, bias=True)\n",
       "    )\n",
       "  )\n",
       ")"
      ]
     },
     "execution_count": 9,
     "metadata": {},
     "output_type": "execute_result"
    }
   ],
   "source": [
    "learn.model"
   ]
  },
  {
   "cell_type": "code",
   "execution_count": 57,
   "metadata": {},
   "outputs": [
    {
     "name": "stdout",
     "output_type": "stream",
     "text": [
      "LR Finder is complete, type {learner_name}.recorder.plot() to see the graph.\n"
     ]
    },
    {
     "data": {
      "image/png": "[encoded data removed]",
      "text/plain": [
       "<Figure size 432x288 with 1 Axes>"
      ]
     },
     "metadata": {
      "needs_background": "light"
     },
     "output_type": "display_data"
    }
   ],
   "source": [
    "learn.lr_find()\n",
    "learn.recorder.plot()"
   ]
  },
  {
   "cell_type": "code",
   "execution_count": 12,
   "metadata": {},
   "outputs": [
    {
     "data": {
      "text/html": [
       "Total time: 02:51 <p><table style='width:300px; margin-bottom:10px'>\n",
       "  <tr>\n",
       "    <th>epoch</th>\n",
       "    <th>train_loss</th>\n",
       "    <th>valid_loss</th>\n",
       "    <th>accuracy</th>\n",
       "  </tr>\n",
       "  <tr>\n",
       "    <th>1</th>\n",
       "    <th>0.356201</th>\n",
       "    <th>0.259572</th>\n",
       "    <th>0.893360</th>\n",
       "  </tr>\n",
       "</table>\n"
      ],
      "text/plain": [
       "<IPython.core.display.HTML object>"
      ]
     },
     "metadata": {},
     "output_type": "display_data"
    }
   ],
   "source": [
    "learn.fit_one_cycle(1, 2e-2, moms=(0.8,0.7))"
   ]
  },
  {
   "cell_type": "code",
   "execution_count": 13,
   "metadata": {},
   "outputs": [],
   "source": [
    "# learn.save('first')"
   ]
  },
  {
   "cell_type": "code",
   "execution_count": 15,
   "metadata": {},
   "outputs": [],
   "source": [
    "learn.load('first');"
   ]
  },
  {
   "cell_type": "code",
   "execution_count": 16,
   "metadata": {},
   "outputs": [
    {
     "data": {
      "text/html": [
       "Total time: 03:16 <p><table style='width:300px; margin-bottom:10px'>\n",
       "  <tr>\n",
       "    <th>epoch</th>\n",
       "    <th>train_loss</th>\n",
       "    <th>valid_loss</th>\n",
       "    <th>accuracy</th>\n",
       "  </tr>\n",
       "  <tr>\n",
       "    <th>1</th>\n",
       "    <th>0.283345</th>\n",
       "    <th>0.208498</th>\n",
       "    <th>0.919560</th>\n",
       "  </tr>\n",
       "</table>\n"
      ],
      "text/plain": [
       "<IPython.core.display.HTML object>"
      ]
     },
     "metadata": {},
     "output_type": "display_data"
    }
   ],
   "source": [
    "# magic number 2.6\n",
    "learn.freeze_to(-2)\n",
    "learn.fit_one_cycle(1, slice(1e-2/(2.6**4),1e-2), moms=(0.8,0.7))"
   ]
  },
  {
   "cell_type": "code",
   "execution_count": 10,
   "metadata": {},
   "outputs": [],
   "source": [
    "# learn.save('second')\n",
    "\n",
    "learn.load('second');"
   ]
  },
  {
   "cell_type": "code",
   "execution_count": 11,
   "metadata": {},
   "outputs": [
    {
     "data": {
      "text/html": [
       "Total time: 04:26 <p><table style='width:300px; margin-bottom:10px'>\n",
       "  <tr>\n",
       "    <th>epoch</th>\n",
       "    <th>train_loss</th>\n",
       "    <th>valid_loss</th>\n",
       "    <th>accuracy</th>\n",
       "  </tr>\n",
       "  <tr>\n",
       "    <th>1</th>\n",
       "    <th>0.235670</th>\n",
       "    <th>0.179091</th>\n",
       "    <th>0.931960</th>\n",
       "  </tr>\n",
       "</table>\n"
      ],
      "text/plain": [
       "<IPython.core.display.HTML object>"
      ]
     },
     "metadata": {},
     "output_type": "display_data"
    }
   ],
   "source": [
    "learn.freeze_to(-3)\n",
    "learn.fit_one_cycle(1, slice(5e-3/(2.6**4),5e-3), moms=(0.8,0.7))"
   ]
  },
  {
   "cell_type": "code",
   "execution_count": 12,
   "metadata": {},
   "outputs": [],
   "source": [
    "# learn.save('third')"
   ]
  },
  {
   "cell_type": "code",
   "execution_count": 7,
   "metadata": {},
   "outputs": [],
   "source": [
    "learn.load('third');"
   ]
  },
  {
   "cell_type": "code",
   "execution_count": null,
   "metadata": {},
   "outputs": [
    {
     "data": {
      "text/html": [
       "\n",
       "    <div>\n",
       "        <style>\n",
       "            /* Turns off some styling */\n",
       "            progress {\n",
       "                /* gets rid of default border in Firefox and Opera. */\n",
       "                border: none;\n",
       "                /* Needs to be in here for Safari polyfill so background images work as expected. */\n",
       "                background-size: auto;\n",
       "            }\n",
       "            .progress-bar-interrupted, .progress-bar-interrupted::-webkit-progress-bar {\n",
       "                background: #F44336;\n",
       "            }\n",
       "        </style>\n",
       "      <progress value='0' class='' max='1', style='width:300px; height:20px; vertical-align: middle;'></progress>\n",
       "      0.00% [0/1 00:00<00:00]\n",
       "    </div>\n",
       "    \n",
       "<table style='width:300px; margin-bottom:10px'>\n",
       "  <tr>\n",
       "    <th>epoch</th>\n",
       "    <th>train_loss</th>\n",
       "    <th>valid_loss</th>\n",
       "    <th>accuracy</th>\n",
       "  </tr>\n",
       "</table>\n",
       "\n",
       "\n",
       "    <div>\n",
       "        <style>\n",
       "            /* Turns off some styling */\n",
       "            progress {\n",
       "                /* gets rid of default border in Firefox and Opera. */\n",
       "                border: none;\n",
       "                /* Needs to be in here for Safari polyfill so background images work as expected. */\n",
       "                background-size: auto;\n",
       "            }\n",
       "            .progress-bar-interrupted, .progress-bar-interrupted::-webkit-progress-bar {\n",
       "                background: #F44336;\n",
       "            }\n",
       "        </style>\n",
       "      <progress value='670' class='' max='1666', style='width:300px; height:20px; vertical-align: middle;'></progress>\n",
       "      40.22% [670/1666 06:41<09:56 0.2614]\n",
       "    </div>\n",
       "    "
      ],
      "text/plain": [
       "<IPython.core.display.HTML object>"
      ]
     },
     "metadata": {},
     "output_type": "display_data"
    }
   ],
   "source": [
    "learn.unfreeze()\n",
    "learn.fit_one_cycle(1, slice(1e-3/(2.6**4),1e-3), moms=(0.8,0.7))"
   ]
  },
  {
   "cell_type": "code",
   "execution_count": null,
   "metadata": {},
   "outputs": [],
   "source": [
    "# learn.save('unfreeze')"
   ]
  }
 ],
 "metadata": {
  "kernelspec": {
   "display_name": "Python 3",
   "language": "python",
   "name": "python3"
  },
  "language_info": {
   "codemirror_mode": {
    "name": "ipython",
    "version": 3
   },
   "file_extension": ".py",
   "mimetype": "text/x-python",
   "name": "python",
   "nbconvert_exporter": "python",
   "pygments_lexer": "ipython3",
   "version": "3.7.1"
  }
 },
 "nbformat": 4,
 "nbformat_minor": 2
}
