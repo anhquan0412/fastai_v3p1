{
 "cells": [
  {
   "cell_type": "markdown",
   "metadata": {},
   "source": [
    "https://lilianweng.github.io/lil-log/2019/03/14/are-deep-neural-networks-dramatically-overfitted.html#experiments"
   ]
  },
  {
   "cell_type": "code",
   "execution_count": 1,
   "metadata": {},
   "outputs": [],
   "source": [
    "%reload_ext autoreload\n",
    "%autoreload 2\n",
    "%matplotlib inline"
   ]
  },
  {
   "cell_type": "code",
   "execution_count": 2,
   "metadata": {},
   "outputs": [],
   "source": [
    "from fastai.vision import *\n",
    "from fastai import datasets\n",
    "\n",
    "from utils import *"
   ]
  },
  {
   "cell_type": "code",
   "execution_count": 3,
   "metadata": {},
   "outputs": [
    {
     "data": {
      "text/plain": [
       "[PosixPath('/home/quantran/.fastai/data/mnist_png/testing'),\n",
       " PosixPath('/home/quantran/.fastai/data/mnist_png/training'),\n",
       " PosixPath('/home/quantran/.fastai/data/mnist_png/models')]"
      ]
     },
     "execution_count": 3,
     "metadata": {},
     "output_type": "execute_result"
    }
   ],
   "source": [
    "path = datasets.untar_data(datasets.URLs.MNIST)\n",
    "\n",
    "\n",
    "path.ls()"
   ]
  },
  {
   "cell_type": "code",
   "execution_count": 4,
   "metadata": {},
   "outputs": [
    {
     "data": {
      "text/plain": [
       "PosixPath('/home/quantran/.fastai/data/mnist_png')"
      ]
     },
     "execution_count": 4,
     "metadata": {},
     "output_type": "execute_result"
    }
   ],
   "source": [
    "path"
   ]
  },
  {
   "cell_type": "markdown",
   "metadata": {},
   "source": [
    "# Occam's Razor"
   ]
  },
  {
   "cell_type": "markdown",
   "metadata": {},
   "source": [
    "\"Simpler solutions are more likely to be correct than complex ones\"\n",
    "\n",
    "__Minimum Description Length principle__: view LEARNING as DATA COMPRESSION \n",
    "\n",
    "$\\mathcal{H}^\\text{best} = \\arg\\min_\\mathcal{H} [L(\\mathcal{H}) + L(\\mathcal{D}\\vert\\mathcal{H})]$\n",
    "\n",
    "$L(\\mathcal{H})$ is the length of the description of model H in bits.\n",
    "\n",
    "$L(\\mathcal{D}\\vert\\mathcal{H})$ is the length of the description of the data D in bits when encoded with H.\n",
    "\n",
    "Best model = smallest model containing the data and the model itself"
   ]
  },
  {
   "cell_type": "markdown",
   "metadata": {},
   "source": [
    "# Preparing databunch and model"
   ]
  },
  {
   "cell_type": "code",
   "execution_count": 5,
   "metadata": {},
   "outputs": [],
   "source": [
    "# _m = tensor([0.15]*3)\n",
    "# _s = tensor([0.15]*3)\n",
    "# norm_mnist = partial(normalize_chan, mean=_m, std=_s)\n",
    "# norm_mnist._order = 999"
   ]
  },
  {
   "cell_type": "code",
   "execution_count": 6,
   "metadata": {},
   "outputs": [],
   "source": [
    "# # Build dataset\n",
    "\n",
    "# def compose2(x, funcs, *args, order_key='_order', **kwargs):\n",
    "#     key = lambda o: getattr(o, order_key, 0)\n",
    "#     for f in sorted(listify(funcs), key=key): x = f(x, **kwargs)\n",
    "#     return x\n",
    "\n",
    "# class ListContainer():\n",
    "#     def __init__(self, items): self.items = listify(items)\n",
    "#     def __getitem__(self, idx):\n",
    "#         try: return self.items[idx]\n",
    "#         except TypeError:\n",
    "#             if isinstance(idx[0],bool):\n",
    "#                 assert len(idx)==len(self) # bool mask\n",
    "#                 return [o for m,o in zip(idx,self.items) if m]\n",
    "#             return [self.items[i] for i in idx]\n",
    "#     def __len__(self): return len(self.items)\n",
    "#     def __iter__(self): return iter(self.items)\n",
    "#     def __setitem__(self, i, o): self.items[i] = o\n",
    "#     def __delitem__(self, i): del(self.items[i])\n",
    "#     def __repr__(self):\n",
    "#         res = f'{self.__class__.__name__} ({len(self)} items)\\n{self.items[:10]}'\n",
    "#         if len(self)>10: res = res[:-1]+ '...]'\n",
    "#         return res\n",
    "\n",
    "# class MNISTDataset(ListContainer):\n",
    "#     def __init__(self, items, tfms=[], labelers=[]):\n",
    "#         '''\n",
    "#         items: list of PosixPath\n",
    "#         '''\n",
    "#         super().__init__(items)\n",
    "#         self.tfms, self.labeler = tfms, labelers\n",
    "\n",
    "#     def _get(self,fn):\n",
    "#         return compose2(PIL.Image.open(fn),self.tfms)\n",
    "#     def __getitem__(self, idx):\n",
    "#         items = super().__getitem__(idx)\n",
    "#         res = [self._get(o) for o in items] if isinstance(items,Iterable) else self._get(items)\n",
    "        \n",
    "#         return res,res\n",
    "\n",
    "# def create_databunch(train_ds, valid_ds, bs, **kwargs):\n",
    "#     return DataBunch(\n",
    "#             DataLoader(train_ds, batch_size=bs, shuffle=True, **kwargs),\n",
    "#             DataLoader(valid_ds, batch_size=bs*2, **kwargs)\n",
    "#     )"
   ]
  },
  {
   "cell_type": "code",
   "execution_count": 48,
   "metadata": {},
   "outputs": [],
   "source": [
    "# get_1_channel = lambda x: x[0,:,:]\n",
    "# get_1_channel._order = 9999\n",
    "\n",
    "# def get_databunch(tfms=None,bs=64,size=128):\n",
    "#     il = (ImageList.from_folder(path)\n",
    "#      .split_by_folder(train='training',valid='testing'))\n",
    "    \n",
    "#     if tfms is None: tfms = [make_rgb, np_to_float,norm_mnist, get_1_channel]\n",
    "#     val_tfms = [make_rgb, np_to_float,norm_mnist,get_1_channel]\n",
    "    \n",
    "#     train_ds = MNISTDataset(il.train.items,tfms)\n",
    "#     val_ds = MNISTDataset(il.valid.items,val_tfms)\n",
    "#     return train_ds,val_ds\n",
    "# #     return create_databunch(train_ds,val_ds,bs)"
   ]
  },
  {
   "cell_type": "code",
   "execution_count": 5,
   "metadata": {},
   "outputs": [],
   "source": [
    "def get_db(bs=64):\n",
    "    db = (ImageList.from_folder(path)\n",
    "     .split_by_folder(train='training',valid='testing')\n",
    "      .label_from_folder()\n",
    "      .databunch(bs=bs)\n",
    "      .normalize(mnist_stats)\n",
    "     )\n",
    "    return db"
   ]
  },
  {
   "cell_type": "code",
   "execution_count": 6,
   "metadata": {},
   "outputs": [],
   "source": [
    "db =  get_db()\n",
    "x,y = next(iter(db.train_dl))"
   ]
  },
  {
   "cell_type": "code",
   "execution_count": 7,
   "metadata": {},
   "outputs": [
    {
     "data": {
      "text/plain": [
       "torch.Size([64, 3, 28, 28])"
      ]
     },
     "execution_count": 7,
     "metadata": {},
     "output_type": "execute_result"
    }
   ],
   "source": [
    "x.shape"
   ]
  },
  {
   "cell_type": "code",
   "execution_count": 8,
   "metadata": {},
   "outputs": [],
   "source": [
    "def flatten(x): return x.view(x.shape[0],-1)\n",
    "def linear_relu(i,o,relu=True):\n",
    "    return nn.Sequential(nn.Linear(i,o),nn.ReLU(True)) if relu else nn.Sequential(nn.Linear(i,o))\n",
    "class SimpleModel(nn.Module):\n",
    "    def __init__(self,layers):\n",
    "        super().__init__()\n",
    "        l = len(layers)\n",
    "        self.lin_layers = [linear_relu(layers[i],layers[i+1]) for i in range(l-2)]\n",
    "        self.lin_layers += [linear_relu(*layers[-2:],relu=False)]\n",
    "        print()\n",
    "        self.lin_layers = nn.Sequential(*self.lin_layers)\n",
    "\n",
    "    def forward(self, x):\n",
    "        x = flatten(x[:,0,:,:])\n",
    "        x = self.lin_layers(x)\n",
    "        return x"
   ]
  },
  {
   "cell_type": "code",
   "execution_count": 9,
   "metadata": {},
   "outputs": [],
   "source": [
    "def init_cnn(m):\n",
    "    if getattr(m, 'bias', None) is not None: nn.init.constant_(m.bias, 0)\n",
    "    if isinstance(m, (nn.Conv2d,nn.Linear)): nn.init.kaiming_normal_(m.weight)\n",
    "    for l in m.children(): init_cnn(l)"
   ]
  },
  {
   "cell_type": "code",
   "execution_count": 10,
   "metadata": {},
   "outputs": [],
   "source": [
    "def create_model(layers):    \n",
    "    # layers = [28*28,256,256,256,10]\n",
    "    model = SimpleModel(layers).cuda()\n",
    "    init_cnn(model)\n",
    "\n",
    "    learn = Learner(db,SimpleModel(layers).cuda(),metrics=[accuracy])\n",
    "    learn.loss_func = CrossEntropyFlat()\n",
    "    return learn"
   ]
  },
  {
   "cell_type": "code",
   "execution_count": 12,
   "metadata": {},
   "outputs": [],
   "source": [
    "def reset_seed(seed=42):\n",
    "    random.seed(seed)\n",
    "    os.environ['PYTHONHASHSEED'] = str(seed)\n",
    "#     tf.set_random_seed(seed)\n",
    "    np.random.seed(seed)\n",
    "    torch.manual_seed(seed)\n",
    "    torch.backends.cudnn.deterministic = True\n",
    "    if torch.cuda.is_available(): \n",
    "        torch.cuda.manual_seed(seed)\n",
    "        torch.cuda.manual_seed_all(seed)\n",
    "# reset_seed()"
   ]
  },
  {
   "cell_type": "code",
   "execution_count": 11,
   "metadata": {},
   "outputs": [
    {
     "name": "stdout",
     "output_type": "stream",
     "text": [
      "\n"
     ]
    }
   ],
   "source": [
    "layers = [28*28,256,256,256,10]\n",
    "learn = create_model(layers)"
   ]
  },
  {
   "cell_type": "code",
   "execution_count": 12,
   "metadata": {},
   "outputs": [
    {
     "data": {
      "text/plain": [
       "SimpleModel(\n",
       "  (lin_layers): Sequential(\n",
       "    (0): Sequential(\n",
       "      (0): Linear(in_features=784, out_features=256, bias=True)\n",
       "      (1): ReLU(inplace)\n",
       "    )\n",
       "    (1): Sequential(\n",
       "      (0): Linear(in_features=256, out_features=128, bias=True)\n",
       "      (1): ReLU(inplace)\n",
       "    )\n",
       "    (2): Sequential(\n",
       "      (0): Linear(in_features=128, out_features=10, bias=True)\n",
       "    )\n",
       "  )\n",
       ")"
      ]
     },
     "execution_count": 12,
     "metadata": {},
     "output_type": "execute_result"
    }
   ],
   "source": [
    "learn.model"
   ]
  },
  {
   "cell_type": "code",
   "execution_count": 17,
   "metadata": {
    "scrolled": true
   },
   "outputs": [
    {
     "data": {
      "text/html": [],
      "text/plain": [
       "<IPython.core.display.HTML object>"
      ]
     },
     "metadata": {},
     "output_type": "display_data"
    },
    {
     "name": "stdout",
     "output_type": "stream",
     "text": [
      "LR Finder is complete, type {learner_name}.recorder.plot() to see the graph.\n"
     ]
    },
    {
     "data": {
      "image/png": "[encoded data removed]",
      "text/plain": [
       "<Figure size 432x288 with 1 Axes>"
      ]
     },
     "metadata": {
      "needs_background": "light"
     },
     "output_type": "display_data"
    }
   ],
   "source": [
    "learn.lr_find()\n",
    "learn.recorder.plot()"
   ]
  },
  {
   "cell_type": "code",
   "execution_count": 17,
   "metadata": {},
   "outputs": [
    {
     "data": {
      "text/html": [
       "<table border=\"1\" class=\"dataframe\">\n",
       "  <thead>\n",
       "    <tr style=\"text-align: left;\">\n",
       "      <th>epoch</th>\n",
       "      <th>train_loss</th>\n",
       "      <th>valid_loss</th>\n",
       "      <th>accuracy</th>\n",
       "      <th>time</th>\n",
       "    </tr>\n",
       "  </thead>\n",
       "  <tbody>\n",
       "    <tr>\n",
       "      <td>0</td>\n",
       "      <td>0.164555</td>\n",
       "      <td>0.147472</td>\n",
       "      <td>0.954200</td>\n",
       "      <td>00:06</td>\n",
       "    </tr>\n",
       "    <tr>\n",
       "      <td>1</td>\n",
       "      <td>0.159317</td>\n",
       "      <td>0.186540</td>\n",
       "      <td>0.949200</td>\n",
       "      <td>00:05</td>\n",
       "    </tr>\n",
       "    <tr>\n",
       "      <td>2</td>\n",
       "      <td>0.221095</td>\n",
       "      <td>0.180407</td>\n",
       "      <td>0.951400</td>\n",
       "      <td>00:05</td>\n",
       "    </tr>\n",
       "    <tr>\n",
       "      <td>3</td>\n",
       "      <td>0.225905</td>\n",
       "      <td>0.219448</td>\n",
       "      <td>0.945600</td>\n",
       "      <td>00:05</td>\n",
       "    </tr>\n",
       "    <tr>\n",
       "      <td>4</td>\n",
       "      <td>0.241616</td>\n",
       "      <td>0.225360</td>\n",
       "      <td>0.943600</td>\n",
       "      <td>00:06</td>\n",
       "    </tr>\n",
       "    <tr>\n",
       "      <td>5</td>\n",
       "      <td>0.233782</td>\n",
       "      <td>0.256325</td>\n",
       "      <td>0.945000</td>\n",
       "      <td>00:05</td>\n",
       "    </tr>\n",
       "    <tr>\n",
       "      <td>6</td>\n",
       "      <td>0.198219</td>\n",
       "      <td>0.182154</td>\n",
       "      <td>0.955900</td>\n",
       "      <td>00:06</td>\n",
       "    </tr>\n",
       "    <tr>\n",
       "      <td>7</td>\n",
       "      <td>0.180066</td>\n",
       "      <td>0.245560</td>\n",
       "      <td>0.944000</td>\n",
       "      <td>00:05</td>\n",
       "    </tr>\n",
       "    <tr>\n",
       "      <td>8</td>\n",
       "      <td>0.164116</td>\n",
       "      <td>0.155210</td>\n",
       "      <td>0.964500</td>\n",
       "      <td>00:06</td>\n",
       "    </tr>\n",
       "    <tr>\n",
       "      <td>9</td>\n",
       "      <td>0.159593</td>\n",
       "      <td>0.171016</td>\n",
       "      <td>0.962200</td>\n",
       "      <td>00:05</td>\n",
       "    </tr>\n",
       "    <tr>\n",
       "      <td>10</td>\n",
       "      <td>0.140142</td>\n",
       "      <td>0.173988</td>\n",
       "      <td>0.961000</td>\n",
       "      <td>00:06</td>\n",
       "    </tr>\n",
       "    <tr>\n",
       "      <td>11</td>\n",
       "      <td>0.103069</td>\n",
       "      <td>0.154877</td>\n",
       "      <td>0.969100</td>\n",
       "      <td>00:05</td>\n",
       "    </tr>\n",
       "    <tr>\n",
       "      <td>12</td>\n",
       "      <td>0.127253</td>\n",
       "      <td>0.149254</td>\n",
       "      <td>0.969300</td>\n",
       "      <td>00:06</td>\n",
       "    </tr>\n",
       "    <tr>\n",
       "      <td>13</td>\n",
       "      <td>0.070036</td>\n",
       "      <td>0.123246</td>\n",
       "      <td>0.974400</td>\n",
       "      <td>00:05</td>\n",
       "    </tr>\n",
       "    <tr>\n",
       "      <td>14</td>\n",
       "      <td>0.054326</td>\n",
       "      <td>0.133390</td>\n",
       "      <td>0.974800</td>\n",
       "      <td>00:06</td>\n",
       "    </tr>\n",
       "    <tr>\n",
       "      <td>15</td>\n",
       "      <td>0.059897</td>\n",
       "      <td>0.140276</td>\n",
       "      <td>0.976800</td>\n",
       "      <td>00:05</td>\n",
       "    </tr>\n",
       "    <tr>\n",
       "      <td>16</td>\n",
       "      <td>0.025726</td>\n",
       "      <td>0.119461</td>\n",
       "      <td>0.977400</td>\n",
       "      <td>00:06</td>\n",
       "    </tr>\n",
       "    <tr>\n",
       "      <td>17</td>\n",
       "      <td>0.026109</td>\n",
       "      <td>0.148141</td>\n",
       "      <td>0.978600</td>\n",
       "      <td>00:05</td>\n",
       "    </tr>\n",
       "    <tr>\n",
       "      <td>18</td>\n",
       "      <td>0.016497</td>\n",
       "      <td>0.153911</td>\n",
       "      <td>0.979600</td>\n",
       "      <td>00:06</td>\n",
       "    </tr>\n",
       "    <tr>\n",
       "      <td>19</td>\n",
       "      <td>0.013583</td>\n",
       "      <td>0.159979</td>\n",
       "      <td>0.979600</td>\n",
       "      <td>00:05</td>\n",
       "    </tr>\n",
       "  </tbody>\n",
       "</table>"
      ],
      "text/plain": [
       "<IPython.core.display.HTML object>"
      ]
     },
     "metadata": {},
     "output_type": "display_data"
    }
   ],
   "source": [
    "# learn.fit_one_cycle(20, 1e-2)"
   ]
  },
  {
   "cell_type": "code",
   "execution_count": 22,
   "metadata": {},
   "outputs": [
    {
     "data": {
      "image/png": "[encoded data removed]",
      "text/plain": [
       "<Figure size 432x288 with 1 Axes>"
      ]
     },
     "metadata": {
      "needs_background": "light"
     },
     "output_type": "display_data"
    }
   ],
   "source": [
    "learn.recorder.plot_lr()"
   ]
  },
  {
   "cell_type": "code",
   "execution_count": null,
   "metadata": {},
   "outputs": [],
   "source": []
  },
  {
   "cell_type": "markdown",
   "metadata": {},
   "source": [
    "# What exactly are inp and outp for forward hook and grad_in and grad_out for backward hook?"
   ]
  },
  {
   "cell_type": "code",
   "execution_count": 60,
   "metadata": {},
   "outputs": [],
   "source": [
    "from fastai.callbacks.hooks import *"
   ]
  },
  {
   "cell_type": "code",
   "execution_count": 61,
   "metadata": {},
   "outputs": [],
   "source": [
    "def _hook_out(m,i,o): return o if isinstance(o,Tensor) else o if is_listy(o) else list(o)\n",
    "def _hook_in(m,i,o): return i if isinstance(i,Tensor) else i if is_listy(i) else list(i)"
   ]
  },
  {
   "cell_type": "code",
   "execution_count": 62,
   "metadata": {},
   "outputs": [],
   "source": [
    "def reset_seed(seed=42):\n",
    "    random.seed(seed)\n",
    "    os.environ['PYTHONHASHSEED'] = str(seed)\n",
    "#     tf.set_random_seed(seed)\n",
    "    np.random.seed(seed)\n",
    "    torch.manual_seed(seed)\n",
    "    torch.backends.cudnn.deterministic = True\n",
    "    if torch.cuda.is_available(): \n",
    "        torch.cuda.manual_seed(seed)\n",
    "        torch.cuda.manual_seed_all(seed)\n",
    "reset_seed()"
   ]
  },
  {
   "cell_type": "code",
   "execution_count": 63,
   "metadata": {},
   "outputs": [],
   "source": [
    "def hooked_both(target_layer):\n",
    "    with Hook(target_layer,_hook_out,is_forward=True) as hook_a_out: \n",
    "        with Hook(target_layer,_hook_in,is_forward=True) as hook_a_in:\n",
    "            with Hook(target_layer,_hook_out,is_forward=False) as hook_g_out:\n",
    "                with Hook(target_layer,_hook_in,is_forward=False) as hook_g_in:\n",
    "                    pred = m(xb)\n",
    "                    err = learn.loss_func(pred,yb)\n",
    "                    err.backward()\n",
    "    return hook_a_out,hook_a_in,hook_g_out,hook_g_in"
   ]
  },
  {
   "cell_type": "code",
   "execution_count": 66,
   "metadata": {},
   "outputs": [],
   "source": [
    "db = get_db()"
   ]
  },
  {
   "cell_type": "markdown",
   "metadata": {
    "heading_collapsed": true
   },
   "source": [
    "## For sequential (linear + RELU)"
   ]
  },
  {
   "cell_type": "code",
   "execution_count": 87,
   "metadata": {
    "hidden": true
   },
   "outputs": [],
   "source": [
    "reset_seed()"
   ]
  },
  {
   "cell_type": "code",
   "execution_count": 88,
   "metadata": {
    "hidden": true
   },
   "outputs": [
    {
     "name": "stdout",
     "output_type": "stream",
     "text": [
      "\n",
      "\n"
     ]
    }
   ],
   "source": [
    "learn = create_model([28*28,256,128,10])\n",
    "\n",
    "xb,yb = next(iter(db.valid_dl))\n",
    "\n",
    "m = learn.model.eval()\n",
    "\n",
    "layers = list(m.children())"
   ]
  },
  {
   "cell_type": "code",
   "execution_count": 89,
   "metadata": {
    "hidden": true
   },
   "outputs": [
    {
     "data": {
      "text/plain": [
       "Sequential(\n",
       "  (0): Linear(in_features=256, out_features=128, bias=True)\n",
       "  (1): ReLU(inplace)\n",
       ")"
      ]
     },
     "execution_count": 89,
     "metadata": {},
     "output_type": "execute_result"
    }
   ],
   "source": [
    "layers[0][1]"
   ]
  },
  {
   "cell_type": "code",
   "execution_count": 90,
   "metadata": {
    "hidden": true
   },
   "outputs": [
    {
     "data": {
      "text/plain": [
       "(1, torch.Size([64, 256]), torch.Size([64, 128]))"
      ]
     },
     "execution_count": 90,
     "metadata": {},
     "output_type": "execute_result"
    }
   ],
   "source": [
    "hook_a_out,hook_a_in,hook_g_out,hook_g_in = hooked_both(layers[0][1])\n",
    "\n",
    "len(hook_a_in.stored),hook_a_in.stored[0].shape, hook_a_out.stored.shape\n",
    "# input of sequential is 256 (from linear), output is 128 (from RELU, NOT FROM LINEAR)"
   ]
  },
  {
   "cell_type": "code",
   "execution_count": 72,
   "metadata": {
    "hidden": true
   },
   "outputs": [
    {
     "data": {
      "text/plain": [
       "(1, torch.Size([64, 128]))"
      ]
     },
     "execution_count": 72,
     "metadata": {},
     "output_type": "execute_result"
    }
   ],
   "source": [
    "# grad input: gradient of loss w.r.t input of the last operation of the sequential = dloss/d_RELU_input\n",
    "# THIS MEANS THIS GRAD ALREADY FACTORS IN THE RELU PART (since we are working backward)\n",
    "len(hook_g_in.stored),hook_g_in.stored[0].shape, "
   ]
  },
  {
   "cell_type": "code",
   "execution_count": 73,
   "metadata": {
    "hidden": true
   },
   "outputs": [
    {
     "data": {
      "text/plain": [
       "(1, torch.Size([64, 128]))"
      ]
     },
     "execution_count": 73,
     "metadata": {},
     "output_type": "execute_result"
    }
   ],
   "source": [
    "# grad output: gradient of loss w.r.t output of sequential (in this case RELU, a.k.a dloss/d_RELU_output)\n",
    "len(hook_g_out.stored),hook_g_out.stored[0].shape"
   ]
  },
  {
   "cell_type": "markdown",
   "metadata": {
    "heading_collapsed": true
   },
   "source": [
    "## For linear"
   ]
  },
  {
   "cell_type": "code",
   "execution_count": 74,
   "metadata": {
    "hidden": true
   },
   "outputs": [],
   "source": [
    "reset_seed()"
   ]
  },
  {
   "cell_type": "code",
   "execution_count": 75,
   "metadata": {
    "hidden": true
   },
   "outputs": [
    {
     "name": "stdout",
     "output_type": "stream",
     "text": [
      "\n",
      "\n"
     ]
    }
   ],
   "source": [
    "learn = create_model([28*28,256,128,10])\n",
    "\n",
    "xb,yb = next(iter(db.valid_dl))\n",
    "\n",
    "m = learn.model.eval()\n",
    "\n",
    "layers = list(m.children())"
   ]
  },
  {
   "cell_type": "code",
   "execution_count": 76,
   "metadata": {
    "hidden": true
   },
   "outputs": [
    {
     "data": {
      "text/plain": [
       "Linear(in_features=256, out_features=128, bias=True)"
      ]
     },
     "execution_count": 76,
     "metadata": {},
     "output_type": "execute_result"
    }
   ],
   "source": [
    "layers[0][1][0]"
   ]
  },
  {
   "cell_type": "code",
   "execution_count": 77,
   "metadata": {
    "hidden": true
   },
   "outputs": [
    {
     "data": {
      "text/plain": [
       "(1, torch.Size([64, 256]), torch.Size([64, 128]))"
      ]
     },
     "execution_count": 77,
     "metadata": {},
     "output_type": "execute_result"
    }
   ],
   "source": [
    "hook_a_out1,hook_a_in1,hook_g_out1,hook_g_in1 = hooked_both(layers[0][1][0])\n",
    "\n",
    "len(hook_a_in1.stored),hook_a_in1.stored[0].shape, hook_a_out1.stored.shape\n",
    "\n",
    "# input of said layer (linear) is 256, output is 128 (BOTH ARE FROM LINEAR)"
   ]
  },
  {
   "cell_type": "code",
   "execution_count": 79,
   "metadata": {
    "hidden": true
   },
   "outputs": [
    {
     "data": {
      "text/plain": [
       "tensor(0, device='cuda:0')"
      ]
     },
     "execution_count": 79,
     "metadata": {},
     "output_type": "execute_result"
    }
   ],
   "source": [
    "# check if input from this Linear and above Sequential are the same\n",
    "(hook_a_in1.stored[0] != hook_a_in.stored[0]).sum()."
   ]
  },
  {
   "cell_type": "code",
   "execution_count": null,
   "metadata": {
    "hidden": true
   },
   "outputs": [],
   "source": []
  },
  {
   "cell_type": "code",
   "execution_count": 80,
   "metadata": {
    "hidden": true
   },
   "outputs": [
    {
     "data": {
      "text/plain": [
       "(3, torch.Size([128]), torch.Size([64, 256]), torch.Size([256, 128]))"
      ]
     },
     "execution_count": 80,
     "metadata": {},
     "output_type": "execute_result"
    }
   ],
   "source": [
    "# grad input: gradient of loss wrt linear input and loss wrt weight (with bias)\n",
    "# including: dloss/d_bias, dloss/d_linear_input, dloss/d_weight\n",
    "len(hook_g_in1.stored),hook_g_in1.stored[0].shape,hook_g_in1.stored[1].shape,hook_g_in1.stored[2].shape"
   ]
  },
  {
   "cell_type": "code",
   "execution_count": 81,
   "metadata": {
    "hidden": true
   },
   "outputs": [
    {
     "data": {
      "text/plain": [
       "(1, torch.Size([64, 128]))"
      ]
     },
     "execution_count": 81,
     "metadata": {},
     "output_type": "execute_result"
    }
   ],
   "source": [
    "# grad output is the gradient of loss w.r.t to output of linear (of shape 128, a.k.a dloss/d_linear_output)\n",
    "len(hook_g_out1.stored),hook_g_out1.stored[0].shape"
   ]
  },
  {
   "cell_type": "code",
   "execution_count": 83,
   "metadata": {
    "hidden": true
   },
   "outputs": [
    {
     "data": {
      "text/plain": [
       "tensor(0, device='cuda:0')"
      ]
     },
     "execution_count": 83,
     "metadata": {},
     "output_type": "execute_result"
    }
   ],
   "source": [
    "# dloss/d_linear_output == dloss/d_RELU_input\n",
    "(hook_g_out1.stored[0] != hook_g_in.stored[0]).sum()"
   ]
  },
  {
   "cell_type": "markdown",
   "metadata": {
    "heading_collapsed": true
   },
   "source": [
    "## For RELU"
   ]
  },
  {
   "cell_type": "code",
   "execution_count": 91,
   "metadata": {
    "hidden": true
   },
   "outputs": [
    {
     "name": "stdout",
     "output_type": "stream",
     "text": [
      "\n",
      "\n"
     ]
    }
   ],
   "source": [
    "reset_seed()\n",
    "\n",
    "learn = create_model([28*28,256,128,10])\n",
    "\n",
    "xb,yb = next(iter(db.valid_dl))\n",
    "\n",
    "m = learn.model.eval()\n",
    "\n",
    "layers = list(m.children())"
   ]
  },
  {
   "cell_type": "code",
   "execution_count": 92,
   "metadata": {
    "hidden": true
   },
   "outputs": [
    {
     "data": {
      "text/plain": [
       "ReLU(inplace)"
      ]
     },
     "execution_count": 92,
     "metadata": {},
     "output_type": "execute_result"
    }
   ],
   "source": [
    "layers[0][1][1]"
   ]
  },
  {
   "cell_type": "code",
   "execution_count": 93,
   "metadata": {
    "hidden": true
   },
   "outputs": [],
   "source": [
    "hook_a_out2,hook_a_in2,hook_g_out2,hook_g_in2 = hooked_both(layers[0][1][1])"
   ]
  },
  {
   "cell_type": "code",
   "execution_count": 94,
   "metadata": {
    "hidden": true
   },
   "outputs": [
    {
     "data": {
      "text/plain": [
       "(1, torch.Size([64, 128]), torch.Size([64, 128]))"
      ]
     },
     "execution_count": 94,
     "metadata": {},
     "output_type": "execute_result"
    }
   ],
   "source": [
    "# input of sequential is 128 (from RELU), output is 128 (from RELU)\n",
    "len(hook_a_in2.stored),hook_a_in2.stored[0].shape, hook_a_out2.stored.shape"
   ]
  },
  {
   "cell_type": "code",
   "execution_count": 96,
   "metadata": {
    "hidden": true
   },
   "outputs": [
    {
     "data": {
      "text/plain": [
       "tensor(0, device='cuda:0')"
      ]
     },
     "execution_count": 96,
     "metadata": {},
     "output_type": "execute_result"
    }
   ],
   "source": [
    "# input of relu = output of linear\n",
    "(hook_a_in2.stored[0] != hook_a_out.stored).sum()"
   ]
  },
  {
   "cell_type": "code",
   "execution_count": 98,
   "metadata": {
    "hidden": true
   },
   "outputs": [
    {
     "data": {
      "text/plain": [
       "tensor(0, device='cuda:0')"
      ]
     },
     "execution_count": 98,
     "metadata": {},
     "output_type": "execute_result"
    }
   ],
   "source": [
    "# output of relu from sequential = output of relu in RELU\n",
    "(hook_a_out2.stored != hook_a_out.stored).sum()"
   ]
  },
  {
   "cell_type": "code",
   "execution_count": null,
   "metadata": {
    "hidden": true
   },
   "outputs": [],
   "source": []
  },
  {
   "cell_type": "code",
   "execution_count": 94,
   "metadata": {
    "hidden": true
   },
   "outputs": [
    {
     "data": {
      "text/plain": [
       "(1, torch.Size([64, 128]))"
      ]
     },
     "execution_count": 94,
     "metadata": {},
     "output_type": "execute_result"
    }
   ],
   "source": [
    "# grad input: dLoss/d_RELU_input\n",
    "len(hook_g_in2.stored),hook_g_in2.stored[0].shape"
   ]
  },
  {
   "cell_type": "code",
   "execution_count": 100,
   "metadata": {
    "hidden": true
   },
   "outputs": [
    {
     "data": {
      "text/plain": [
       "(tensor(0, device='cuda:0'), tensor(0, device='cuda:0'))"
      ]
     },
     "execution_count": 100,
     "metadata": {},
     "output_type": "execute_result"
    }
   ],
   "source": [
    "# dloss/d_linear_output == dloss/d_RELU_input\n",
    "(hook_g_in2.stored[0] != hook_g_out1.stored[0]).sum(),(hook_g_in2.stored[0] != hook_g_in.stored[0]).sum()"
   ]
  },
  {
   "cell_type": "code",
   "execution_count": null,
   "metadata": {
    "hidden": true
   },
   "outputs": [],
   "source": []
  },
  {
   "cell_type": "code",
   "execution_count": 95,
   "metadata": {
    "hidden": true
   },
   "outputs": [
    {
     "data": {
      "text/plain": [
       "(1, torch.Size([64, 128]))"
      ]
     },
     "execution_count": 95,
     "metadata": {},
     "output_type": "execute_result"
    }
   ],
   "source": [
    "# grad output: dLoss/d_RELU_output\n",
    "len(hook_g_out2.stored),hook_g_out2.stored[0].shape"
   ]
  },
  {
   "cell_type": "code",
   "execution_count": 102,
   "metadata": {
    "hidden": true
   },
   "outputs": [
    {
     "data": {
      "text/plain": [
       "tensor(0, device='cuda:0')"
      ]
     },
     "execution_count": 102,
     "metadata": {},
     "output_type": "execute_result"
    }
   ],
   "source": [
    "(hook_g_out2.stored[0] != hook_g_out.stored[0]).sum()"
   ]
  },
  {
   "cell_type": "code",
   "execution_count": null,
   "metadata": {
    "hidden": true
   },
   "outputs": [],
   "source": []
  },
  {
   "cell_type": "markdown",
   "metadata": {
    "heading_collapsed": true
   },
   "source": [
    "# Modern risk curve"
   ]
  },
  {
   "cell_type": "markdown",
   "metadata": {
    "hidden": true
   },
   "source": [
    "Creating Risk curve\n",
    "\n",
    "\n",
    "As the model turns larger (more parameters added), the training error decreases to close to zero, but the test error (generalization error) starts to increase once the model complexity grows to pass the threshold between “underfitting” and “overfitting”. \n",
    "\n",
    "Unfortunately this does not apply to deep learning models. Belkin et al. (2018) reconciled the traditional bias-variance trade-offs and proposed a new double-U-shaped risk curve for deep neural networks. Once the number of network parameters is high enough, the risk curve enters another regime.\n",
    "\n",
    "![stuff](https://lilianweng.github.io/lil-log/assets/images/new-bias-variance-risk-curve.png)\n",
    "\n",
    "https://lilianweng.github.io/lil-log/2019/03/14/are-deep-neural-networks-dramatically-overfitted.html#experiments"
   ]
  },
  {
   "cell_type": "code",
   "execution_count": null,
   "metadata": {
    "hidden": true
   },
   "outputs": [],
   "source": [
    "db = get_db(bs=64)\n",
    "layers = [28*28,256,256,256,10]\n",
    "learn = create_model(layers)\n"
   ]
  },
  {
   "cell_type": "code",
   "execution_count": 105,
   "metadata": {
    "hidden": true
   },
   "outputs": [],
   "source": [
    "n_train_sample=4000\n",
    "critical_n_units = int((n_train_sample * 10 - 10) / float(28 * 28 + 10))\n",
    "n_units_to_test = sorted(set(\n",
    "            list(range(critical_n_units - 7, critical_n_units + 4)) +\n",
    "            list(range(5, 55, 5)) + list(range(50, 105, 10)) + [120, 150, 200]\n",
    "        ))\n"
   ]
  },
  {
   "cell_type": "code",
   "execution_count": 106,
   "metadata": {
    "hidden": true,
    "scrolled": false
   },
   "outputs": [
    {
     "data": {
      "text/plain": [
       "(50,\n",
       " [5,\n",
       "  10,\n",
       "  15,\n",
       "  20,\n",
       "  25,\n",
       "  30,\n",
       "  35,\n",
       "  40,\n",
       "  43,\n",
       "  44,\n",
       "  45,\n",
       "  46,\n",
       "  47,\n",
       "  48,\n",
       "  49,\n",
       "  50,\n",
       "  51,\n",
       "  52,\n",
       "  53,\n",
       "  60,\n",
       "  70,\n",
       "  80,\n",
       "  90,\n",
       "  100,\n",
       "  120,\n",
       "  150,\n",
       "  200])"
      ]
     },
     "execution_count": 106,
     "metadata": {},
     "output_type": "execute_result"
    }
   ],
   "source": [
    "critical_n_units,n_units_to_test"
   ]
  },
  {
   "cell_type": "code",
   "execution_count": 107,
   "metadata": {
    "hidden": true
   },
   "outputs": [
    {
     "name": "stdout",
     "output_type": "stream",
     "text": [
      "None 3985\n",
      "5 7960\n",
      "10 11935\n",
      "15 15910\n",
      "20 19885\n",
      "25 23860\n",
      "30 27835\n",
      "35 31810\n",
      "40 34195\n",
      "43 34990\n",
      "44 35785\n",
      "45 36580\n",
      "46 37375\n",
      "47 38170\n",
      "48 38965\n",
      "49 39760\n",
      "50 40555\n",
      "51 41350\n",
      "52 42145\n",
      "53 47710\n",
      "60 55660\n",
      "70 63610\n",
      "80 71560\n",
      "90 79510\n",
      "100 95410\n",
      "120 119260\n",
      "150 159010\n"
     ]
    }
   ],
   "source": [
    "for i in range(len(n_units_to_test)):\n",
    "    n_units = n_units_to_test[i]\n",
    "    total_params = (28 * 28 + 1) * n_units + (n_units + 1) * 10\n",
    "    old_n_units = None if i == 0 else n_units_to_test[i - 1]\n",
    "    print(old_n_units,total_params)"
   ]
  },
  {
   "cell_type": "markdown",
   "metadata": {
    "hidden": true
   },
   "source": [
    "- There are no regularization terms like weight decay, dropout.\n",
    "- In Fig 3, the training set contains 4k samples. It is only sampled once and fixed for all the models. The evaluation uses the full MNIST test set.\n",
    "- Each network is trained for a long time to achieve near-zero training risk. The learning rate is adjusted differently for models of different sizes.\n",
    "- To make the model less sensitive to the initialization in the under-parameterization region, their experiments adopted a **“weight reuse” scheme: the parameters obtained from training a smaller neural network are used as initialization for training larger networks.**"
   ]
  },
  {
   "cell_type": "markdown",
   "metadata": {
    "hidden": true
   },
   "source": [
    "## Pseudo code"
   ]
  },
  {
   "cell_type": "markdown",
   "metadata": {
    "hidden": true
   },
   "source": [
    "Max epochs = 500, n_train_sample=4000\n",
    "\n",
    "\n",
    "- n_units = 5, old_n_units=None, total_params on n_units = 5\n",
    "\n",
    "Get dataset. Create model: [28 * 28,5,10] with RELU. No old weight loading and assign old weights. Train for 500 epochs (multiply lr by .8 for every 50 epochs). Evaluate on test set. Save model weight of [28 * 28,5,10]\n",
    "\n",
    "- n_units = 10, old_n_units=5, total params on n_units = 10\n",
    "\n",
    "Get dataset. Create model: [28 * 28,10,10] with RELU. Load old_weights of [28 * 28,5,10] to [28 * 28,10,10] as initialization (how the fuck...). Train for 500 epochs. Evaluate on test set. Save model weight of [28 * 28,10,10]\n",
    "\n",
    "Continuing until n_units = 200"
   ]
  },
  {
   "cell_type": "markdown",
   "metadata": {},
   "source": [
    "# Callbacks tiny example"
   ]
  },
  {
   "cell_type": "code",
   "execution_count": null,
   "metadata": {},
   "outputs": [],
   "source": [
    "# learn= tabtext_learner(data,AWD_LSTM,metrics=[accuracy],\n",
    "#                                callback_fns=[partial(SaveModelCallback, monitor='accuracy',mode='max',ever"
   ]
  },
  {
   "cell_type": "code",
   "execution_count": 13,
   "metadata": {},
   "outputs": [],
   "source": [
    "reset_seed()"
   ]
  },
  {
   "cell_type": "code",
   "execution_count": 14,
   "metadata": {},
   "outputs": [
    {
     "name": "stdout",
     "output_type": "stream",
     "text": [
      "\n",
      "\n"
     ]
    }
   ],
   "source": [
    "db = get_db(bs=64)\n",
    "layers = [28*28,256,256,256,10]\n",
    "learn = create_model(layers)\n"
   ]
  },
  {
   "cell_type": "code",
   "execution_count": 38,
   "metadata": {},
   "outputs": [],
   "source": [
    "class TinyCallback(LearnerCallback):\n",
    "    def __init__(self,learn):\n",
    "        super().__init__(learn)\n",
    "    def on_epoch_end(self, **kwargs):\n",
    "        epoch = kwargs['epoch']\n",
    "        train = kwargs['train'\n",
    "        metric= kwargs['last_metrics']\n",
    "        if epoch%2 ==0:\n",
    "            print(f'Is trained? {train}')\n",
    "            print(f'Epoch: {epoch}')\n",
    "            print(f'Metric: {metric}')"
   ]
  },
  {
   "cell_type": "code",
   "execution_count": 39,
   "metadata": {},
   "outputs": [],
   "source": [
    "learn.callback_fns.append(TinyCallback)"
   ]
  },
  {
   "cell_type": "code",
   "execution_count": 40,
   "metadata": {},
   "outputs": [
    {
     "data": {
      "text/html": [
       "<table border=\"1\" class=\"dataframe\">\n",
       "  <thead>\n",
       "    <tr style=\"text-align: left;\">\n",
       "      <th>epoch</th>\n",
       "      <th>train_loss</th>\n",
       "      <th>valid_loss</th>\n",
       "      <th>accuracy</th>\n",
       "      <th>time</th>\n",
       "    </tr>\n",
       "  </thead>\n",
       "  <tbody>\n",
       "    <tr>\n",
       "      <td>0</td>\n",
       "      <td>0.276591</td>\n",
       "      <td>0.304234</td>\n",
       "      <td>0.926900</td>\n",
       "      <td>00:06</td>\n",
       "    </tr>\n",
       "    <tr>\n",
       "      <td>1</td>\n",
       "      <td>0.221416</td>\n",
       "      <td>0.243229</td>\n",
       "      <td>0.947900</td>\n",
       "      <td>00:06</td>\n",
       "    </tr>\n",
       "    <tr>\n",
       "      <td>2</td>\n",
       "      <td>0.105319</td>\n",
       "      <td>0.116765</td>\n",
       "      <td>0.970900</td>\n",
       "      <td>00:05</td>\n",
       "    </tr>\n",
       "    <tr>\n",
       "      <td>3</td>\n",
       "      <td>0.069085</td>\n",
       "      <td>0.092948</td>\n",
       "      <td>0.976000</td>\n",
       "      <td>00:06</td>\n",
       "    </tr>\n",
       "  </tbody>\n",
       "</table>"
      ],
      "text/plain": [
       "<IPython.core.display.HTML object>"
      ]
     },
     "metadata": {},
     "output_type": "display_data"
    },
    {
     "name": "stdout",
     "output_type": "stream",
     "text": [
      "Epoch: 0\n",
      "Is trained? False\n",
      "Epoch: 0\n",
      "Loss: 0.7591161727905273\n",
      "Metric: [0.3042344, tensor(0.9269)]\n",
      "Epoch: 2\n",
      "Is trained? False\n",
      "Epoch: 2\n",
      "Loss: 0.011768747121095657\n",
      "Metric: [0.11676488, tensor(0.9709)]\n"
     ]
    }
   ],
   "source": [
    "learn.fit_one_cycle(4, 1e-2)"
   ]
  },
  {
   "cell_type": "code",
   "execution_count": null,
   "metadata": {},
   "outputs": [],
   "source": []
  },
  {
   "cell_type": "code",
   "execution_count": 100,
   "metadata": {},
   "outputs": [
    {
     "name": "stdout",
     "output_type": "stream",
     "text": [
      "\n"
     ]
    }
   ],
   "source": [
    "layers = [28*28,256,256,256,10]\n",
    "reset_seed()\n",
    "model = SimpleModel(layers).cuda()\n",
    "# init_cnn(model)"
   ]
  },
  {
   "cell_type": "code",
   "execution_count": 101,
   "metadata": {},
   "outputs": [],
   "source": [
    "layers = list(model.children())"
   ]
  },
  {
   "cell_type": "code",
   "execution_count": 111,
   "metadata": {},
   "outputs": [
    {
     "data": {
      "text/plain": [
       "Parameter containing:\n",
       "tensor([[-0.0340,  0.0297, -0.0070,  ...,  0.0088,  0.0602, -0.0327],\n",
       "        [ 0.0312, -0.0108, -0.0339,  ...,  0.0355, -0.0224,  0.0294],\n",
       "        [-0.0207,  0.0244, -0.0090,  ...,  0.0064, -0.0089, -0.0037],\n",
       "        ...,\n",
       "        [-0.0145,  0.0433,  0.0017,  ...,  0.0228, -0.0552, -0.0444],\n",
       "        [ 0.0011, -0.0098,  0.0426,  ...,  0.0314,  0.0077, -0.0376],\n",
       "        [ 0.0481,  0.0552,  0.0046,  ...,  0.0142,  0.0245, -0.0344]],\n",
       "       device='cuda:0', requires_grad=True)"
      ]
     },
     "execution_count": 111,
     "metadata": {},
     "output_type": "execute_result"
    }
   ],
   "source": [
    "layers[0][3][0].weight"
   ]
  },
  {
   "cell_type": "code",
   "execution_count": 112,
   "metadata": {},
   "outputs": [
    {
     "data": {
      "text/plain": [
       "False"
      ]
     },
     "execution_count": 112,
     "metadata": {},
     "output_type": "execute_result"
    }
   ],
   "source": [
    "layers[0][3][0].weight.data.requires_grad"
   ]
  },
  {
   "cell_type": "code",
   "execution_count": 103,
   "metadata": {},
   "outputs": [
    {
     "data": {
      "text/plain": [
       "Parameter containing:\n",
       "tensor([ 0.0566,  0.0047, -0.0055, -0.0098, -0.0487,  0.0464,  0.0314, -0.0578,\n",
       "        -0.0151,  0.0237], device='cuda:0', requires_grad=True)"
      ]
     },
     "execution_count": 103,
     "metadata": {},
     "output_type": "execute_result"
    }
   ],
   "source": [
    "layers[0][3][0].bias"
   ]
  },
  {
   "cell_type": "code",
   "execution_count": 106,
   "metadata": {},
   "outputs": [
    {
     "data": {
      "text/plain": [
       "tensor([[-0.0340,  0.0297, -0.0070,  ...,  0.0088,  0.0602, -0.0327],\n",
       "        [ 0.0312, -0.0108, -0.0339,  ...,  0.0355, -0.0224,  0.0294],\n",
       "        [-0.0207,  0.0244, -0.0090,  ...,  0.0064, -0.0089, -0.0037],\n",
       "        ...,\n",
       "        [-0.0145,  0.0433,  0.0017,  ...,  0.0228, -0.0552, -0.0444],\n",
       "        [ 0.0011, -0.0098,  0.0426,  ...,  0.0314,  0.0077, -0.0376],\n",
       "        [ 0.0481,  0.0552,  0.0046,  ...,  0.0142,  0.0245, -0.0344]],\n",
       "       device='cuda:0')"
      ]
     },
     "execution_count": 106,
     "metadata": {},
     "output_type": "execute_result"
    }
   ],
   "source": [
    "temp_org_weight = layers[0][3][0].weight.data.clone()\n",
    "temp_org_weight"
   ]
  },
  {
   "cell_type": "code",
   "execution_count": 109,
   "metadata": {},
   "outputs": [
    {
     "data": {
      "text/plain": [
       "False"
      ]
     },
     "execution_count": 109,
     "metadata": {},
     "output_type": "execute_result"
    }
   ],
   "source": [
    "temp_org_weight.requires_grad"
   ]
  },
  {
   "cell_type": "code",
   "execution_count": null,
   "metadata": {},
   "outputs": [],
   "source": []
  },
  {
   "cell_type": "code",
   "execution_count": 113,
   "metadata": {},
   "outputs": [],
   "source": [
    "init_cnn(model)"
   ]
  },
  {
   "cell_type": "code",
   "execution_count": 114,
   "metadata": {},
   "outputs": [
    {
     "data": {
      "text/plain": [
       "tensor([[ 0.0399,  0.0625,  0.0241,  ..., -0.0405,  0.1433,  0.0107],\n",
       "        [ 0.0076, -0.0277, -0.0533,  ..., -0.1440, -0.0316, -0.0922],\n",
       "        [ 0.0230,  0.0110, -0.0204,  ...,  0.0801, -0.0278, -0.1401],\n",
       "        ...,\n",
       "        [ 0.1744, -0.1753,  0.0863,  ...,  0.0606,  0.0565,  0.0254],\n",
       "        [-0.0082, -0.0827,  0.1155,  ..., -0.0181,  0.0878, -0.0764],\n",
       "        [ 0.0156,  0.0388,  0.0386,  ..., -0.0215, -0.0181,  0.0054]],\n",
       "       device='cuda:0')"
      ]
     },
     "execution_count": 114,
     "metadata": {},
     "output_type": "execute_result"
    }
   ],
   "source": [
    "layers[0][3][0].weight.data"
   ]
  },
  {
   "cell_type": "code",
   "execution_count": 115,
   "metadata": {},
   "outputs": [
    {
     "data": {
      "text/plain": [
       "tensor([[-0.0340,  0.0297, -0.0070,  ...,  0.0088,  0.0602, -0.0327],\n",
       "        [ 0.0312, -0.0108, -0.0339,  ...,  0.0355, -0.0224,  0.0294],\n",
       "        [-0.0207,  0.0244, -0.0090,  ...,  0.0064, -0.0089, -0.0037],\n",
       "        ...,\n",
       "        [-0.0145,  0.0433,  0.0017,  ...,  0.0228, -0.0552, -0.0444],\n",
       "        [ 0.0011, -0.0098,  0.0426,  ...,  0.0314,  0.0077, -0.0376],\n",
       "        [ 0.0481,  0.0552,  0.0046,  ...,  0.0142,  0.0245, -0.0344]],\n",
       "       device='cuda:0')"
      ]
     },
     "execution_count": 115,
     "metadata": {},
     "output_type": "execute_result"
    }
   ],
   "source": [
    "temp_org_weight"
   ]
  },
  {
   "cell_type": "code",
   "execution_count": 116,
   "metadata": {},
   "outputs": [],
   "source": [
    "with torch.no_grad():\n",
    "    layers[0][3][0].weight = nn.Parameter(temp_org_weight)"
   ]
  },
  {
   "cell_type": "code",
   "execution_count": 119,
   "metadata": {},
   "outputs": [
    {
     "data": {
      "text/plain": [
       "False"
      ]
     },
     "execution_count": 119,
     "metadata": {},
     "output_type": "execute_result"
    }
   ],
   "source": [
    "layers[0][3][0].weight.data.requires_grad"
   ]
  },
  {
   "cell_type": "code",
   "execution_count": null,
   "metadata": {},
   "outputs": [],
   "source": [
    "layers"
   ]
  },
  {
   "cell_type": "code",
   "execution_count": 47,
   "metadata": {},
   "outputs": [],
   "source": [
    "# params = list(model.parameters())"
   ]
  },
  {
   "cell_type": "markdown",
   "metadata": {},
   "source": [
    "# Heterogeneous Layer Robustness"
   ]
  },
  {
   "cell_type": "markdown",
   "metadata": {},
   "source": [
    "Deep NN model's layers are not created equal. Some layers are more important than others (model is more sensitive to changes in these layers)\n",
    "\n",
    "For nth layer's parameters, we can:\n",
    "\n",
    "Re-initialization: reset nth layer's parameters to its initial values, and check the performance\n",
    "Re-randomization: re-sampling nth layer's parameters at random (shuffling), and check the performance"
   ]
  },
  {
   "cell_type": "code",
   "execution_count": null,
   "metadata": {},
   "outputs": [],
   "source": []
  }
 ],
 "metadata": {
  "kernelspec": {
   "display_name": "Python 3",
   "language": "python",
   "name": "python3"
  },
  "language_info": {
   "codemirror_mode": {
    "name": "ipython",
    "version": 3
   },
   "file_extension": ".py",
   "mimetype": "text/x-python",
   "name": "python",
   "nbconvert_exporter": "python",
   "pygments_lexer": "ipython3",
   "version": "3.7.1"
  }
 },
 "nbformat": 4,
 "nbformat_minor": 2
}
