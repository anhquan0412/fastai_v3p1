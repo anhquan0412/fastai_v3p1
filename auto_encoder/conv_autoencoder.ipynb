{
 "cells": [
  {
   "cell_type": "code",
   "execution_count": 1,
   "metadata": {},
   "outputs": [],
   "source": [
    "%reload_ext autoreload\n",
    "%autoreload 2\n",
    "%matplotlib inline"
   ]
  },
  {
   "cell_type": "code",
   "execution_count": 2,
   "metadata": {},
   "outputs": [],
   "source": [
    "from fastai.vision import *\n",
    "from fastai import datasets\n",
    "\n",
    "from utils import *"
   ]
  },
  {
   "cell_type": "code",
   "execution_count": 3,
   "metadata": {},
   "outputs": [
    {
     "data": {
      "text/plain": [
       "[PosixPath('/home/quantran/.fastai/data/imagenette-160/train'),\n",
       " PosixPath('/home/quantran/.fastai/data/imagenette-160/val')]"
      ]
     },
     "execution_count": 3,
     "metadata": {},
     "output_type": "execute_result"
    }
   ],
   "source": [
    "path = datasets.untar_data(datasets.URLs.IMAGENETTE_160)\n",
    "path\n",
    "\n",
    "path.ls()"
   ]
  },
  {
   "cell_type": "code",
   "execution_count": 4,
   "metadata": {},
   "outputs": [],
   "source": [
    "_m = tensor([0.47, 0.48, 0.45])\n",
    "_s = tensor([0.29, 0.28, 0.30])\n",
    "norm_imagenette = partial(normalize_chan, mean=_m, std=_s)\n",
    "norm_imagenette._order = 999"
   ]
  },
  {
   "cell_type": "code",
   "execution_count": 5,
   "metadata": {},
   "outputs": [],
   "source": [
    "denorm_imagenette = partial(denorm_chan, mean=_m.cuda(), std=_s.cuda())"
   ]
  },
  {
   "cell_type": "markdown",
   "metadata": {},
   "source": [
    "# Building Dataset"
   ]
  },
  {
   "cell_type": "code",
   "execution_count": 6,
   "metadata": {},
   "outputs": [],
   "source": [
    "def compose2(x, funcs, *args, order_key='_order', **kwargs):\n",
    "    key = lambda o: getattr(o, order_key, 0)\n",
    "    for f in sorted(listify(funcs), key=key): x = f(x, **kwargs)\n",
    "    return x\n",
    "\n",
    "class ListContainer():\n",
    "    def __init__(self, items): self.items = listify(items)\n",
    "    def __getitem__(self, idx):\n",
    "        try: return self.items[idx]\n",
    "        except TypeError:\n",
    "            if isinstance(idx[0],bool):\n",
    "                assert len(idx)==len(self) # bool mask\n",
    "                return [o for m,o in zip(idx,self.items) if m]\n",
    "            return [self.items[i] for i in idx]\n",
    "    def __len__(self): return len(self.items)\n",
    "    def __iter__(self): return iter(self.items)\n",
    "    def __setitem__(self, i, o): self.items[i] = o\n",
    "    def __delitem__(self, i): del(self.items[i])\n",
    "    def __repr__(self):\n",
    "        res = f'{self.__class__.__name__} ({len(self)} items)\\n{self.items[:10]}'\n",
    "        if len(self)>10: res = res[:-1]+ '...]'\n",
    "        return res\n",
    "\n",
    "class AEDataset(ListContainer):\n",
    "    def __init__(self, items, tfms=[], labelers=[]):\n",
    "        '''\n",
    "        items: list of PosixPath\n",
    "        '''\n",
    "        super().__init__(items)\n",
    "        self.tfms, self.labeler = tfms, labelers\n",
    "\n",
    "    def _get(self,fn):\n",
    "        return compose2(PIL.Image.open(fn),self.tfms)\n",
    "    def __getitem__(self, idx):\n",
    "        items = super().__getitem__(idx)\n",
    "        res = [self._get(o) for o in items] if isinstance(items,Iterable) else self._get(items)\n",
    "        \n",
    "        return res,res\n",
    "\n",
    "def create_databunch(train_ds, valid_ds, bs, **kwargs):\n",
    "    return DataBunch(\n",
    "            DataLoader(train_ds, batch_size=bs, shuffle=True, **kwargs),\n",
    "            DataLoader(valid_ds, batch_size=bs*2, **kwargs)\n",
    "    )"
   ]
  },
  {
   "cell_type": "code",
   "execution_count": 7,
   "metadata": {},
   "outputs": [],
   "source": [
    "def get_databunch(tfms=None,bs=64,size=128):\n",
    "    il = (ImageList.from_folder(path)\n",
    "     .split_by_folder(valid='val'))\n",
    "    \n",
    "    if tfms is None: tfms = [make_rgb, CenterCrop(size),PilRandomFlip(),np_to_float,norm_imagenette]\n",
    "    val_tfms = [make_rgb, CenterCrop(size), np_to_float,norm_imagenette]\n",
    "    \n",
    "    train_ds = AEDataset(il.train.items,tfms)\n",
    "    val_ds = AEDataset(il.valid.items,val_tfms)\n",
    "    return create_databunch(train_ds,val_ds,bs)"
   ]
  },
  {
   "cell_type": "code",
   "execution_count": 8,
   "metadata": {},
   "outputs": [],
   "source": [
    "size = 128\n",
    "# tfms = [make_rgb, RandomResizedCrop(size, scale=(0.5,1)), PilRandomFlip(),np_to_float,norm_imagenette]\n",
    "tfms = [make_rgb, CenterCrop(size),PilRandomFlip(),np_to_float,norm_imagenette]\n",
    "val_tfms = [make_rgb, CenterCrop(size), np_to_float,norm_imagenette]"
   ]
  },
  {
   "cell_type": "code",
   "execution_count": 9,
   "metadata": {},
   "outputs": [],
   "source": [
    "bs=64"
   ]
  },
  {
   "cell_type": "code",
   "execution_count": 10,
   "metadata": {},
   "outputs": [],
   "source": [
    "db = get_databunch(tfms,bs,size)"
   ]
  },
  {
   "cell_type": "markdown",
   "metadata": {},
   "source": [
    "# Hooks for visualization"
   ]
  },
  {
   "cell_type": "code",
   "execution_count": 11,
   "metadata": {},
   "outputs": [],
   "source": [
    "from collections import defaultdict\n",
    "from fastai.callbacks.hooks import *\n",
    "\n",
    "hooks_means = defaultdict(list)\n",
    "hooks_stds = defaultdict(list)\n",
    "hooks_hists = defaultdict(list)\n",
    "\n",
    "# means,stds,hists = [],[],[]\n",
    "def append_stats(mod, inp, outp):\n",
    "    if mod.training:\n",
    "        hooks_means[str(mod)].append(outp.data.mean().cpu())\n",
    "        hooks_stds[str(mod)].append(outp.data.std().cpu())\n",
    "        hooks_hists[str(mod)].append(outp.data.cpu().histc(40,-7,7))"
   ]
  },
  {
   "cell_type": "code",
   "execution_count": 12,
   "metadata": {},
   "outputs": [],
   "source": [
    "def plot_mean_std(hook_layers,ite):\n",
    "    fig,(ax0,ax1) = plt.subplots(1,2, figsize=(15,5))\n",
    "    for m in hook_layers:\n",
    "        ms,ss = hooks_means[str(m)],hooks_stds[str(m)]\n",
    "        ax0.plot(ms[:ite])\n",
    "        ax1.plot(ss[:ite])\n",
    "    plt.legend(range(len(hook_layers)));"
   ]
  },
  {
   "cell_type": "code",
   "execution_count": 13,
   "metadata": {},
   "outputs": [],
   "source": [
    "def get_hist(h): return torch.stack(h).t().float().log1p() # Return matrix (# bins, # iterations)\n",
    "def plot_hist(hook_layers):\n",
    "    fig,axes = plt.subplots((len(hook_layers)+1)//2,2, figsize=(10,10))\n",
    "    for ax,m in zip(axes.flatten(), hook_layers):\n",
    "        ax.imshow(get_hist(hooks_hists[str(m)])[:,:80], origin='lower')\n",
    "        ax.axis('on')\n",
    "    plt.tight_layout()"
   ]
  },
  {
   "cell_type": "code",
   "execution_count": 14,
   "metadata": {},
   "outputs": [],
   "source": [
    "def get_min(h):\n",
    "    h1 = torch.stack(h).t().float()\n",
    "    return h1[19:22].sum(0)/h1.sum(0) # bin 19,20 and 21 are the middle, where ~0 values stay\n",
    "\n",
    "def plot_zero(hook_layers):\n",
    "    fig,axes = plt.subplots((len(hook_layers)+1)//2,2, figsize=(15,6))\n",
    "    for ax,m in zip(axes.flatten(), hook_layers):\n",
    "        ax.plot(get_min(hooks_hists[str(m)]))\n",
    "        ax.set_ylim(0,1)\n",
    "    plt.tight_layout()"
   ]
  },
  {
   "cell_type": "markdown",
   "metadata": {},
   "source": [
    "# Model"
   ]
  },
  {
   "cell_type": "code",
   "execution_count": 16,
   "metadata": {},
   "outputs": [],
   "source": [
    "class GeneralRelu(nn.Module):\n",
    "    def __init__(self, leak=None, sub=None, maxv=None): # we can now add leaky portion/ subtraction/ max RELU value to clip\n",
    "        super().__init__()\n",
    "        self.leak,self.sub,self.maxv = leak,sub,maxv\n",
    "\n",
    "    def forward(self, x): \n",
    "        x = F.leaky_relu(x,self.leak) if self.leak is not None else F.relu(x)\n",
    "        if self.sub is not None: x.sub_(self.sub)\n",
    "        if self.maxv is not None: x.clamp_max_(self.maxv)\n",
    "        return x"
   ]
  },
  {
   "cell_type": "code",
   "execution_count": 17,
   "metadata": {},
   "outputs": [],
   "source": [
    "def conv_layer(ni, nf, ks=3, stride=2, bn=True, **kwargs):\n",
    "    layers = [nn.Conv2d(ni, nf, ks, padding=ks//2, stride=stride, bias=not bn),\n",
    "              GeneralRelu(**kwargs)]\n",
    "    if bn: layers.append(nn.BatchNorm2d(nf, eps=1e-5, momentum=0.1))\n",
    "    return nn.Sequential(*layers)"
   ]
  },
  {
   "cell_type": "code",
   "execution_count": 18,
   "metadata": {},
   "outputs": [],
   "source": [
    "# def de_conv_layer(ni, nf, ks=3, stride=2, bn=True, **kwargs):\n",
    "#     layers = [nn.ConvTranspose2d(nf, ni, ks, padding=ks//2, stride=stride, bias=not bn),\n",
    "#               GeneralRelu(**kwargs)]\n",
    "#     if bn: layers.append(nn.BatchNorm2d(nf, eps=1e-5, momentum=0.1))\n",
    "#     return nn.Sequential(*layers)"
   ]
  },
  {
   "cell_type": "code",
   "execution_count": 19,
   "metadata": {},
   "outputs": [],
   "source": [
    "class Lambda(nn.Module):\n",
    "    def __init__(self, func):\n",
    "        super().__init__()\n",
    "        self.func = func\n",
    "\n",
    "    def forward(self, x): return self.func(x)\n",
    "\n",
    "def flatten(x):      return x.view(x.shape[0], -1)"
   ]
  },
  {
   "cell_type": "code",
   "execution_count": 20,
   "metadata": {},
   "outputs": [],
   "source": [
    "import math\n",
    "def prev_pow_2(x): return 2**math.floor(math.log2(x)) # next largest number that is a power of 2\n",
    "\n",
    "def get_cnn_layers(nfs, layer, **kwargs):\n",
    "    def f(ni, nf, stride=2): return layer(ni, nf, 3, stride=stride, **kwargs) # fixed 3x3 conv2d kernels. See above for explanation\n",
    "    \n",
    "    l1 = 3\n",
    "    l2 = prev_pow_2(l1*3*3)\n",
    "    \n",
    "    layers =  [f(l1  , l2  , stride=1), # 3x3x3 (27) to 16. First conv2d maintains size (stride 1)\n",
    "               # by decreasing channels, we prevent model to generate more information than it can\n",
    "               # we can condense the information/pick out only interesting information to output\n",
    "               f(l2  , l2*2, stride=2), # 3x3x16 (144) to 32\n",
    "               f(l2*2, l2*4, stride=2)] # 3x3x32 (288) to 64\n",
    "    nfs = [l2*4] + nfs\n",
    "    layers += [f(nfs[i], nfs[i+1]) for i in range(len(nfs)-1)]\n",
    "    layers += [nn.AdaptiveMaxPool2d(1), Lambda(flatten)]\n",
    "    return layers"
   ]
  },
  {
   "cell_type": "code",
   "execution_count": 55,
   "metadata": {},
   "outputs": [],
   "source": [
    "def deconv_layer(ni, nf, ks=3, stride=1,scale_factor=2,bn=True, **kwargs):\n",
    "    layers = [nn.Upsample(scale_factor=scale_factor,mode='nearest'),\n",
    "              nn.Conv2d(ni, nf, ks, padding=1, stride=stride, bias=not bn),\n",
    "              GeneralRelu(**kwargs)]\n",
    "    if bn: layers.append(nn.BatchNorm2d(nf, eps=1e-5, momentum=0.1))\n",
    "    return nn.Sequential(*layers)"
   ]
  },
  {
   "cell_type": "code",
   "execution_count": 66,
   "metadata": {},
   "outputs": [],
   "source": [
    "def get_cnn_decoder_layers(nfs, layer, **kwargs):\n",
    "    def f(ni, nf, stride=1,scale_factor=2): return layer(ni, nf, 3, stride=stride, \n",
    "                                                         scale_factor = scale_factor,\n",
    "                                                         **kwargs) # fixed 3x3 conv2d kernels. See above for explanation\n",
    "    \n",
    "    nfs = [16,32,64] + nfs\n",
    "    layers = [f(nfs[i],nfs[i-1]) for i in range(len(nfs)-1,0,-1)]\n",
    "    \n",
    "    layers.append(f(nfs[0],3,scale_factor=1)) # last conv maintain size\n",
    "\n",
    "    return layers"
   ]
  },
  {
   "cell_type": "code",
   "execution_count": 67,
   "metadata": {},
   "outputs": [],
   "source": [
    "nfs = [128,256,512]"
   ]
  },
  {
   "cell_type": "code",
   "execution_count": 74,
   "metadata": {},
   "outputs": [],
   "source": [
    "class ConvAutoEncoderModel(nn.Module):\n",
    "    def __init__(self,nfs,sz_b4_pool=4,**kwargs):\n",
    "        super().__init__()\n",
    "        self.encoder = nn.Sequential(*get_cnn_layers(nfs,conv_layer,**kwargs))\n",
    "        self.decoder = nn.Sequential(*get_cnn_decoder_layers(nfs,deconv_layer,**kwargs))\n",
    "        self.sz_b4_pool = sz_b4_pool\n",
    "    def forward(self, x):\n",
    "        x = self.encoder(x)\n",
    "        x = F.interpolate(x[...,None,None],scale_factor=self.sz_b4_pool, mode='nearest')\n",
    "        x = self.decoder(x)\n",
    "        x = torch.tanh(x)\n",
    "        return x"
   ]
  },
  {
   "cell_type": "code",
   "execution_count": 75,
   "metadata": {},
   "outputs": [],
   "source": [
    "def model_summary(model,layers,xb,print_mod=False):\n",
    "    f = lambda mod,inp,out: print(f\"====\\n{mod}\\n\" if print_mod else \"\", out.shape)\n",
    "    with Hooks(layers, f) as hooks: model(xb)"
   ]
  },
  {
   "cell_type": "code",
   "execution_count": 76,
   "metadata": {},
   "outputs": [],
   "source": [
    "conv_model = ConvAutoEncoderModel(nfs).cuda()"
   ]
  },
  {
   "cell_type": "code",
   "execution_count": 77,
   "metadata": {},
   "outputs": [],
   "source": [
    "all_layers = list(list(conv_model.children())[0]) + list(list(conv_model.children())[1])"
   ]
  },
  {
   "cell_type": "code",
   "execution_count": 78,
   "metadata": {},
   "outputs": [],
   "source": [
    "xb,_ = next(iter(db.train_dl))"
   ]
  },
  {
   "cell_type": "code",
   "execution_count": 79,
   "metadata": {
    "scrolled": true
   },
   "outputs": [
    {
     "name": "stdout",
     "output_type": "stream",
     "text": [
      "====\n",
      "Sequential(\n",
      "  (0): Conv2d(3, 16, kernel_size=(3, 3), stride=(1, 1), padding=(1, 1), bias=False)\n",
      "  (1): GeneralRelu()\n",
      "  (2): BatchNorm2d(16, eps=1e-05, momentum=0.1, affine=True, track_running_stats=True)\n",
      ")\n",
      " torch.Size([64, 16, 128, 128])\n",
      "====\n",
      "Sequential(\n",
      "  (0): Conv2d(16, 32, kernel_size=(3, 3), stride=(2, 2), padding=(1, 1), bias=False)\n",
      "  (1): GeneralRelu()\n",
      "  (2): BatchNorm2d(32, eps=1e-05, momentum=0.1, affine=True, track_running_stats=True)\n",
      ")\n",
      " torch.Size([64, 32, 64, 64])\n",
      "====\n",
      "Sequential(\n",
      "  (0): Conv2d(32, 64, kernel_size=(3, 3), stride=(2, 2), padding=(1, 1), bias=False)\n",
      "  (1): GeneralRelu()\n",
      "  (2): BatchNorm2d(64, eps=1e-05, momentum=0.1, affine=True, track_running_stats=True)\n",
      ")\n",
      " torch.Size([64, 64, 32, 32])\n",
      "====\n",
      "Sequential(\n",
      "  (0): Conv2d(64, 128, kernel_size=(3, 3), stride=(2, 2), padding=(1, 1), bias=False)\n",
      "  (1): GeneralRelu()\n",
      "  (2): BatchNorm2d(128, eps=1e-05, momentum=0.1, affine=True, track_running_stats=True)\n",
      ")\n",
      " torch.Size([64, 128, 16, 16])\n",
      "====\n",
      "Sequential(\n",
      "  (0): Conv2d(128, 256, kernel_size=(3, 3), stride=(2, 2), padding=(1, 1), bias=False)\n",
      "  (1): GeneralRelu()\n",
      "  (2): BatchNorm2d(256, eps=1e-05, momentum=0.1, affine=True, track_running_stats=True)\n",
      ")\n",
      " torch.Size([64, 256, 8, 8])\n",
      "====\n",
      "Sequential(\n",
      "  (0): Conv2d(256, 512, kernel_size=(3, 3), stride=(2, 2), padding=(1, 1), bias=False)\n",
      "  (1): GeneralRelu()\n",
      "  (2): BatchNorm2d(512, eps=1e-05, momentum=0.1, affine=True, track_running_stats=True)\n",
      ")\n",
      " torch.Size([64, 512, 4, 4])\n",
      "====\n",
      "AdaptiveMaxPool2d(output_size=1)\n",
      " torch.Size([64, 512, 1, 1])\n",
      "====\n",
      "Lambda()\n",
      " torch.Size([64, 512])\n",
      "====\n",
      "Sequential(\n",
      "  (0): Upsample(scale_factor=2.0, mode=nearest)\n",
      "  (1): Conv2d(512, 256, kernel_size=(3, 3), stride=(1, 1), padding=(1, 1), bias=False)\n",
      "  (2): GeneralRelu()\n",
      "  (3): BatchNorm2d(256, eps=1e-05, momentum=0.1, affine=True, track_running_stats=True)\n",
      ")\n",
      " torch.Size([64, 256, 8, 8])\n",
      "====\n",
      "Sequential(\n",
      "  (0): Upsample(scale_factor=2.0, mode=nearest)\n",
      "  (1): Conv2d(256, 128, kernel_size=(3, 3), stride=(1, 1), padding=(1, 1), bias=False)\n",
      "  (2): GeneralRelu()\n",
      "  (3): BatchNorm2d(128, eps=1e-05, momentum=0.1, affine=True, track_running_stats=True)\n",
      ")\n",
      " torch.Size([64, 128, 16, 16])\n",
      "====\n",
      "Sequential(\n",
      "  (0): Upsample(scale_factor=2.0, mode=nearest)\n",
      "  (1): Conv2d(128, 64, kernel_size=(3, 3), stride=(1, 1), padding=(1, 1), bias=False)\n",
      "  (2): GeneralRelu()\n",
      "  (3): BatchNorm2d(64, eps=1e-05, momentum=0.1, affine=True, track_running_stats=True)\n",
      ")\n",
      " torch.Size([64, 64, 32, 32])\n",
      "====\n",
      "Sequential(\n",
      "  (0): Upsample(scale_factor=2.0, mode=nearest)\n",
      "  (1): Conv2d(64, 32, kernel_size=(3, 3), stride=(1, 1), padding=(1, 1), bias=False)\n",
      "  (2): GeneralRelu()\n",
      "  (3): BatchNorm2d(32, eps=1e-05, momentum=0.1, affine=True, track_running_stats=True)\n",
      ")\n",
      " torch.Size([64, 32, 64, 64])\n",
      "====\n",
      "Sequential(\n",
      "  (0): Upsample(scale_factor=2.0, mode=nearest)\n",
      "  (1): Conv2d(32, 16, kernel_size=(3, 3), stride=(1, 1), padding=(1, 1), bias=False)\n",
      "  (2): GeneralRelu()\n",
      "  (3): BatchNorm2d(16, eps=1e-05, momentum=0.1, affine=True, track_running_stats=True)\n",
      ")\n",
      " torch.Size([64, 16, 128, 128])\n",
      "====\n",
      "Sequential(\n",
      "  (0): Upsample(scale_factor=1.0, mode=nearest)\n",
      "  (1): Conv2d(16, 3, kernel_size=(3, 3), stride=(1, 1), padding=(1, 1), bias=False)\n",
      "  (2): GeneralRelu()\n",
      "  (3): BatchNorm2d(3, eps=1e-05, momentum=0.1, affine=True, track_running_stats=True)\n",
      ")\n",
      " torch.Size([64, 3, 128, 128])\n"
     ]
    }
   ],
   "source": [
    "model_summary(conv_model,all_layers,xb,True)"
   ]
  },
  {
   "cell_type": "markdown",
   "metadata": {},
   "source": [
    "# Init weight and start training"
   ]
  },
  {
   "cell_type": "code",
   "execution_count": 104,
   "metadata": {},
   "outputs": [],
   "source": [
    "def mse_flat(preds,targs,**kwargs):\n",
    "    return MSELossFlat()(flatten(preds),flatten(targs))"
   ]
  },
  {
   "cell_type": "code",
   "execution_count": 105,
   "metadata": {},
   "outputs": [],
   "source": [
    "nfs = [128, 256, 512]"
   ]
  },
  {
   "cell_type": "code",
   "execution_count": 106,
   "metadata": {},
   "outputs": [],
   "source": [
    "db = get_databunch()\n",
    "\n",
    "learn = Learner(db,ConvAutoEncoderModel(nfs).cuda(),loss_func = mse_flat,metrics=[])"
   ]
  },
  {
   "cell_type": "code",
   "execution_count": 107,
   "metadata": {},
   "outputs": [],
   "source": [
    "all_layers = list(list(learn.model.children())[0]) + list(list(learn.model.children())[1])"
   ]
  },
  {
   "cell_type": "code",
   "execution_count": 108,
   "metadata": {},
   "outputs": [],
   "source": [
    "def init_layers(layers):\n",
    "    for l in layers:\n",
    "        if isinstance(l, nn.Sequential):\n",
    "            if len(l)==3:\n",
    "                nn.init.kaiming_normal_(l[0].weight)\n",
    "#                 l[0].bias.data.zero_()\n",
    "            if len(l)==4:\n",
    "                nn.init.kaiming_normal_(l[1].weight)\n",
    "#                 l[0].bias.data.zero_()"
   ]
  },
  {
   "cell_type": "code",
   "execution_count": 109,
   "metadata": {},
   "outputs": [],
   "source": [
    "init_layers(all_layers)"
   ]
  },
  {
   "cell_type": "code",
   "execution_count": 110,
   "metadata": {},
   "outputs": [
    {
     "data": {
      "text/html": [],
      "text/plain": [
       "<IPython.core.display.HTML object>"
      ]
     },
     "metadata": {},
     "output_type": "display_data"
    },
    {
     "name": "stdout",
     "output_type": "stream",
     "text": [
      "LR Finder is complete, type {learner_name}.recorder.plot() to see the graph.\n"
     ]
    },
    {
     "data": {
      "image/png": "[encoded data removed]",
      "text/plain": [
       "<Figure size 432x288 with 1 Axes>"
      ]
     },
     "metadata": {
      "needs_background": "light"
     },
     "output_type": "display_data"
    }
   ],
   "source": [
    "learn.lr_find()\n",
    "learn.recorder.plot()"
   ]
  },
  {
   "cell_type": "code",
   "execution_count": 112,
   "metadata": {},
   "outputs": [
    {
     "data": {
      "image/png": "[encoded data removed]",
      "text/plain": [
       "<Figure size 432x288 with 1 Axes>"
      ]
     },
     "metadata": {
      "needs_background": "light"
     },
     "output_type": "display_data"
    }
   ],
   "source": [
    "learn.recorder.plot(skip_end=0)"
   ]
  },
  {
   "cell_type": "markdown",
   "metadata": {},
   "source": [
    "TODO: maybe don't do 1cycle?"
   ]
  }
 ],
 "metadata": {
  "kernelspec": {
   "display_name": "Python 3",
   "language": "python",
   "name": "python3"
  },
  "language_info": {
   "codemirror_mode": {
    "name": "ipython",
    "version": 3
   },
   "file_extension": ".py",
   "mimetype": "text/x-python",
   "name": "python",
   "nbconvert_exporter": "python",
   "pygments_lexer": "ipython3",
   "version": "3.7.1"
  }
 },
 "nbformat": 4,
 "nbformat_minor": 2
}
