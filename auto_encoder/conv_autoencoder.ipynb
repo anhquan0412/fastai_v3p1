{
 "cells": [
  {
   "cell_type": "code",
   "execution_count": 1,
   "metadata": {},
   "outputs": [],
   "source": [
    "%reload_ext autoreload\n",
    "%autoreload 2\n",
    "%matplotlib inline"
   ]
  },
  {
   "cell_type": "code",
   "execution_count": 2,
   "metadata": {},
   "outputs": [],
   "source": [
    "from fastai.vision import *\n",
    "from fastai import datasets\n",
    "\n",
    "from utils import *"
   ]
  },
  {
   "cell_type": "code",
   "execution_count": 3,
   "metadata": {},
   "outputs": [
    {
     "data": {
      "text/plain": [
       "[PosixPath('/home/quantran/.fastai/data/imagenette-160/train'),\n",
       " PosixPath('/home/quantran/.fastai/data/imagenette-160/val')]"
      ]
     },
     "execution_count": 3,
     "metadata": {},
     "output_type": "execute_result"
    }
   ],
   "source": [
    "path = datasets.untar_data(datasets.URLs.IMAGENETTE_160)\n",
    "path\n",
    "\n",
    "path.ls()"
   ]
  },
  {
   "cell_type": "code",
   "execution_count": 4,
   "metadata": {},
   "outputs": [],
   "source": [
    "_m = tensor([0.47, 0.48, 0.45])\n",
    "_s = tensor([0.29, 0.28, 0.30])\n",
    "norm_imagenette = partial(normalize_chan, mean=_m, std=_s)\n",
    "norm_imagenette._order = 999"
   ]
  },
  {
   "cell_type": "code",
   "execution_count": 5,
   "metadata": {},
   "outputs": [],
   "source": [
    "denorm_imagenette = partial(denorm_chan, mean=_m.cuda(), std=_s.cuda())"
   ]
  },
  {
   "cell_type": "markdown",
   "metadata": {},
   "source": [
    "# Building Dataset"
   ]
  },
  {
   "cell_type": "code",
   "execution_count": 6,
   "metadata": {},
   "outputs": [],
   "source": [
    "def compose2(x, funcs, *args, order_key='_order', **kwargs):\n",
    "    key = lambda o: getattr(o, order_key, 0)\n",
    "    for f in sorted(listify(funcs), key=key): x = f(x, **kwargs)\n",
    "    return x\n",
    "\n",
    "class ListContainer():\n",
    "    def __init__(self, items): self.items = listify(items)\n",
    "    def __getitem__(self, idx):\n",
    "        try: return self.items[idx]\n",
    "        except TypeError:\n",
    "            if isinstance(idx[0],bool):\n",
    "                assert len(idx)==len(self) # bool mask\n",
    "                return [o for m,o in zip(idx,self.items) if m]\n",
    "            return [self.items[i] for i in idx]\n",
    "    def __len__(self): return len(self.items)\n",
    "    def __iter__(self): return iter(self.items)\n",
    "    def __setitem__(self, i, o): self.items[i] = o\n",
    "    def __delitem__(self, i): del(self.items[i])\n",
    "    def __repr__(self):\n",
    "        res = f'{self.__class__.__name__} ({len(self)} items)\\n{self.items[:10]}'\n",
    "        if len(self)>10: res = res[:-1]+ '...]'\n",
    "        return res\n",
    "\n",
    "class AEDataset(ListContainer):\n",
    "    def __init__(self, items, tfms=[], labelers=[]):\n",
    "        '''\n",
    "        items: list of PosixPath\n",
    "        '''\n",
    "        super().__init__(items)\n",
    "        self.tfms, self.labeler = tfms, labelers\n",
    "\n",
    "    def _get(self,fn):\n",
    "        return compose2(PIL.Image.open(fn),self.tfms)\n",
    "    def __getitem__(self, idx):\n",
    "        items = super().__getitem__(idx)\n",
    "        res = [self._get(o) for o in items] if isinstance(items,Iterable) else self._get(items)\n",
    "        \n",
    "        return res,res\n",
    "\n",
    "def create_databunch(train_ds, valid_ds, bs, **kwargs):\n",
    "    return DataBunch(\n",
    "            DataLoader(train_ds, batch_size=bs, shuffle=True, **kwargs),\n",
    "            DataLoader(valid_ds, batch_size=bs*2, **kwargs)\n",
    "    )"
   ]
  },
  {
   "cell_type": "code",
   "execution_count": 7,
   "metadata": {},
   "outputs": [],
   "source": [
    "def get_databunch(tfms=None,bs=64,size=128):\n",
    "    il = (ImageList.from_folder(path)\n",
    "     .split_by_folder(valid='val'))\n",
    "    \n",
    "    if tfms is None: tfms = [make_rgb, CenterCrop(size),PilRandomFlip(),np_to_float,norm_imagenette]\n",
    "    val_tfms = [make_rgb, CenterCrop(size), np_to_float,norm_imagenette]\n",
    "    \n",
    "    train_ds = AEDataset(il.train.items,tfms)\n",
    "    val_ds = AEDataset(il.valid.items,val_tfms)\n",
    "    return create_databunch(train_ds,val_ds,bs)"
   ]
  },
  {
   "cell_type": "markdown",
   "metadata": {},
   "source": [
    "# Hooks for visualization"
   ]
  },
  {
   "cell_type": "code",
   "execution_count": 8,
   "metadata": {},
   "outputs": [],
   "source": [
    "from collections import defaultdict\n",
    "from fastai.callbacks.hooks import *\n",
    "\n",
    "hooks_means = defaultdict(list)\n",
    "hooks_stds = defaultdict(list)\n",
    "hooks_hists = defaultdict(list)\n",
    "\n",
    "# means,stds,hists = [],[],[]\n",
    "def append_stats(mod, inp, outp):\n",
    "    if mod.training:\n",
    "        hooks_means[str(mod)].append(outp.data.mean().cpu())\n",
    "        hooks_stds[str(mod)].append(outp.data.std().cpu())\n",
    "        hooks_hists[str(mod)].append(outp.data.cpu().histc(40,-7,7))"
   ]
  },
  {
   "cell_type": "code",
   "execution_count": 9,
   "metadata": {},
   "outputs": [],
   "source": [
    "def plot_mean_std(hook_layers,ite=50):\n",
    "    fig,(ax0,ax1) = plt.subplots(1,2, figsize=(15,5))\n",
    "    for m in hook_layers:\n",
    "        ms,ss = hooks_means[str(m)],hooks_stds[str(m)]\n",
    "        ax0.plot(ms[:ite])\n",
    "        ax1.plot(ss[:ite])\n",
    "    plt.legend(range(len(hook_layers)));"
   ]
  },
  {
   "cell_type": "code",
   "execution_count": 10,
   "metadata": {},
   "outputs": [],
   "source": [
    "def get_hist(h): return torch.stack(h).t().float().log1p() # Return matrix (# bins, # iterations)\n",
    "def plot_hist(hook_layers,ite=80):\n",
    "    fig,axes = plt.subplots((len(hook_layers)+1)//2,2, figsize=(10,10))\n",
    "    for ax,m in zip(axes.flatten(), hook_layers):\n",
    "        ax.imshow(get_hist(hooks_hists[str(m)])[:,:ite], origin='lower')\n",
    "        ax.axis('on')\n",
    "    plt.tight_layout()"
   ]
  },
  {
   "cell_type": "code",
   "execution_count": 11,
   "metadata": {},
   "outputs": [],
   "source": [
    "def get_min(h):\n",
    "    h1 = torch.stack(h).t().float()\n",
    "    return h1[19:22].sum(0)/h1.sum(0) # bin 19,20 and 21 are the middle, where ~0 values stay\n",
    "\n",
    "def plot_zero(hook_layers):\n",
    "    fig,axes = plt.subplots((len(hook_layers)+1)//2,2, figsize=(15,6))\n",
    "    for ax,m in zip(axes.flatten(), hook_layers):\n",
    "        ax.plot(get_min(hooks_hists[str(m)]))\n",
    "        ax.set_ylim(0,1)\n",
    "    plt.tight_layout()"
   ]
  },
  {
   "cell_type": "markdown",
   "metadata": {},
   "source": [
    "# Model"
   ]
  },
  {
   "cell_type": "code",
   "execution_count": 12,
   "metadata": {},
   "outputs": [],
   "source": [
    "class GeneralRelu(nn.Module):\n",
    "    def __init__(self, leak=None, sub=None, maxv=None): # we can now add leaky portion/ subtraction/ max RELU value to clip\n",
    "        super().__init__()\n",
    "        self.leak,self.sub,self.maxv = leak,sub,maxv\n",
    "\n",
    "    def forward(self, x): \n",
    "        x = F.leaky_relu(x,self.leak) if self.leak is not None else F.relu(x)\n",
    "        if self.sub is not None: x.sub_(self.sub)\n",
    "        if self.maxv is not None: x.clamp_max_(self.maxv)\n",
    "        return x"
   ]
  },
  {
   "cell_type": "code",
   "execution_count": 13,
   "metadata": {},
   "outputs": [],
   "source": [
    "class Lambda(nn.Module):\n",
    "    def __init__(self, func):\n",
    "        super().__init__()\n",
    "        self.func = func\n",
    "\n",
    "    def forward(self, x): return self.func(x)\n",
    "\n",
    "def flatten(x):      return x.view(x.shape[0], -1)\n",
    "def add_hw_axis(x): return x[...,None,None]"
   ]
  },
  {
   "cell_type": "code",
   "execution_count": 14,
   "metadata": {},
   "outputs": [],
   "source": [
    "class Unflatten(nn.Module):\n",
    "    def __init__(self,sz):\n",
    "        super().__init__()\n",
    "        self.sz =sz\n",
    "    def forward(self,x): return x.view(x.shape[0],-1,self.sz,self.sz)"
   ]
  },
  {
   "cell_type": "code",
   "execution_count": 15,
   "metadata": {},
   "outputs": [],
   "source": [
    "import math\n",
    "def prev_pow_2(x): return 2**math.floor(math.log2(x)) # next largest number that is a power of 2\n",
    "\n",
    "\n",
    "def conv_layer(ni, nf, ks=3, stride=2, bn=True, **kwargs):\n",
    "    layers = [nn.Conv2d(ni, nf, ks, padding=ks//2, stride=stride, bias=not bn),\n",
    "              GeneralRelu(**kwargs)]\n",
    "    \n",
    "    if bn: layers.append(nn.BatchNorm2d(nf, eps=1e-5, momentum=0.1))\n",
    "    return nn.Sequential(*layers)\n",
    "\n",
    "def get_cnn_layers(nfs, layer, img_sz=128,lin_nf=None,**kwargs):\n",
    "    def f(ni, nf, stride=2): return layer(ni, nf, 3, stride=stride, **kwargs) # fixed 3x3 conv2d kernels. See above for explanation\n",
    "    \n",
    "    l1 = 3\n",
    "    l2 = prev_pow_2(l1*3*3) # 16\n",
    "    \n",
    "    layers =  [f(l1  , l2  , stride=1), # 3x3x3 (27) to 16. First conv2d maintains size (stride 1)\n",
    "               # by decreasing channels, we prevent model to generate more information than it can\n",
    "               # we can condense the information/pick out only interesting information to output\n",
    "               f(l2  , l2*2, stride=2), # 3x3x16 (144) to 32\n",
    "               f(l2*2, l2*4, stride=2)] # 3x3x32 (288) to 64\n",
    "    nfs = [l2*4] + nfs\n",
    "    layers += [f(nfs[i], nfs[i+1]) for i in range(len(nfs)-1)]\n",
    "    if lin_nf:\n",
    "        last_conv_sz = img_sz//(2**(len(nfs)+1))\n",
    "        last_conv_flatten_shape=nfs[-1] * last_conv_sz**2 \n",
    "        layers += [Lambda(flatten),nn.Linear(last_conv_flatten_shape,lin_nf)]\n",
    "    else:\n",
    "        layers += [nn.AdaptiveMaxPool2d(1), Lambda(flatten)]\n",
    "        \n",
    "    return layers"
   ]
  },
  {
   "cell_type": "code",
   "execution_count": 16,
   "metadata": {},
   "outputs": [],
   "source": [
    "def deconv_layer(ni, nf, ks=3, stride=1,scale_factor=2,bn=True, **kwargs):\n",
    "    layers = [nn.Upsample(scale_factor=scale_factor,mode='nearest'),\n",
    "              nn.Conv2d(ni, nf, ks, padding=1, stride=stride, bias=not bn),\n",
    "              GeneralRelu(**kwargs)]\n",
    "    if bn: layers.append(nn.BatchNorm2d(nf, eps=1e-5, momentum=0.1))\n",
    "    return nn.Sequential(*layers)"
   ]
  },
  {
   "cell_type": "code",
   "execution_count": 17,
   "metadata": {},
   "outputs": [],
   "source": [
    "def get_cnn_decoder_layers(nfs, layer, img_sz=128,lin_nf=None,**kwargs):\n",
    "    def f(ni, nf, stride=1,scale_factor=2): return layer(ni, nf, 3, stride=stride, \n",
    "                                                         scale_factor = scale_factor,\n",
    "                                                         **kwargs) # fixed 3x3 conv2d kernels. See above for explanation\n",
    "    last_conv_sz= img_sz//(2**(len(nfs)+2))\n",
    "    last_conv_flatten_shape = nfs[-1]*last_conv_sz**2\n",
    "    \n",
    "    nfs = [16,32,64] + nfs\n",
    "    \n",
    "    if lin_nf:\n",
    "        layers = [nn.ReLU(inplace=True),\n",
    "                  nn.BatchNorm1d(lin_nf),\n",
    "                  nn.Linear(lin_nf,last_conv_flatten_shape),\n",
    "                  nn.ReLU(inplace=True),\n",
    "                  nn.BatchNorm1d(last_conv_flatten_shape), \n",
    "                  Unflatten(last_conv_sz)\n",
    "                 ]\n",
    "    else:\n",
    "        layers=[Lambda(add_hw_axis),nn.Upsample(last_conv_sz,mode='nearest')]\n",
    "        \n",
    "    layers = layers + [f(nfs[i],nfs[i-1]) for i in range(len(nfs)-1,0,-1)]\n",
    "    \n",
    "    layers.append(f(nfs[0],3,scale_factor=1)) # last conv maintain size\n",
    "\n",
    "    return layers"
   ]
  },
  {
   "cell_type": "code",
   "execution_count": 18,
   "metadata": {},
   "outputs": [],
   "source": [
    "class ConvAutoEncoderModel(nn.Module):\n",
    "    def __init__(self,nfs,img_sz=128,lin_nf=None,**kwargs):\n",
    "        super().__init__()\n",
    "        if not math.ceil(np.log2(img_sz)) == math.floor(np.log2(img_sz)):\n",
    "            raise Exception('Input img size must be power of 2')\n",
    "        self.encoder = nn.Sequential(*get_cnn_layers(nfs,conv_layer,img_sz,lin_nf,**kwargs))\n",
    "        self.decoder = nn.Sequential(*get_cnn_decoder_layers(nfs,deconv_layer,img_sz,lin_nf,**kwargs))\n",
    "    def forward(self, x):\n",
    "        x = self.encoder(x)\n",
    "        x = self.decoder(x)\n",
    "        x = torch.tanh(x)\n",
    "        return x"
   ]
  },
  {
   "cell_type": "code",
   "execution_count": 19,
   "metadata": {},
   "outputs": [],
   "source": [
    "def mse_flat(preds,targs,**kwargs):\n",
    "    return MSELossFlat()(flatten(preds),flatten(targs))"
   ]
  },
  {
   "cell_type": "code",
   "execution_count": 20,
   "metadata": {},
   "outputs": [],
   "source": [
    "def model_summary(model,layers,xb,print_mod=False):\n",
    "    f = lambda mod,inp,out: print(f\"====\\n{mod}\\n\" if print_mod else \"\", out.shape)\n",
    "    with Hooks(layers, f) as hooks: model(xb)"
   ]
  },
  {
   "cell_type": "code",
   "execution_count": 21,
   "metadata": {},
   "outputs": [],
   "source": [
    "def init_cnn(m):\n",
    "    if getattr(m, 'bias', None) is not None: nn.init.constant_(m.bias, 0)\n",
    "    if isinstance(m, (nn.Conv2d,nn.Linear)): nn.init.kaiming_normal_(m.weight)\n",
    "    for l in m.children(): init_cnn(l)"
   ]
  },
  {
   "cell_type": "markdown",
   "metadata": {},
   "source": [
    "# Check model"
   ]
  },
  {
   "cell_type": "code",
   "execution_count": 120,
   "metadata": {},
   "outputs": [],
   "source": [
    "sz=128"
   ]
  },
  {
   "cell_type": "code",
   "execution_count": 121,
   "metadata": {},
   "outputs": [],
   "source": [
    "nfs = [64,64,128, 256]"
   ]
  },
  {
   "cell_type": "code",
   "execution_count": 122,
   "metadata": {},
   "outputs": [],
   "source": [
    "db = get_databunch(bs=64,size=sz)"
   ]
  },
  {
   "cell_type": "code",
   "execution_count": 123,
   "metadata": {},
   "outputs": [],
   "source": [
    "conv_model = ConvAutoEncoderModel(nfs,sz,lin_nf=512).cuda()"
   ]
  },
  {
   "cell_type": "code",
   "execution_count": 124,
   "metadata": {},
   "outputs": [],
   "source": [
    "all_layers = list(list(conv_model.children())[0]) + list(list(conv_model.children())[1])"
   ]
  },
  {
   "cell_type": "code",
   "execution_count": 129,
   "metadata": {
    "scrolled": true
   },
   "outputs": [
    {
     "data": {
      "text/plain": [
       "22"
      ]
     },
     "execution_count": 129,
     "metadata": {},
     "output_type": "execute_result"
    }
   ],
   "source": [
    "len(all_layers)"
   ]
  },
  {
   "cell_type": "code",
   "execution_count": 126,
   "metadata": {},
   "outputs": [],
   "source": [
    "xb,_ = next(iter(db.train_dl))"
   ]
  },
  {
   "cell_type": "code",
   "execution_count": 127,
   "metadata": {},
   "outputs": [
    {
     "data": {
      "text/plain": [
       "torch.Size([64, 3, 128, 128])"
      ]
     },
     "execution_count": 127,
     "metadata": {},
     "output_type": "execute_result"
    }
   ],
   "source": [
    "xb.shape"
   ]
  },
  {
   "cell_type": "code",
   "execution_count": 128,
   "metadata": {
    "scrolled": true
   },
   "outputs": [
    {
     "name": "stdout",
     "output_type": "stream",
     "text": [
      "====\n",
      "Sequential(\n",
      "  (0): Conv2d(3, 16, kernel_size=(3, 3), stride=(1, 1), padding=(1, 1), bias=False)\n",
      "  (1): GeneralRelu()\n",
      "  (2): BatchNorm2d(16, eps=1e-05, momentum=0.1, affine=True, track_running_stats=True)\n",
      ")\n",
      " torch.Size([64, 16, 128, 128])\n",
      "====\n",
      "Sequential(\n",
      "  (0): Conv2d(16, 32, kernel_size=(3, 3), stride=(2, 2), padding=(1, 1), bias=False)\n",
      "  (1): GeneralRelu()\n",
      "  (2): BatchNorm2d(32, eps=1e-05, momentum=0.1, affine=True, track_running_stats=True)\n",
      ")\n",
      " torch.Size([64, 32, 64, 64])\n",
      "====\n",
      "Sequential(\n",
      "  (0): Conv2d(32, 64, kernel_size=(3, 3), stride=(2, 2), padding=(1, 1), bias=False)\n",
      "  (1): GeneralRelu()\n",
      "  (2): BatchNorm2d(64, eps=1e-05, momentum=0.1, affine=True, track_running_stats=True)\n",
      ")\n",
      " torch.Size([64, 64, 32, 32])\n",
      "====\n",
      "Sequential(\n",
      "  (0): Conv2d(64, 64, kernel_size=(3, 3), stride=(2, 2), padding=(1, 1), bias=False)\n",
      "  (1): GeneralRelu()\n",
      "  (2): BatchNorm2d(64, eps=1e-05, momentum=0.1, affine=True, track_running_stats=True)\n",
      ")\n",
      " torch.Size([64, 64, 16, 16])\n",
      "====\n",
      "Sequential(\n",
      "  (0): Conv2d(64, 64, kernel_size=(3, 3), stride=(2, 2), padding=(1, 1), bias=False)\n",
      "  (1): GeneralRelu()\n",
      "  (2): BatchNorm2d(64, eps=1e-05, momentum=0.1, affine=True, track_running_stats=True)\n",
      ")\n",
      " torch.Size([64, 64, 8, 8])\n",
      "====\n",
      "Sequential(\n",
      "  (0): Conv2d(64, 128, kernel_size=(3, 3), stride=(2, 2), padding=(1, 1), bias=False)\n",
      "  (1): GeneralRelu()\n",
      "  (2): BatchNorm2d(128, eps=1e-05, momentum=0.1, affine=True, track_running_stats=True)\n",
      ")\n",
      " torch.Size([64, 128, 4, 4])\n",
      "====\n",
      "Sequential(\n",
      "  (0): Conv2d(128, 256, kernel_size=(3, 3), stride=(2, 2), padding=(1, 1), bias=False)\n",
      "  (1): GeneralRelu()\n",
      "  (2): BatchNorm2d(256, eps=1e-05, momentum=0.1, affine=True, track_running_stats=True)\n",
      ")\n",
      " torch.Size([64, 256, 2, 2])\n",
      "====\n",
      "Lambda()\n",
      " torch.Size([64, 1024])\n",
      "====\n",
      "Linear(in_features=1024, out_features=512, bias=True)\n",
      " torch.Size([64, 512])\n",
      "====\n",
      "ReLU(inplace)\n",
      " torch.Size([64, 512])\n",
      "====\n",
      "BatchNorm1d(512, eps=1e-05, momentum=0.1, affine=True, track_running_stats=True)\n",
      " torch.Size([64, 512])\n",
      "====\n",
      "Linear(in_features=512, out_features=1024, bias=True)\n",
      " torch.Size([64, 1024])\n",
      "====\n",
      "ReLU(inplace)\n",
      " torch.Size([64, 1024])\n",
      "====\n",
      "BatchNorm1d(1024, eps=1e-05, momentum=0.1, affine=True, track_running_stats=True)\n",
      " torch.Size([64, 1024])\n",
      "====\n",
      "Unflatten()\n",
      " torch.Size([64, 256, 2, 2])\n",
      "====\n",
      "Sequential(\n",
      "  (0): Upsample(scale_factor=2.0, mode=nearest)\n",
      "  (1): Conv2d(256, 128, kernel_size=(3, 3), stride=(1, 1), padding=(1, 1), bias=False)\n",
      "  (2): GeneralRelu()\n",
      "  (3): BatchNorm2d(128, eps=1e-05, momentum=0.1, affine=True, track_running_stats=True)\n",
      ")\n",
      " torch.Size([64, 128, 4, 4])\n",
      "====\n",
      "Sequential(\n",
      "  (0): Upsample(scale_factor=2.0, mode=nearest)\n",
      "  (1): Conv2d(128, 64, kernel_size=(3, 3), stride=(1, 1), padding=(1, 1), bias=False)\n",
      "  (2): GeneralRelu()\n",
      "  (3): BatchNorm2d(64, eps=1e-05, momentum=0.1, affine=True, track_running_stats=True)\n",
      ")\n",
      " torch.Size([64, 64, 8, 8])\n",
      "====\n",
      "Sequential(\n",
      "  (0): Upsample(scale_factor=2.0, mode=nearest)\n",
      "  (1): Conv2d(64, 64, kernel_size=(3, 3), stride=(1, 1), padding=(1, 1), bias=False)\n",
      "  (2): GeneralRelu()\n",
      "  (3): BatchNorm2d(64, eps=1e-05, momentum=0.1, affine=True, track_running_stats=True)\n",
      ")\n",
      " torch.Size([64, 64, 16, 16])\n",
      "====\n",
      "Sequential(\n",
      "  (0): Upsample(scale_factor=2.0, mode=nearest)\n",
      "  (1): Conv2d(64, 64, kernel_size=(3, 3), stride=(1, 1), padding=(1, 1), bias=False)\n",
      "  (2): GeneralRelu()\n",
      "  (3): BatchNorm2d(64, eps=1e-05, momentum=0.1, affine=True, track_running_stats=True)\n",
      ")\n",
      " torch.Size([64, 64, 32, 32])\n",
      "====\n",
      "Sequential(\n",
      "  (0): Upsample(scale_factor=2.0, mode=nearest)\n",
      "  (1): Conv2d(64, 32, kernel_size=(3, 3), stride=(1, 1), padding=(1, 1), bias=False)\n",
      "  (2): GeneralRelu()\n",
      "  (3): BatchNorm2d(32, eps=1e-05, momentum=0.1, affine=True, track_running_stats=True)\n",
      ")\n",
      " torch.Size([64, 32, 64, 64])\n",
      "====\n",
      "Sequential(\n",
      "  (0): Upsample(scale_factor=2.0, mode=nearest)\n",
      "  (1): Conv2d(32, 16, kernel_size=(3, 3), stride=(1, 1), padding=(1, 1), bias=False)\n",
      "  (2): GeneralRelu()\n",
      "  (3): BatchNorm2d(16, eps=1e-05, momentum=0.1, affine=True, track_running_stats=True)\n",
      ")\n",
      " torch.Size([64, 16, 128, 128])\n",
      "====\n",
      "Sequential(\n",
      "  (0): Upsample(scale_factor=1.0, mode=nearest)\n",
      "  (1): Conv2d(16, 3, kernel_size=(3, 3), stride=(1, 1), padding=(1, 1), bias=False)\n",
      "  (2): GeneralRelu()\n",
      "  (3): BatchNorm2d(3, eps=1e-05, momentum=0.1, affine=True, track_running_stats=True)\n",
      ")\n",
      " torch.Size([64, 3, 128, 128])\n"
     ]
    }
   ],
   "source": [
    "model_summary(conv_model,all_layers,xb,True)"
   ]
  },
  {
   "cell_type": "markdown",
   "metadata": {},
   "source": [
    "# Init weight and hook visualization"
   ]
  },
  {
   "cell_type": "code",
   "execution_count": 49,
   "metadata": {},
   "outputs": [],
   "source": [
    "def init_cnn(m):\n",
    "    if getattr(m, 'bias', None) is not None: nn.init.constant_(m.bias, 0)\n",
    "    if isinstance(m, (nn.Conv2d,nn.Linear)): nn.init.kaiming_normal_(m.weight)\n",
    "    for l in m.children(): init_cnn(l)"
   ]
  },
  {
   "cell_type": "code",
   "execution_count": 24,
   "metadata": {},
   "outputs": [],
   "source": [
    "nfs = [128, 256, 512]"
   ]
  },
  {
   "cell_type": "code",
   "execution_count": 25,
   "metadata": {},
   "outputs": [],
   "source": [
    "db = get_databunch()"
   ]
  },
  {
   "cell_type": "code",
   "execution_count": 26,
   "metadata": {},
   "outputs": [],
   "source": [
    "model = ConvAutoEncoderModel(nfs,leak=0.1,sub=0.4,maxv=7.).cuda()"
   ]
  },
  {
   "cell_type": "code",
   "execution_count": 27,
   "metadata": {},
   "outputs": [],
   "source": [
    "learn = Learner(db,model,loss_func = mse_flat,metrics=[])"
   ]
  },
  {
   "cell_type": "code",
   "execution_count": 28,
   "metadata": {},
   "outputs": [],
   "source": [
    "all_layers = list(list(learn.model.children())[0]) + list(list(learn.model.children())[1])"
   ]
  },
  {
   "cell_type": "code",
   "execution_count": 31,
   "metadata": {},
   "outputs": [],
   "source": [
    "init_cnn(learn.model)"
   ]
  },
  {
   "cell_type": "code",
   "execution_count": 32,
   "metadata": {},
   "outputs": [],
   "source": [
    "hook_layers = all_layer\n",
    "# hook_layers = all_layers[:6] + all_layers[8:]"
   ]
  },
  {
   "cell_type": "code",
   "execution_count": 33,
   "metadata": {},
   "outputs": [],
   "source": [
    "hooks_means = defaultdict(list)\n",
    "hooks_stds = defaultdict(list)\n",
    "hooks_hists = defaultdict(list)"
   ]
  },
  {
   "cell_type": "code",
   "execution_count": 34,
   "metadata": {},
   "outputs": [
    {
     "data": {
      "text/html": [
       "<table border=\"1\" class=\"dataframe\">\n",
       "  <thead>\n",
       "    <tr style=\"text-align: left;\">\n",
       "      <th>epoch</th>\n",
       "      <th>train_loss</th>\n",
       "      <th>valid_loss</th>\n",
       "      <th>time</th>\n",
       "    </tr>\n",
       "  </thead>\n",
       "  <tbody>\n",
       "    <tr>\n",
       "      <td>0</td>\n",
       "      <td>0.612886</td>\n",
       "      <td>0.571969</td>\n",
       "      <td>01:38</td>\n",
       "    </tr>\n",
       "  </tbody>\n",
       "</table>"
      ],
      "text/plain": [
       "<IPython.core.display.HTML object>"
      ]
     },
     "metadata": {},
     "output_type": "display_data"
    }
   ],
   "source": [
    "with Hooks(hook_layers,append_stats) as hooks:\n",
    "    learn.fit_one_cycle(1, 1e-01)"
   ]
  },
  {
   "cell_type": "code",
   "execution_count": 35,
   "metadata": {},
   "outputs": [
    {
     "data": {
      "image/png": "[encoded data removed]",
      "text/plain": [
       "<Figure size 1080x360 with 2 Axes>"
      ]
     },
     "metadata": {
      "needs_background": "light"
     },
     "output_type": "display_data"
    }
   ],
   "source": [
    "plot_mean_std(hook_layers,50)"
   ]
  },
  {
   "cell_type": "code",
   "execution_count": 40,
   "metadata": {},
   "outputs": [
    {
     "data": {
      "image/png": "[encoded data removed]",
      "text/plain": [
       "<Figure size 1080x360 with 2 Axes>"
      ]
     },
     "metadata": {
      "needs_background": "light"
     },
     "output_type": "display_data"
    }
   ],
   "source": [
    "plot_mean_std(hook_layers,50)"
   ]
  },
  {
   "cell_type": "markdown",
   "metadata": {},
   "source": [
    "# Full training"
   ]
  },
  {
   "cell_type": "code",
   "execution_count": 24,
   "metadata": {},
   "outputs": [],
   "source": [
    "def get_learner(db,model):\n",
    "    learn = Learner(db,model,loss_func = mse_flat,metrics=[])\n",
    "    init_cnn(learn.model)\n",
    "    return learn"
   ]
  },
  {
   "cell_type": "code",
   "execution_count": 25,
   "metadata": {},
   "outputs": [],
   "source": [
    "# tfms = [make_rgb, RandomResizedCrop(size, scale=(0.5,1)), PilRandomFlip(),np_to_float,norm_imagenette]"
   ]
  },
  {
   "cell_type": "code",
   "execution_count": 39,
   "metadata": {},
   "outputs": [],
   "source": [
    "bs=128\n",
    "sz=128"
   ]
  },
  {
   "cell_type": "code",
   "execution_count": 40,
   "metadata": {},
   "outputs": [],
   "source": [
    "# nfs = [128, 256, 512]\n",
    "nfs = [64,64,128, 256]"
   ]
  },
  {
   "cell_type": "code",
   "execution_count": 41,
   "metadata": {},
   "outputs": [],
   "source": [
    "db = get_databunch(tfms=None,bs=bs,size=sz)\n",
    "\n",
    "model = ConvAutoEncoderModel(nfs,sz,lin_nf=512).cuda()"
   ]
  },
  {
   "cell_type": "code",
   "execution_count": 42,
   "metadata": {},
   "outputs": [],
   "source": [
    "learn = get_learner(db,model)"
   ]
  },
  {
   "cell_type": "code",
   "execution_count": 43,
   "metadata": {},
   "outputs": [
    {
     "data": {
      "text/html": [],
      "text/plain": [
       "<IPython.core.display.HTML object>"
      ]
     },
     "metadata": {},
     "output_type": "display_data"
    },
    {
     "name": "stdout",
     "output_type": "stream",
     "text": [
      "LR Finder is complete, type {learner_name}.recorder.plot() to see the graph.\n"
     ]
    }
   ],
   "source": [
    "learn.lr_find()"
   ]
  },
  {
   "cell_type": "code",
   "execution_count": 44,
   "metadata": {},
   "outputs": [
    {
     "data": {
      "image/png": "[encoded data removed]",
      "text/plain": [
       "<Figure size 432x288 with 1 Axes>"
      ]
     },
     "metadata": {
      "needs_background": "light"
     },
     "output_type": "display_data"
    }
   ],
   "source": [
    "learn.recorder.plot(skip_end=1)"
   ]
  },
  {
   "cell_type": "code",
   "execution_count": 45,
   "metadata": {},
   "outputs": [
    {
     "data": {
      "text/html": [
       "<table border=\"1\" class=\"dataframe\">\n",
       "  <thead>\n",
       "    <tr style=\"text-align: left;\">\n",
       "      <th>epoch</th>\n",
       "      <th>train_loss</th>\n",
       "      <th>valid_loss</th>\n",
       "      <th>time</th>\n",
       "    </tr>\n",
       "  </thead>\n",
       "  <tbody>\n",
       "    <tr>\n",
       "      <td>0</td>\n",
       "      <td>0.489551</td>\n",
       "      <td>0.565119</td>\n",
       "      <td>00:36</td>\n",
       "    </tr>\n",
       "    <tr>\n",
       "      <td>1</td>\n",
       "      <td>0.412793</td>\n",
       "      <td>0.640631</td>\n",
       "      <td>00:36</td>\n",
       "    </tr>\n",
       "    <tr>\n",
       "      <td>2</td>\n",
       "      <td>0.370956</td>\n",
       "      <td>0.741506</td>\n",
       "      <td>00:35</td>\n",
       "    </tr>\n",
       "    <tr>\n",
       "      <td>3</td>\n",
       "      <td>0.346220</td>\n",
       "      <td>0.422080</td>\n",
       "      <td>00:36</td>\n",
       "    </tr>\n",
       "    <tr>\n",
       "      <td>4</td>\n",
       "      <td>0.329756</td>\n",
       "      <td>0.345273</td>\n",
       "      <td>00:36</td>\n",
       "    </tr>\n",
       "    <tr>\n",
       "      <td>5</td>\n",
       "      <td>0.313783</td>\n",
       "      <td>0.379001</td>\n",
       "      <td>00:35</td>\n",
       "    </tr>\n",
       "    <tr>\n",
       "      <td>6</td>\n",
       "      <td>0.300353</td>\n",
       "      <td>0.290770</td>\n",
       "      <td>00:35</td>\n",
       "    </tr>\n",
       "    <tr>\n",
       "      <td>7</td>\n",
       "      <td>0.288853</td>\n",
       "      <td>0.279824</td>\n",
       "      <td>00:35</td>\n",
       "    </tr>\n",
       "    <tr>\n",
       "      <td>8</td>\n",
       "      <td>0.280944</td>\n",
       "      <td>0.268543</td>\n",
       "      <td>00:36</td>\n",
       "    </tr>\n",
       "    <tr>\n",
       "      <td>9</td>\n",
       "      <td>0.275002</td>\n",
       "      <td>0.265403</td>\n",
       "      <td>00:35</td>\n",
       "    </tr>\n",
       "  </tbody>\n",
       "</table>"
      ],
      "text/plain": [
       "<IPython.core.display.HTML object>"
      ]
     },
     "metadata": {},
     "output_type": "display_data"
    }
   ],
   "source": [
    "learn.fit_one_cycle(10, 1e-01)"
   ]
  },
  {
   "cell_type": "code",
   "execution_count": 37,
   "metadata": {},
   "outputs": [
    {
     "data": {
      "text/html": [
       "<table border=\"1\" class=\"dataframe\">\n",
       "  <thead>\n",
       "    <tr style=\"text-align: left;\">\n",
       "      <th>epoch</th>\n",
       "      <th>train_loss</th>\n",
       "      <th>valid_loss</th>\n",
       "      <th>time</th>\n",
       "    </tr>\n",
       "  </thead>\n",
       "  <tbody>\n",
       "    <tr>\n",
       "      <td>0</td>\n",
       "      <td>0.631763</td>\n",
       "      <td>0.646559</td>\n",
       "      <td>00:41</td>\n",
       "    </tr>\n",
       "    <tr>\n",
       "      <td>1</td>\n",
       "      <td>0.528930</td>\n",
       "      <td>0.563398</td>\n",
       "      <td>00:42</td>\n",
       "    </tr>\n",
       "    <tr>\n",
       "      <td>2</td>\n",
       "      <td>0.493632</td>\n",
       "      <td>0.529346</td>\n",
       "      <td>00:42</td>\n",
       "    </tr>\n",
       "    <tr>\n",
       "      <td>3</td>\n",
       "      <td>0.471517</td>\n",
       "      <td>0.556058</td>\n",
       "      <td>00:42</td>\n",
       "    </tr>\n",
       "    <tr>\n",
       "      <td>4</td>\n",
       "      <td>0.455793</td>\n",
       "      <td>0.519545</td>\n",
       "      <td>00:41</td>\n",
       "    </tr>\n",
       "    <tr>\n",
       "      <td>5</td>\n",
       "      <td>0.443939</td>\n",
       "      <td>0.458286</td>\n",
       "      <td>00:42</td>\n",
       "    </tr>\n",
       "    <tr>\n",
       "      <td>6</td>\n",
       "      <td>0.440133</td>\n",
       "      <td>0.576319</td>\n",
       "      <td>00:42</td>\n",
       "    </tr>\n",
       "    <tr>\n",
       "      <td>7</td>\n",
       "      <td>0.430321</td>\n",
       "      <td>0.445792</td>\n",
       "      <td>00:42</td>\n",
       "    </tr>\n",
       "    <tr>\n",
       "      <td>8</td>\n",
       "      <td>0.422872</td>\n",
       "      <td>0.408275</td>\n",
       "      <td>00:42</td>\n",
       "    </tr>\n",
       "    <tr>\n",
       "      <td>9</td>\n",
       "      <td>0.418996</td>\n",
       "      <td>0.404283</td>\n",
       "      <td>00:42</td>\n",
       "    </tr>\n",
       "  </tbody>\n",
       "</table>"
      ],
      "text/plain": [
       "<IPython.core.display.HTML object>"
      ]
     },
     "metadata": {},
     "output_type": "display_data"
    }
   ],
   "source": [
    "# learn.fit_one_cycle(10, 1e-01)"
   ]
  },
  {
   "cell_type": "code",
   "execution_count": 48,
   "metadata": {},
   "outputs": [],
   "source": [
    "# learn.save('conv_autoencoder')"
   ]
  }
 ],
 "metadata": {
  "kernelspec": {
   "display_name": "Python 3",
   "language": "python",
   "name": "python3"
  },
  "language_info": {
   "codemirror_mode": {
    "name": "ipython",
    "version": 3
   },
   "file_extension": ".py",
   "mimetype": "text/x-python",
   "name": "python",
   "nbconvert_exporter": "python",
   "pygments_lexer": "ipython3",
   "version": "3.7.1"
  }
 },
 "nbformat": 4,
 "nbformat_minor": 2
}
