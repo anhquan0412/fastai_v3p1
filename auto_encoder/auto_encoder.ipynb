{
 "cells": [
  {
   "cell_type": "code",
   "execution_count": 1,
   "metadata": {},
   "outputs": [],
   "source": [
    "%reload_ext autoreload\n",
    "%autoreload 2\n",
    "%matplotlib inline"
   ]
  },
  {
   "cell_type": "code",
   "execution_count": 2,
   "metadata": {},
   "outputs": [],
   "source": [
    "from fastai.vision import *\n",
    "from fastai import datasets"
   ]
  },
  {
   "cell_type": "code",
   "execution_count": 3,
   "metadata": {},
   "outputs": [
    {
     "data": {
      "text/plain": [
       "PosixPath('/home/quantran/.fastai/data/imagenette-160')"
      ]
     },
     "execution_count": 3,
     "metadata": {},
     "output_type": "execute_result"
    }
   ],
   "source": [
    "path = datasets.untar_data(datasets.URLs.IMAGENETTE_160)\n",
    "path"
   ]
  },
  {
   "cell_type": "code",
   "execution_count": 4,
   "metadata": {},
   "outputs": [
    {
     "data": {
      "text/plain": [
       "[PosixPath('/home/quantran/.fastai/data/imagenette-160/train'),\n",
       " PosixPath('/home/quantran/.fastai/data/imagenette-160/val')]"
      ]
     },
     "execution_count": 4,
     "metadata": {},
     "output_type": "execute_result"
    }
   ],
   "source": [
    "path.ls()"
   ]
  },
  {
   "cell_type": "markdown",
   "metadata": {},
   "source": [
    "# Transformation"
   ]
  },
  {
   "cell_type": "code",
   "execution_count": 5,
   "metadata": {},
   "outputs": [],
   "source": [
    "import random\n",
    "\n",
    "class Transform(): _order=0\n",
    "            \n",
    "class PilTransform(Transform): _order=11\n",
    "\n",
    "class PilRandomFlip(PilTransform):\n",
    "    def __init__(self, p=0.5): self.p=p\n",
    "    def __call__(self, x):\n",
    "        return x.transpose(PIL.Image.FLIP_LEFT_RIGHT) if random.random()<self.p else x\n",
    "\n",
    "class PilRandomDihedral(PilTransform):\n",
    "    def __init__(self, p=0.75): self.p=p*7/8 #Little hack to get the 1/8 identity dihedral transform taken into account.\n",
    "    def __call__(self, x):\n",
    "        if random.random()>self.p: return x\n",
    "        return x.transpose(random.randint(0,6))\n",
    "\n",
    "from random import randint\n",
    "\n",
    "def process_sz(sz):\n",
    "    sz = listify(sz)\n",
    "    return tuple(sz if len(sz)==2 else [sz[0],sz[0]])\n",
    "\n",
    "def default_crop_size(w,h): return [w,w] if w < h else [h,h]\n",
    "\n",
    "class GeneralCrop(PilTransform):\n",
    "    def __init__(self, size, crop_size=None, resample=PIL.Image.BILINEAR):\n",
    "        self.resample,self.size = resample,process_sz(size)\n",
    "        self.crop_size = None if crop_size is None else process_sz(crop_size)\n",
    "\n",
    "    def default_crop_size(self, w,h): return default_crop_size(w,h)\n",
    "\n",
    "    def __call__(self, x):\n",
    "        csize = self.default_crop_size(*x.size) if self.crop_size is None else self.crop_size\n",
    "        return x.transform(self.size, PIL.Image.EXTENT, self.get_corners(*x.size, *csize), resample=self.resample)\n",
    "\n",
    "    def get_corners(self, w, h): return (0,0,w,h)\n",
    "\n",
    "class CenterCrop(GeneralCrop):\n",
    "    def __init__(self, size, scale=1.14, resample=PIL.Image.BILINEAR):\n",
    "        super().__init__(size, resample=resample)\n",
    "        self.scale = scale\n",
    "\n",
    "    def default_crop_size(self, w,h): return [w/self.scale,h/self.scale]\n",
    "\n",
    "    def get_corners(self, w, h, wc, hc):\n",
    "        return ((w-wc)//2, (h-hc)//2, (w-wc)//2+wc, (h-hc)//2+hc)\n",
    "\n",
    "class RandomResizedCrop(GeneralCrop):\n",
    "    def __init__(self, size, scale=(0.08,1.0), ratio=(3./4., 4./3.), resample=PIL.Image.BILINEAR):\n",
    "        super().__init__(size, resample=resample)\n",
    "        self.scale,self.ratio = scale,ratio\n",
    "\n",
    "    def get_corners(self, w, h, wc, hc):\n",
    "        area = w*h\n",
    "        #Tries 10 times to get a proper crop inside the image.\n",
    "        for attempt in range(10):\n",
    "            area = random.uniform(*self.scale) * area\n",
    "            ratio = math.exp(random.uniform(math.log(self.ratio[0]), math.log(self.ratio[1])))\n",
    "            new_w = int(round(math.sqrt(area * ratio)))\n",
    "            new_h = int(round(math.sqrt(area / ratio)))\n",
    "            if new_w <= w and new_h <= h:\n",
    "                left = random.randint(0, w - new_w)\n",
    "                top  = random.randint(0, h - new_h)\n",
    "                return (left, top, left + new_w, top + new_h)\n",
    "\n",
    "        # Fallback to central crop\n",
    "        left,top = randint(0,w-self.crop_size[0]),randint(0,h-self.crop_size[1])\n",
    "        return (left, top, left+self.crop_size[0], top+self.crop_size[1])\n",
    "        # Fallback to central crop\n",
    "\n",
    "from torch import FloatTensor,LongTensor\n",
    "\n",
    "def find_coeffs(orig_pts, targ_pts):\n",
    "    matrix = []\n",
    "    #The equations we'll need to solve.\n",
    "    for p1, p2 in zip(targ_pts, orig_pts):\n",
    "        matrix.append([p1[0], p1[1], 1, 0, 0, 0, -p2[0]*p1[0], -p2[0]*p1[1]])\n",
    "        matrix.append([0, 0, 0, p1[0], p1[1], 1, -p2[1]*p1[0], -p2[1]*p1[1]])\n",
    "\n",
    "    A = FloatTensor(matrix)\n",
    "    B = FloatTensor(orig_pts).view(8, 1)\n",
    "    #The 8 scalars we seek are solution of AX = B\n",
    "    return list(torch.solve(B,A)[0][:,0])\n",
    "\n",
    "def warp(img, size, src_coords, resample=PIL.Image.BILINEAR):\n",
    "    w,h = size\n",
    "    targ_coords = ((0,0),(0,h),(w,h),(w,0))\n",
    "    c = find_coeffs(src_coords,targ_coords)\n",
    "    res = img.transform(size, PIL.Image.PERSPECTIVE, list(c), resample=resample)\n",
    "    return res\n",
    "\n",
    "def uniform(a,b): return a + (b-a) * random.random()\n",
    "\n",
    "class PilTiltRandomCrop(PilTransform):\n",
    "    def __init__(self, size, crop_size=None, magnitude=0., resample=PIL.Image.BILINEAR):\n",
    "        self.resample,self.size,self.magnitude = resample,process_sz(size),magnitude\n",
    "        self.crop_size = None if crop_size is None else process_sz(crop_size)\n",
    "\n",
    "    def __call__(self, x):\n",
    "        csize = default_crop_size(*x.size) if self.crop_size is None else self.crop_size\n",
    "        left,top = randint(0,x.size[0]-csize[0]),randint(0,x.size[1]-csize[1])\n",
    "        top_magn = min(self.magnitude, left/csize[0], (x.size[0]-left)/csize[0]-1)\n",
    "        lr_magn  = min(self.magnitude, top /csize[1], (x.size[1]-top) /csize[1]-1)\n",
    "        up_t,lr_t = uniform(-top_magn, top_magn),uniform(-lr_magn, lr_magn)\n",
    "        src_corners = tensor([[-up_t, -lr_t], [up_t, 1+lr_t], [1-up_t, 1-lr_t], [1+up_t, lr_t]])\n",
    "        src_corners = src_corners * tensor(csize).float() + tensor([left,top]).float()\n",
    "        src_corners = tuple([(int(o[0].item()), int(o[1].item())) for o in src_corners])\n",
    "        return warp(x, self.size, src_corners, resample=self.resample)\n",
    "    \n",
    "    \n",
    "import numpy as np\n",
    "\n",
    "def make_rgb(item): return item.convert('RGB')\n",
    "make_rgb._order=0\n",
    "\n",
    "def np_to_float(x): return torch.from_numpy(np.array(x, dtype=np.float32, copy=False)).permute(2,0,1).contiguous()/255.\n",
    "np_to_float._order = 30"
   ]
  },
  {
   "cell_type": "code",
   "execution_count": 6,
   "metadata": {},
   "outputs": [],
   "source": [
    "def normalize_chan(x, mean, std):\n",
    "    return (x-mean[...,None,None]) / std[...,None,None]\n",
    "\n",
    "_m = tensor([0.47, 0.48, 0.45])\n",
    "_s = tensor([0.29, 0.28, 0.30])\n",
    "norm_imagenette = partial(normalize_chan, mean=_m, std=_s)\n",
    "norm_imagenette._order = 999"
   ]
  },
  {
   "cell_type": "code",
   "execution_count": 7,
   "metadata": {},
   "outputs": [],
   "source": [
    "# size = 128\n",
    "# tfms = [make_rgb, RandomResizedCrop(size, scale=(0.35,1)), np_to_float, PilRandomFlip(),norm_imagenette]\n",
    "\n",
    "# val_tfms = [make_rgb, CenterCrop(size), np_to_float,norm_imagenette]"
   ]
  },
  {
   "cell_type": "code",
   "execution_count": 8,
   "metadata": {},
   "outputs": [],
   "source": [
    "# bs = 64\n",
    "\n",
    "# il = ImageList.from_files(path, tfms=tfms)"
   ]
  },
  {
   "cell_type": "markdown",
   "metadata": {},
   "source": [
    "# Building dataset"
   ]
  },
  {
   "cell_type": "code",
   "execution_count": 9,
   "metadata": {},
   "outputs": [],
   "source": [
    "def compose2(x, funcs, *args, order_key='_order', **kwargs):\n",
    "    key = lambda o: getattr(o, order_key, 0)\n",
    "    for f in sorted(listify(funcs), key=key): x = f(x, **kwargs)\n",
    "    return x"
   ]
  },
  {
   "cell_type": "code",
   "execution_count": 10,
   "metadata": {},
   "outputs": [],
   "source": [
    "class ListContainer():\n",
    "    def __init__(self, items): self.items = listify(items)\n",
    "    def __getitem__(self, idx):\n",
    "        try: return self.items[idx]\n",
    "        except TypeError:\n",
    "            if isinstance(idx[0],bool):\n",
    "                assert len(idx)==len(self) # bool mask\n",
    "                return [o for m,o in zip(idx,self.items) if m]\n",
    "            return [self.items[i] for i in idx]\n",
    "    def __len__(self): return len(self.items)\n",
    "    def __iter__(self): return iter(self.items)\n",
    "    def __setitem__(self, i, o): self.items[i] = o\n",
    "    def __delitem__(self, i): del(self.items[i])\n",
    "    def __repr__(self):\n",
    "        res = f'{self.__class__.__name__} ({len(self)} items)\\n{self.items[:10]}'\n",
    "        if len(self)>10: res = res[:-1]+ '...]'\n",
    "        return res"
   ]
  },
  {
   "cell_type": "code",
   "execution_count": 11,
   "metadata": {},
   "outputs": [],
   "source": [
    "class AEDataset(ListContainer):\n",
    "    def __init__(self, items, tfms=[], labelers=[]):\n",
    "        '''\n",
    "        items: list of PosixPath\n",
    "        '''\n",
    "        super().__init__(items)\n",
    "        self.tfms, self.labeler = tfms, labelers\n",
    "\n",
    "    def _get(self,fn):\n",
    "        return compose2(PIL.Image.open(fn),self.tfms)\n",
    "    def __getitem__(self, idx):\n",
    "        items = super().__getitem__(idx)\n",
    "        res = [self._get(o) for o in items] if isinstance(items,Iterable) else self._get(items)\n",
    "        \n",
    "        return res,res"
   ]
  },
  {
   "cell_type": "code",
   "execution_count": 12,
   "metadata": {},
   "outputs": [],
   "source": [
    "def create_databunch(train_ds, valid_ds, bs, **kwargs):\n",
    "    return DataBunch(\n",
    "            DataLoader(train_ds, batch_size=bs, shuffle=True, **kwargs),\n",
    "            DataLoader(valid_ds, batch_size=bs*2, **kwargs)\n",
    "    )"
   ]
  },
  {
   "cell_type": "code",
   "execution_count": 13,
   "metadata": {},
   "outputs": [],
   "source": [
    "il = (ImageList.from_folder(path)\n",
    "     .split_by_folder(valid='val'))"
   ]
  },
  {
   "cell_type": "code",
   "execution_count": 14,
   "metadata": {},
   "outputs": [
    {
     "data": {
      "text/plain": [
       "array([PosixPath('/home/quantran/.fastai/data/imagenette-160/train/n03000684/n03000684_22294.JPEG'),\n",
       "       PosixPath('/home/quantran/.fastai/data/imagenette-160/train/n03000684/n03000684_16537.JPEG'),\n",
       "       PosixPath('/home/quantran/.fastai/data/imagenette-160/train/n03000684/n03000684_18140.JPEG'),\n",
       "       PosixPath('/home/quantran/.fastai/data/imagenette-160/train/n03000684/n03000684_13440.JPEG'), ...,\n",
       "       PosixPath('/home/quantran/.fastai/data/imagenette-160/train/n03394916/n03394916_29580.JPEG'),\n",
       "       PosixPath('/home/quantran/.fastai/data/imagenette-160/train/n03394916/n03394916_60793.JPEG'),\n",
       "       PosixPath('/home/quantran/.fastai/data/imagenette-160/train/n03394916/n03394916_16322.JPEG'),\n",
       "       PosixPath('/home/quantran/.fastai/data/imagenette-160/train/n03394916/n03394916_24164.JPEG')], dtype=object)"
      ]
     },
     "execution_count": 14,
     "metadata": {},
     "output_type": "execute_result"
    }
   ],
   "source": [
    "il.train.items"
   ]
  },
  {
   "cell_type": "code",
   "execution_count": 15,
   "metadata": {},
   "outputs": [],
   "source": [
    "size = 128\n",
    "# tfms = [make_rgb, RandomResizedCrop(size, scale=(0.5,1)), PilRandomFlip(),np_to_float,norm_imagenette]\n",
    "tfms = [make_rgb, CenterCrop(size),PilRandomFlip(),np_to_float,norm_imagenette]\n",
    "\n",
    "val_tfms = [make_rgb, CenterCrop(size), np_to_float,norm_imagenette]"
   ]
  },
  {
   "cell_type": "code",
   "execution_count": 16,
   "metadata": {},
   "outputs": [
    {
     "data": {
      "text/plain": [
       "[0, 11, 11, 30, 999]"
      ]
     },
     "execution_count": 16,
     "metadata": {},
     "output_type": "execute_result"
    }
   ],
   "source": [
    "[t._order for t in tfms]"
   ]
  },
  {
   "cell_type": "code",
   "execution_count": 46,
   "metadata": {},
   "outputs": [],
   "source": [
    "train_ds = AEDataset(il.train.items,tfms)\n",
    "val_ds = AEDataset(il.valid.items,val_tfms)"
   ]
  },
  {
   "cell_type": "code",
   "execution_count": 47,
   "metadata": {},
   "outputs": [],
   "source": [
    "bs=64\n",
    "db = create_databunch(train_ds,val_ds,bs)"
   ]
  },
  {
   "cell_type": "code",
   "execution_count": 48,
   "metadata": {},
   "outputs": [
    {
     "name": "stdout",
     "output_type": "stream",
     "text": [
      "91.4 ms ± 15.2 ms per loop (mean ± std. dev. of 7 runs, 10 loops each)\n"
     ]
    }
   ],
   "source": [
    "%timeit -n 10 _ = next(iter(db.train_dl))"
   ]
  },
  {
   "cell_type": "code",
   "execution_count": 33,
   "metadata": {},
   "outputs": [
    {
     "name": "stdout",
     "output_type": "stream",
     "text": [
      "151 ms ± 11.1 ms per loop (mean ± std. dev. of 7 runs, 10 loops each)\n"
     ]
    }
   ],
   "source": [
    "%timeit -n 10 _ = next(iter(db.valid_dl))"
   ]
  },
  {
   "cell_type": "code",
   "execution_count": 17,
   "metadata": {},
   "outputs": [],
   "source": [
    "def get_databunch(tfms=None,bs=64,size=128):\n",
    "    il = (ImageList.from_folder(path)\n",
    "     .split_by_folder(valid='val'))\n",
    "    \n",
    "    if tfms is None: tfms = [make_rgb, CenterCrop(size),PilRandomFlip(),np_to_float,norm_imagenette]\n",
    "    val_tfms = [make_rgb, CenterCrop(size), np_to_float,norm_imagenette]\n",
    "    \n",
    "    train_ds = AEDataset(il.train.items,tfms)\n",
    "    val_ds = AEDataset(il.valid.items,val_tfms)\n",
    "    return create_databunch(train_ds,val_ds,bs)"
   ]
  },
  {
   "cell_type": "markdown",
   "metadata": {},
   "source": [
    "# Model"
   ]
  },
  {
   "cell_type": "code",
   "execution_count": 18,
   "metadata": {},
   "outputs": [],
   "source": [
    "def build_enc_dec(hls,is_enc = True):\n",
    "    def linear_relu(i,o):\n",
    "        return nn.Sequential(nn.Linear(i,o),nn.ReLU(True))\n",
    "    \n",
    "    l = len(hls)\n",
    "    if is_enc:\n",
    "        return nn.Sequential(*[linear_relu(hls[i],hls[i+1]) for i in range(l-1)])\n",
    "    return nn.Sequential( *([linear_relu(hls[i],hls[i-1]) for i in range(l-1,0,-1)] + [nn.Tanh()]) )\n"
   ]
  },
  {
   "cell_type": "code",
   "execution_count": 19,
   "metadata": {},
   "outputs": [],
   "source": [
    "def flatten(x): return x.view(x.shape[0],-1)"
   ]
  },
  {
   "cell_type": "code",
   "execution_count": 20,
   "metadata": {},
   "outputs": [],
   "source": [
    "class SimpleEncoderModel(nn.Module):\n",
    "    def __init__(self,hidden_layers):\n",
    "        super().__init__()\n",
    "        self.encoder = build_enc_dec(hidden_layers,True)\n",
    "        self.decoder = build_enc_dec(hidden_layers,False)\n",
    "\n",
    "    def forward(self, x):\n",
    "        x = flatten(x)\n",
    "        x = self.encoder(x)\n",
    "        x = self.decoder(x)\n",
    "        return x"
   ]
  },
  {
   "cell_type": "code",
   "execution_count": 21,
   "metadata": {},
   "outputs": [],
   "source": [
    "# class ConvEncoderModel(nn.Module):\n",
    "#     def __init__(self):\n",
    "#         super().__init__()\n",
    "#         self.encoder = nn.Sequential(\n",
    "#             nn.Conv2d(3, 16, 3, stride=3, padding=1),  # b, 16, 10, 10\n",
    "#             nn.ReLU(True),\n",
    "#             nn.MaxPool2d(2, stride=2),  # b, 16, 5, 5\n",
    "#             nn.Conv2d(16, 8, 3, stride=2, padding=1),  # b, 8, 3, 3\n",
    "#             nn.ReLU(True),\n",
    "#             nn.MaxPool2d(2, stride=1)  # b, 8, 2, 2\n",
    "#         )\n",
    "#         self.decoder = nn.Sequential(\n",
    "#             nn.ConvTranspose2d(8, 16, 3, stride=2),  # b, 16, 5, 5\n",
    "#             nn.ReLU(True),\n",
    "#             nn.ConvTranspose2d(16, 8, 5, stride=3, padding=1),  # b, 8, 15, 15\n",
    "#             nn.ReLU(True),\n",
    "#             nn.ConvTranspose2d(8, 3, 2, stride=2, padding=1),  # b, 1, 28, 28\n",
    "#             nn.Tanh()\n",
    "#         )\n",
    "\n",
    "#     def forward(self, x):\n",
    "#         x = self.encoder(x)\n",
    "#         x = self.decoder(x)\n",
    "#         return x"
   ]
  },
  {
   "cell_type": "code",
   "execution_count": 22,
   "metadata": {},
   "outputs": [],
   "source": [
    "from fastai.callbacks.hooks import *\n",
    "def model_summary(model,xb,print_mod=False):\n",
    "    mods= model.children()\n",
    "    f = lambda mod,inp,out: print(f\"====\\n{mod}\\n\" if print_mod else \"\", out.shape)\n",
    "    with Hooks(mods, f) as hooks: model(xb)"
   ]
  },
  {
   "cell_type": "code",
   "execution_count": 23,
   "metadata": {},
   "outputs": [],
   "source": [
    "# x,y = next(iter(db.train_dl))\n",
    "# model_summary(ac_model,x,False)"
   ]
  },
  {
   "cell_type": "code",
   "execution_count": 40,
   "metadata": {},
   "outputs": [],
   "source": [
    "layers = [128*128*3,256,128,16,3]\n",
    "ac_model = SimpleEncoderModel(layers).cuda()"
   ]
  },
  {
   "cell_type": "code",
   "execution_count": 25,
   "metadata": {
    "scrolled": true
   },
   "outputs": [],
   "source": [
    "# ac_model"
   ]
  },
  {
   "cell_type": "code",
   "execution_count": 26,
   "metadata": {},
   "outputs": [],
   "source": [
    "# x,y = next(iter(db.train_dl))\n",
    "\n",
    "# x.shape\n",
    "\n",
    "# y.shape"
   ]
  },
  {
   "cell_type": "code",
   "execution_count": 41,
   "metadata": {},
   "outputs": [],
   "source": [
    "def mse_flat(preds,targs,**kwargs):\n",
    "    return MSELossFlat()(preds,flatten(targs))\n"
   ]
  },
  {
   "cell_type": "code",
   "execution_count": 42,
   "metadata": {},
   "outputs": [],
   "source": [
    "# tfms = [make_rgb, RandomResizedCrop(size, scale=(0.35,1)), np_to_float, PilRandomFlip(),norm_imagenette]"
   ]
  },
  {
   "cell_type": "code",
   "execution_count": 46,
   "metadata": {},
   "outputs": [],
   "source": [
    "db = get_databunch()"
   ]
  },
  {
   "cell_type": "code",
   "execution_count": 48,
   "metadata": {},
   "outputs": [],
   "source": [
    "learn = Learner(db,SimpleEncoderModel(layers).cuda(),loss_func = mse_flat,metrics=[])"
   ]
  },
  {
   "cell_type": "code",
   "execution_count": 32,
   "metadata": {},
   "outputs": [
    {
     "data": {
      "text/html": [],
      "text/plain": [
       "<IPython.core.display.HTML object>"
      ]
     },
     "metadata": {},
     "output_type": "display_data"
    },
    {
     "name": "stdout",
     "output_type": "stream",
     "text": [
      "LR Finder is complete, type {learner_name}.recorder.plot() to see the graph.\n"
     ]
    },
    {
     "data": {
      "image/png": "[encoded data removed]",
      "text/plain": [
       "<Figure size 432x288 with 1 Axes>"
      ]
     },
     "metadata": {
      "needs_background": "light"
     },
     "output_type": "display_data"
    }
   ],
   "source": [
    "learn.lr_find()\n",
    "learn.recorder.plot()"
   ]
  },
  {
   "cell_type": "code",
   "execution_count": 49,
   "metadata": {
    "scrolled": true
   },
   "outputs": [
    {
     "data": {
      "text/html": [
       "<table border=\"1\" class=\"dataframe\">\n",
       "  <thead>\n",
       "    <tr style=\"text-align: left;\">\n",
       "      <th>epoch</th>\n",
       "      <th>train_loss</th>\n",
       "      <th>valid_loss</th>\n",
       "      <th>time</th>\n",
       "    </tr>\n",
       "  </thead>\n",
       "  <tbody>\n",
       "    <tr>\n",
       "      <td>0</td>\n",
       "      <td>0.858237</td>\n",
       "      <td>0.851361</td>\n",
       "      <td>00:21</td>\n",
       "    </tr>\n",
       "    <tr>\n",
       "      <td>1</td>\n",
       "      <td>0.817365</td>\n",
       "      <td>0.804840</td>\n",
       "      <td>00:22</td>\n",
       "    </tr>\n",
       "    <tr>\n",
       "      <td>2</td>\n",
       "      <td>0.792528</td>\n",
       "      <td>0.788665</td>\n",
       "      <td>00:21</td>\n",
       "    </tr>\n",
       "    <tr>\n",
       "      <td>3</td>\n",
       "      <td>0.779476</td>\n",
       "      <td>0.777489</td>\n",
       "      <td>00:22</td>\n",
       "    </tr>\n",
       "    <tr>\n",
       "      <td>4</td>\n",
       "      <td>0.765650</td>\n",
       "      <td>0.766316</td>\n",
       "      <td>00:22</td>\n",
       "    </tr>\n",
       "    <tr>\n",
       "      <td>5</td>\n",
       "      <td>0.757938</td>\n",
       "      <td>0.761735</td>\n",
       "      <td>00:22</td>\n",
       "    </tr>\n",
       "    <tr>\n",
       "      <td>6</td>\n",
       "      <td>0.753862</td>\n",
       "      <td>0.756319</td>\n",
       "      <td>00:22</td>\n",
       "    </tr>\n",
       "    <tr>\n",
       "      <td>7</td>\n",
       "      <td>0.750062</td>\n",
       "      <td>0.756705</td>\n",
       "      <td>00:22</td>\n",
       "    </tr>\n",
       "    <tr>\n",
       "      <td>8</td>\n",
       "      <td>0.749909</td>\n",
       "      <td>0.751790</td>\n",
       "      <td>00:22</td>\n",
       "    </tr>\n",
       "    <tr>\n",
       "      <td>9</td>\n",
       "      <td>0.745118</td>\n",
       "      <td>0.748471</td>\n",
       "      <td>00:22</td>\n",
       "    </tr>\n",
       "    <tr>\n",
       "      <td>10</td>\n",
       "      <td>0.741953</td>\n",
       "      <td>0.748716</td>\n",
       "      <td>00:22</td>\n",
       "    </tr>\n",
       "    <tr>\n",
       "      <td>11</td>\n",
       "      <td>0.741735</td>\n",
       "      <td>0.745952</td>\n",
       "      <td>00:22</td>\n",
       "    </tr>\n",
       "    <tr>\n",
       "      <td>12</td>\n",
       "      <td>0.735902</td>\n",
       "      <td>0.742843</td>\n",
       "      <td>00:22</td>\n",
       "    </tr>\n",
       "    <tr>\n",
       "      <td>13</td>\n",
       "      <td>0.739401</td>\n",
       "      <td>0.742322</td>\n",
       "      <td>00:22</td>\n",
       "    </tr>\n",
       "    <tr>\n",
       "      <td>14</td>\n",
       "      <td>0.738894</td>\n",
       "      <td>0.740372</td>\n",
       "      <td>00:22</td>\n",
       "    </tr>\n",
       "    <tr>\n",
       "      <td>15</td>\n",
       "      <td>0.736671</td>\n",
       "      <td>0.740443</td>\n",
       "      <td>00:22</td>\n",
       "    </tr>\n",
       "    <tr>\n",
       "      <td>16</td>\n",
       "      <td>0.731829</td>\n",
       "      <td>0.741194</td>\n",
       "      <td>00:22</td>\n",
       "    </tr>\n",
       "    <tr>\n",
       "      <td>17</td>\n",
       "      <td>0.733058</td>\n",
       "      <td>0.739539</td>\n",
       "      <td>00:23</td>\n",
       "    </tr>\n",
       "    <tr>\n",
       "      <td>18</td>\n",
       "      <td>0.728240</td>\n",
       "      <td>0.739464</td>\n",
       "      <td>00:23</td>\n",
       "    </tr>\n",
       "    <tr>\n",
       "      <td>19</td>\n",
       "      <td>0.728443</td>\n",
       "      <td>0.739540</td>\n",
       "      <td>00:23</td>\n",
       "    </tr>\n",
       "  </tbody>\n",
       "</table>"
      ],
      "text/plain": [
       "<IPython.core.display.HTML object>"
      ]
     },
     "metadata": {},
     "output_type": "display_data"
    }
   ],
   "source": [
    "learn.fit_one_cycle(20, 2e-3)"
   ]
  },
  {
   "cell_type": "code",
   "execution_count": 33,
   "metadata": {
    "scrolled": true
   },
   "outputs": [
    {
     "data": {
      "text/html": [
       "<table border=\"1\" class=\"dataframe\">\n",
       "  <thead>\n",
       "    <tr style=\"text-align: left;\">\n",
       "      <th>epoch</th>\n",
       "      <th>train_loss</th>\n",
       "      <th>valid_loss</th>\n",
       "      <th>time</th>\n",
       "    </tr>\n",
       "  </thead>\n",
       "  <tbody>\n",
       "    <tr>\n",
       "      <td>0</td>\n",
       "      <td>0.864895</td>\n",
       "      <td>0.856193</td>\n",
       "      <td>00:22</td>\n",
       "    </tr>\n",
       "    <tr>\n",
       "      <td>1</td>\n",
       "      <td>0.829329</td>\n",
       "      <td>0.821405</td>\n",
       "      <td>00:22</td>\n",
       "    </tr>\n",
       "    <tr>\n",
       "      <td>2</td>\n",
       "      <td>0.804664</td>\n",
       "      <td>0.796871</td>\n",
       "      <td>00:22</td>\n",
       "    </tr>\n",
       "    <tr>\n",
       "      <td>3</td>\n",
       "      <td>0.789643</td>\n",
       "      <td>0.791708</td>\n",
       "      <td>00:22</td>\n",
       "    </tr>\n",
       "    <tr>\n",
       "      <td>4</td>\n",
       "      <td>0.784652</td>\n",
       "      <td>0.784141</td>\n",
       "      <td>00:23</td>\n",
       "    </tr>\n",
       "    <tr>\n",
       "      <td>5</td>\n",
       "      <td>0.780075</td>\n",
       "      <td>0.775325</td>\n",
       "      <td>00:22</td>\n",
       "    </tr>\n",
       "    <tr>\n",
       "      <td>6</td>\n",
       "      <td>0.770399</td>\n",
       "      <td>0.771200</td>\n",
       "      <td>00:21</td>\n",
       "    </tr>\n",
       "    <tr>\n",
       "      <td>7</td>\n",
       "      <td>0.761116</td>\n",
       "      <td>0.765647</td>\n",
       "      <td>00:22</td>\n",
       "    </tr>\n",
       "    <tr>\n",
       "      <td>8</td>\n",
       "      <td>0.759212</td>\n",
       "      <td>0.764243</td>\n",
       "      <td>00:22</td>\n",
       "    </tr>\n",
       "    <tr>\n",
       "      <td>9</td>\n",
       "      <td>0.754430</td>\n",
       "      <td>0.761132</td>\n",
       "      <td>00:23</td>\n",
       "    </tr>\n",
       "    <tr>\n",
       "      <td>10</td>\n",
       "      <td>0.756307</td>\n",
       "      <td>0.757077</td>\n",
       "      <td>00:22</td>\n",
       "    </tr>\n",
       "    <tr>\n",
       "      <td>11</td>\n",
       "      <td>0.750729</td>\n",
       "      <td>0.756027</td>\n",
       "      <td>00:22</td>\n",
       "    </tr>\n",
       "    <tr>\n",
       "      <td>12</td>\n",
       "      <td>0.747965</td>\n",
       "      <td>0.753512</td>\n",
       "      <td>00:22</td>\n",
       "    </tr>\n",
       "    <tr>\n",
       "      <td>13</td>\n",
       "      <td>0.738772</td>\n",
       "      <td>0.754110</td>\n",
       "      <td>00:22</td>\n",
       "    </tr>\n",
       "    <tr>\n",
       "      <td>14</td>\n",
       "      <td>0.742656</td>\n",
       "      <td>0.750774</td>\n",
       "      <td>00:23</td>\n",
       "    </tr>\n",
       "    <tr>\n",
       "      <td>15</td>\n",
       "      <td>0.744603</td>\n",
       "      <td>0.750358</td>\n",
       "      <td>00:23</td>\n",
       "    </tr>\n",
       "    <tr>\n",
       "      <td>16</td>\n",
       "      <td>0.739097</td>\n",
       "      <td>0.750061</td>\n",
       "      <td>00:22</td>\n",
       "    </tr>\n",
       "    <tr>\n",
       "      <td>17</td>\n",
       "      <td>0.743557</td>\n",
       "      <td>0.749759</td>\n",
       "      <td>00:23</td>\n",
       "    </tr>\n",
       "    <tr>\n",
       "      <td>18</td>\n",
       "      <td>0.736511</td>\n",
       "      <td>0.749450</td>\n",
       "      <td>00:22</td>\n",
       "    </tr>\n",
       "    <tr>\n",
       "      <td>19</td>\n",
       "      <td>0.743127</td>\n",
       "      <td>0.749378</td>\n",
       "      <td>00:23</td>\n",
       "    </tr>\n",
       "  </tbody>\n",
       "</table>"
      ],
      "text/plain": [
       "<IPython.core.display.HTML object>"
      ]
     },
     "metadata": {},
     "output_type": "display_data"
    }
   ],
   "source": [
    "# learn.fit_one_cycle(20, 1e-3)"
   ]
  },
  {
   "cell_type": "code",
   "execution_count": 50,
   "metadata": {},
   "outputs": [],
   "source": [
    "# learn.save('simple_enc_resize_crop')"
   ]
  }
 ],
 "metadata": {
  "kernelspec": {
   "display_name": "Python 3",
   "language": "python",
   "name": "python3"
  },
  "language_info": {
   "codemirror_mode": {
    "name": "ipython",
    "version": 3
   },
   "file_extension": ".py",
   "mimetype": "text/x-python",
   "name": "python",
   "nbconvert_exporter": "python",
   "pygments_lexer": "ipython3",
   "version": "3.7.1"
  }
 },
 "nbformat": 4,
 "nbformat_minor": 2
}
