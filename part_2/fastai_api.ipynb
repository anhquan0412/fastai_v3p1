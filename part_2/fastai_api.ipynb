{
 "cells": [
  {
   "cell_type": "code",
   "execution_count": 1,
   "metadata": {},
   "outputs": [],
   "source": [
    "from IPython.core.interactiveshell import InteractiveShell\n",
    "InteractiveShell.ast_node_interactivity = \"all\"\n",
    "\n",
    "import operator\n",
    "\n",
    "from pathlib import Path\n",
    "from IPython.core.debugger import set_trace\n",
    "# from fastai import datasets\n",
    "import pickle, gzip, math, torch, matplotlib as mpl\n",
    "import matplotlib.pyplot as plt\n",
    "from torch import tensor\n",
    "\n",
    "import seaborn as sns"
   ]
  },
  {
   "cell_type": "code",
   "execution_count": 10,
   "metadata": {},
   "outputs": [],
   "source": [
    "from torch.nn import init"
   ]
  },
  {
   "cell_type": "code",
   "execution_count": 2,
   "metadata": {},
   "outputs": [],
   "source": [
    "from pathlib import Path\n",
    "from IPython.core.debugger import set_trace\n",
    "# from fastai import datasets\n",
    "import pickle, gzip, math, torch, matplotlib as mpl\n",
    "import matplotlib.pyplot as plt\n",
    "from torch import tensor"
   ]
  },
  {
   "cell_type": "code",
   "execution_count": 5,
   "metadata": {},
   "outputs": [],
   "source": [
    "def get_data():\n",
    "    input_path = Path(\"data\")\n",
    "    # Path to training images and corresponding labels provided as numpy arrays\n",
    "    kmnist_train_images_path = input_path/\"kmnist-train-imgs.npz\"\n",
    "    kmnist_train_labels_path = input_path/\"kmnist-train-labels.npz\"\n",
    "\n",
    "    # Path to the test images and corresponding labels\n",
    "    kmnist_test_images_path = input_path/\"kmnist-test-imgs.npz\"\n",
    "    kmnist_test_labels_path = input_path/\"kmnist-test-labels.npz\"\n",
    "    import numpy\n",
    "    train = numpy.load(kmnist_train_images_path)['arr_0']\n",
    "    train_labels = numpy.load(kmnist_train_labels_path)['arr_0']\n",
    "\n",
    "    # Load the test data from the corresponding npz files\n",
    "    test = numpy.load(kmnist_test_images_path)['arr_0']\n",
    "    test_labels = numpy.load(kmnist_test_labels_path)['arr_0']\n",
    "    x_train,y_train,x_valid,y_valid = map(tensor, (train,train_labels,test,test_labels))\n",
    "    x_train = x_train.view(x_train.shape[0],-1).to(dtype=torch.float32)/255\n",
    "    x_valid = x_valid.view(x_valid.shape[0],-1).to(dtype=torch.float32)/255\n",
    "    \n",
    "    return x_train,y_train,x_valid,y_valid\n",
    "\n",
    "def get_data_normalized():\n",
    "    x_train,y_train,x_valid,y_valid = get_data()\n",
    "    train_mean,train_std = x_train.mean(),x_train.std()\n",
    "    x_train = normalize(x_train,train_mean,train_std)\n",
    "    x_valid = normalize(x_valid,train_mean,train_std)\n",
    "    return x_train,y_train,x_valid,y_valid\n",
    "def normalize(x,mean,std): return (x-mean)/std"
   ]
  },
  {
   "cell_type": "code",
   "execution_count": 6,
   "metadata": {},
   "outputs": [
    {
     "data": {
      "text/plain": [
       "(tensor(-4.3871e-06), tensor(1.), tensor(2.3301), tensor(-0.5479))"
      ]
     },
     "execution_count": 6,
     "metadata": {},
     "output_type": "execute_result"
    },
    {
     "data": {
      "text/plain": [
       "(tensor(-0.0205), tensor(0.9801), tensor(2.3301), tensor(-0.5479))"
      ]
     },
     "execution_count": 6,
     "metadata": {},
     "output_type": "execute_result"
    }
   ],
   "source": [
    "x_train,y_train,x_valid,y_valid = get_data_normalized()\n",
    "x_train.mean(),x_train.std(),x_train.max(),x_train.min()\n",
    "x_valid.mean(),x_valid.std(),x_valid.max(),x_valid.min()"
   ]
  },
  {
   "cell_type": "code",
   "execution_count": 18,
   "metadata": {},
   "outputs": [],
   "source": [
    "torch.nn.modules.conv._ConvNd.reset_parameters??"
   ]
  }
 ],
 "metadata": {
  "kernelspec": {
   "display_name": "Python 3",
   "language": "python",
   "name": "python3"
  },
  "language_info": {
   "codemirror_mode": {
    "name": "ipython",
    "version": 3
   },
   "file_extension": ".py",
   "mimetype": "text/x-python",
   "name": "python",
   "nbconvert_exporter": "python",
   "pygments_lexer": "ipython3",
   "version": "3.7.1"
  }
 },
 "nbformat": 4,
 "nbformat_minor": 2
}
