{
 "cells": [
  {
   "cell_type": "code",
   "execution_count": null,
   "metadata": {},
   "outputs": [],
   "source": []
  },
  {
   "cell_type": "code",
   "execution_count": 1,
   "metadata": {},
   "outputs": [],
   "source": [
    "%load_ext autoreload\n",
    "%autoreload 2\n",
    "\n",
    "%matplotlib inline"
   ]
  },
  {
   "cell_type": "code",
   "execution_count": 2,
   "metadata": {},
   "outputs": [],
   "source": [
    "\n",
    "from exp.nb_03 import *"
   ]
  },
  {
   "cell_type": "markdown",
   "metadata": {},
   "source": [
    "# Get data"
   ]
  },
  {
   "cell_type": "code",
   "execution_count": 3,
   "metadata": {},
   "outputs": [],
   "source": [
    "x_train,y_train,x_valid,y_valid= get_data_normalized()"
   ]
  },
  {
   "cell_type": "code",
   "execution_count": 4,
   "metadata": {},
   "outputs": [],
   "source": [
    "train_ds,valid_ds = Dataset(x_train, y_train),Dataset(x_valid, y_valid)\n",
    "nh,bs = 50,64\n",
    "c = y_train.max().item()+1\n",
    "loss_func = F.cross_entropy"
   ]
  },
  {
   "cell_type": "code",
   "execution_count": 5,
   "metadata": {},
   "outputs": [
    {
     "data": {
      "text/plain": [
       "(64, 50, 10)"
      ]
     },
     "execution_count": 5,
     "metadata": {},
     "output_type": "execute_result"
    }
   ],
   "source": [
    "bs,nh,c"
   ]
  },
  {
   "cell_type": "markdown",
   "metadata": {},
   "source": [
    "# Databunch: gather train and valid dataloader together"
   ]
  },
  {
   "cell_type": "code",
   "execution_count": 6,
   "metadata": {},
   "outputs": [],
   "source": [
    "class DataBunch():\n",
    "    def __init__(self, train_dl, valid_dl, c=None):\n",
    "        self.train_dl,self.valid_dl,self.c = train_dl,valid_dl,c\n",
    "        \n",
    "    @property\n",
    "    def train_ds(self): return self.train_dl.dataset\n",
    "        \n",
    "    @property\n",
    "    def valid_ds(self): return self.valid_dl.dataset"
   ]
  },
  {
   "cell_type": "code",
   "execution_count": 7,
   "metadata": {},
   "outputs": [],
   "source": [
    "db = DataBunch(*get_dls(train_ds,valid_ds,bs),c)"
   ]
  },
  {
   "cell_type": "markdown",
   "metadata": {},
   "source": [
    "# Learner: get model, optimizer, loss func and data together (factoring into packages)"
   ]
  },
  {
   "cell_type": "code",
   "execution_count": 8,
   "metadata": {},
   "outputs": [],
   "source": [
    "def get_simple_model(data,lr=0.1,nh=50):\n",
    "    n_features = data.train_ds.x.shape[1]\n",
    "    model = nn.Sequential(nn.Linear(n_features,nh),nn.ReLU(),nn.Linear(nh,data.c))\n",
    "    return model, optim.SGD(model.parameters(),lr =  lr)"
   ]
  },
  {
   "cell_type": "code",
   "execution_count": 9,
   "metadata": {},
   "outputs": [],
   "source": [
    "class Learner():\n",
    "    def __init__(self, model, opt, loss_func, data):\n",
    "        self.model,self.opt,self.loss_func,self.data = model,opt,loss_func,data"
   ]
  },
  {
   "cell_type": "code",
   "execution_count": 10,
   "metadata": {},
   "outputs": [
    {
     "data": {
      "text/plain": [
       "<function torch.nn.functional.cross_entropy(input, target, weight=None, size_average=None, ignore_index=-100, reduce=None, reduction='mean')>"
      ]
     },
     "execution_count": 10,
     "metadata": {},
     "output_type": "execute_result"
    }
   ],
   "source": [
    "loss_func"
   ]
  },
  {
   "cell_type": "code",
   "execution_count": 11,
   "metadata": {},
   "outputs": [],
   "source": [
    "learn = Learner(*get_simple_model(db),loss_func,db)"
   ]
  },
  {
   "cell_type": "code",
   "execution_count": 12,
   "metadata": {},
   "outputs": [],
   "source": [
    "def fit(epochs, learn):\n",
    "    # 0 begin fit\n",
    "    for epoch in range(epochs):\n",
    "        learn.model.train()\n",
    "        # 1 begin epoch\n",
    "        for xb,yb in learn.data.train_dl:\n",
    "            # 2 begin batch: blank\n",
    "            \n",
    "            # 3 begin loss\n",
    "            loss = learn.loss_func(learn.model(xb), yb)\n",
    "            # 3 after loss: blank\n",
    "            \n",
    "            # 4 begin backward\n",
    "            loss.backward()\n",
    "            # 4 after backward: blank\n",
    "            \n",
    "            # 5 begin step\n",
    "            learn.opt.step()\n",
    "            # 5 after step\n",
    "            learn.opt.zero_grad()\n",
    "            \n",
    "            # 2 after batch: blank\n",
    "        \n",
    "        # 6 begin validate\n",
    "        learn.model.eval()\n",
    "        with torch.no_grad():\n",
    "            tot_loss,tot_acc = 0.,0.\n",
    "            for xb,yb in learn.data.valid_dl:\n",
    "                pred = learn.model(xb)\n",
    "                tot_loss += learn.loss_func(pred, yb)\n",
    "                tot_acc  += accuracy (pred,yb)\n",
    "        nv = len(learn.data.valid_dl)\n",
    "        print(epoch, tot_loss/nv, tot_acc/nv)\n",
    "        # 6 after validate: blank\n",
    "        \n",
    "        # 1 after epoch: blank\n",
    "    \n",
    "    # 0 after fit    \n",
    "    return tot_loss/nv, tot_acc/nv"
   ]
  },
  {
   "cell_type": "code",
   "execution_count": 13,
   "metadata": {},
   "outputs": [
    {
     "name": "stdout",
     "output_type": "stream",
     "text": [
      "0 tensor(0.5808) tensor(0.8209)\n"
     ]
    }
   ],
   "source": [
    "loss,acc = fit(1, learn)"
   ]
  },
  {
   "cell_type": "markdown",
   "metadata": {},
   "source": [
    "```\n",
    "def one_batch(xb,yb):\n",
    "    loss = loss_func(model(xb), yb)\n",
    "    loss.backward()\n",
    "    opt.step()\n",
    "    opt.zero_grad()\n",
    "\n",
    "def fit():\n",
    "    for epoch in range(epochs):\n",
    "        for b in train_dl: one_batch(*b)\n",
    "```"
   ]
  },
  {
   "cell_type": "markdown",
   "metadata": {},
   "source": [
    "# Callbacks"
   ]
  },
  {
   "cell_type": "code",
   "execution_count": 14,
   "metadata": {},
   "outputs": [],
   "source": [
    "def one_batch(xb, yb, cb):\n",
    "    if not cb.begin_batch(xb,yb): return\n",
    "    loss = cb.learn.loss_func(cb.learn.model(xb), yb)\n",
    "    if not cb.after_loss(loss): \n",
    "        return # will do this at validation step\n",
    "    loss.backward()\n",
    "    if cb.after_backward(): cb.learn.opt.step()\n",
    "    if cb.after_step(): cb.learn.opt.zero_grad()\n",
    "\n",
    "def all_batches(dl, cb):\n",
    "    for xb,yb in dl:\n",
    "        one_batch(xb, yb, cb)\n",
    "        if cb.do_stop(): return\n",
    "\n",
    "def fit(epochs, learn, cb):\n",
    "    if not cb.begin_fit(learn): return\n",
    "    for epoch in range(epochs):\n",
    "        if not cb.begin_epoch(epoch): continue\n",
    "        all_batches(learn.data.train_dl, cb)\n",
    "        \n",
    "        if cb.begin_validate():\n",
    "            with torch.no_grad(): all_batches(learn.data.valid_dl, cb)\n",
    "        if cb.do_stop() or not cb.after_epoch(): break\n",
    "    cb.after_fit()\n"
   ]
  },
  {
   "cell_type": "code",
   "execution_count": 15,
   "metadata": {},
   "outputs": [],
   "source": [
    "# callback funcs only return boolean\n",
    "class Callback():\n",
    "    def begin_fit(self, learn):\n",
    "        self.learn = learn\n",
    "        return True\n",
    "    def after_fit(self): return True\n",
    "    def begin_epoch(self, epoch):\n",
    "        self.epoch=epoch\n",
    "        return True\n",
    "    def begin_validate(self): return True\n",
    "    def after_epoch(self): return True\n",
    "    def begin_batch(self, xb, yb):\n",
    "        self.xb,self.yb = xb,yb\n",
    "        return True\n",
    "    def after_loss(self, loss):\n",
    "        self.loss = loss\n",
    "        return True\n",
    "    def after_backward(self): return True\n",
    "    def after_step(self): return True"
   ]
  },
  {
   "cell_type": "markdown",
   "metadata": {},
   "source": [
    "# Callback handlers: to handle multiple callbacks"
   ]
  },
  {
   "cell_type": "code",
   "execution_count": 16,
   "metadata": {},
   "outputs": [],
   "source": [
    "class CallbackHandler():\n",
    "    def __init__(self,cbs=None):\n",
    "        self.cbs = cbs if cbs else []\n",
    "\n",
    "    def begin_fit(self, learn):\n",
    "        self.learn,self.in_train = learn,True\n",
    "        learn.stop = False\n",
    "        res = True # boolean result\n",
    "        for cb in self.cbs: res = (res and cb.begin_fit(learn))\n",
    "        return res\n",
    "\n",
    "    def after_fit(self):\n",
    "        res = not self.in_train\n",
    "        for cb in self.cbs: res = (res and cb.after_fit())\n",
    "        return res\n",
    "    \n",
    "    def begin_epoch(self, epoch):\n",
    "        learn.model.train()\n",
    "        self.in_train=True\n",
    "        res = True\n",
    "        for cb in self.cbs: res = (res and cb.begin_epoch(epoch))\n",
    "        return res\n",
    "\n",
    "    def begin_validate(self):\n",
    "        self.learn.model.eval()\n",
    "        self.in_train=False\n",
    "        res = True\n",
    "        for cb in self.cbs: res = (res and cb.begin_validate())\n",
    "        return res\n",
    "\n",
    "    def after_epoch(self):\n",
    "        res = True\n",
    "        for cb in self.cbs: res = (res and cb.after_epoch())\n",
    "        return res\n",
    "    \n",
    "    def begin_batch(self, xb, yb):\n",
    "        res = True\n",
    "        for cb in self.cbs: res = (res and cb.begin_batch(xb, yb))\n",
    "        return res\n",
    "\n",
    "    def after_loss(self, loss):\n",
    "        res = self.in_train # will be false at begin_validate, thus return False overall unless there's a callback to reverse it back\n",
    "        for cb in self.cbs: res = (res and cb.after_loss(loss))\n",
    "        return res\n",
    "\n",
    "    def after_backward(self):\n",
    "        res = True\n",
    "        for cb in self.cbs: res = (res and cb.after_backward())\n",
    "        return res\n",
    "\n",
    "    def after_step(self):\n",
    "        res = True\n",
    "        for cb in self.cbs: res = (res and cb.after_step())\n",
    "        return res\n",
    "    \n",
    "    def do_stop(self):\n",
    "        try:     return learn.stop\n",
    "        finally: learn.stop = False"
   ]
  },
  {
   "cell_type": "markdown",
   "metadata": {},
   "source": [
    "## Example\n"
   ]
  },
  {
   "cell_type": "code",
   "execution_count": 17,
   "metadata": {},
   "outputs": [],
   "source": [
    "class TestCallback(Callback):\n",
    "    def begin_fit(self,learn):\n",
    "        super().begin_fit(learn)\n",
    "        self.n_iters = 0\n",
    "        return True\n",
    "        \n",
    "    def after_step(self):\n",
    "        self.n_iters += 1\n",
    "        print(self.n_iters)\n",
    "        if self.n_iters>=10: learn.stop = True\n",
    "        return True"
   ]
  },
  {
   "cell_type": "code",
   "execution_count": 18,
   "metadata": {},
   "outputs": [
    {
     "name": "stdout",
     "output_type": "stream",
     "text": [
      "1\n",
      "2\n",
      "3\n",
      "4\n",
      "5\n",
      "6\n",
      "7\n",
      "8\n",
      "9\n",
      "10\n"
     ]
    }
   ],
   "source": [
    "fit(1, learn, cb=CallbackHandler([TestCallback()]))"
   ]
  },
  {
   "cell_type": "markdown",
   "metadata": {},
   "source": [
    "```\n",
    "class Callback():\n",
    "    def begin_fit(self, learn):\n",
    "        self.learn = learn\n",
    "        return True\n",
    "    def after_fit(self): return True\n",
    "    def begin_epoch(self, epoch):\n",
    "        self.epoch=epoch\n",
    "        return True\n",
    "    def begin_validate(self): return True\n",
    "    def after_epoch(self): return True\n",
    "    def begin_batch(self, xb, yb):\n",
    "        self.xb,self.yb = xb,yb\n",
    "        return True\n",
    "    def after_loss(self, loss):\n",
    "        self.loss = loss\n",
    "        return True\n",
    "    def after_backward(self): return True\n",
    "    def after_step(self): return True\n",
    "```"
   ]
  },
  {
   "cell_type": "code",
   "execution_count": 19,
   "metadata": {},
   "outputs": [],
   "source": [
    "class TempCallback(Callback):\n",
    "    def begin_fit(self,learn):\n",
    "        super().begin_fit(learn) # set self.learn\n",
    "        self.n_iters = 0\n",
    "        print('begin_fit')\n",
    "        return True\n",
    "    def after_fit(self):\n",
    "        print('after_fit')\n",
    "        return True\n",
    "    def begin_epoch(self,epoch):\n",
    "        super().begin_epoch(epoch)\n",
    "        print(f'Begin epoch: {self.epoch}')\n",
    "        return True\n",
    "    def begin_validate(self):\n",
    "        print(f'Begin validating at epoch {self.epoch}')\n",
    "        return True\n",
    "    def after_epoch(self): \n",
    "        print('After epoch')\n",
    "        return True\n",
    "    def begin_batch(self, xb, yb):\n",
    "        super().begin_batch(xb,yb)\n",
    "        print(f'Begin batch with shape: {xb.shape}')\n",
    "        return True\n",
    "    def after_loss(self, loss):\n",
    "        super().after_loss(loss)\n",
    "        print(f'After loss of 1 batch: Training loss {self.loss}')\n",
    "        return True\n",
    "    def after_backward(self): \n",
    "        print(f'After backward')\n",
    "        return True\n",
    "    def after_step(self):\n",
    "        self.n_iters += 1\n",
    "        print(f'After opt step {self.n_iters}')\n",
    "        if self.n_iters>=5: learn.stop = True\n",
    "        return True"
   ]
  },
  {
   "cell_type": "markdown",
   "metadata": {},
   "source": [
    "1 epoch, only step through 5 batches (aka only train 5 batches), validate all the batches of the epoch"
   ]
  },
  {
   "cell_type": "code",
   "execution_count": 20,
   "metadata": {
    "scrolled": true
   },
   "outputs": [
    {
     "name": "stdout",
     "output_type": "stream",
     "text": [
      "begin_fit\n",
      "Begin epoch: 0\n",
      "Begin batch with shape: torch.Size([64, 784])\n",
      "After loss of 1 batch: Training loss 0.3003041446208954\n",
      "After backward\n",
      "After opt step 1\n",
      "Begin batch with shape: torch.Size([64, 784])\n",
      "After loss of 1 batch: Training loss 0.2018508017063141\n",
      "After backward\n",
      "After opt step 2\n",
      "Begin batch with shape: torch.Size([64, 784])\n",
      "After loss of 1 batch: Training loss 0.217964768409729\n",
      "After backward\n",
      "After opt step 3\n",
      "Begin batch with shape: torch.Size([64, 784])\n",
      "After loss of 1 batch: Training loss 0.1688244789838791\n",
      "After backward\n",
      "After opt step 4\n",
      "Begin batch with shape: torch.Size([64, 784])\n",
      "After loss of 1 batch: Training loss 0.27026647329330444\n",
      "After backward\n",
      "After opt step 5\n",
      "Begin validating at epoch 0\n",
      "Begin batch with shape: torch.Size([128, 784])\n",
      "Begin batch with shape: torch.Size([128, 784])\n",
      "Begin batch with shape: torch.Size([128, 784])\n",
      "Begin batch with shape: torch.Size([128, 784])\n",
      "Begin batch with shape: torch.Size([128, 784])\n",
      "Begin batch with shape: torch.Size([128, 784])\n",
      "Begin batch with shape: torch.Size([128, 784])\n",
      "Begin batch with shape: torch.Size([128, 784])\n",
      "Begin batch with shape: torch.Size([128, 784])\n",
      "Begin batch with shape: torch.Size([128, 784])\n",
      "Begin batch with shape: torch.Size([128, 784])\n",
      "Begin batch with shape: torch.Size([128, 784])\n",
      "Begin batch with shape: torch.Size([128, 784])\n",
      "Begin batch with shape: torch.Size([128, 784])\n",
      "Begin batch with shape: torch.Size([128, 784])\n",
      "Begin batch with shape: torch.Size([128, 784])\n",
      "Begin batch with shape: torch.Size([128, 784])\n",
      "Begin batch with shape: torch.Size([128, 784])\n",
      "Begin batch with shape: torch.Size([128, 784])\n",
      "Begin batch with shape: torch.Size([128, 784])\n",
      "Begin batch with shape: torch.Size([128, 784])\n",
      "Begin batch with shape: torch.Size([128, 784])\n",
      "Begin batch with shape: torch.Size([128, 784])\n",
      "Begin batch with shape: torch.Size([128, 784])\n",
      "Begin batch with shape: torch.Size([128, 784])\n",
      "Begin batch with shape: torch.Size([128, 784])\n",
      "Begin batch with shape: torch.Size([128, 784])\n",
      "Begin batch with shape: torch.Size([128, 784])\n",
      "Begin batch with shape: torch.Size([128, 784])\n",
      "Begin batch with shape: torch.Size([128, 784])\n",
      "Begin batch with shape: torch.Size([128, 784])\n",
      "Begin batch with shape: torch.Size([128, 784])\n",
      "Begin batch with shape: torch.Size([128, 784])\n",
      "Begin batch with shape: torch.Size([128, 784])\n",
      "Begin batch with shape: torch.Size([128, 784])\n",
      "Begin batch with shape: torch.Size([128, 784])\n",
      "Begin batch with shape: torch.Size([128, 784])\n",
      "Begin batch with shape: torch.Size([128, 784])\n",
      "Begin batch with shape: torch.Size([128, 784])\n",
      "Begin batch with shape: torch.Size([128, 784])\n",
      "Begin batch with shape: torch.Size([128, 784])\n",
      "Begin batch with shape: torch.Size([128, 784])\n",
      "Begin batch with shape: torch.Size([128, 784])\n",
      "Begin batch with shape: torch.Size([128, 784])\n",
      "Begin batch with shape: torch.Size([128, 784])\n",
      "Begin batch with shape: torch.Size([128, 784])\n",
      "Begin batch with shape: torch.Size([128, 784])\n",
      "Begin batch with shape: torch.Size([128, 784])\n",
      "Begin batch with shape: torch.Size([128, 784])\n",
      "Begin batch with shape: torch.Size([128, 784])\n",
      "Begin batch with shape: torch.Size([128, 784])\n",
      "Begin batch with shape: torch.Size([128, 784])\n",
      "Begin batch with shape: torch.Size([128, 784])\n",
      "Begin batch with shape: torch.Size([128, 784])\n",
      "Begin batch with shape: torch.Size([128, 784])\n",
      "Begin batch with shape: torch.Size([128, 784])\n",
      "Begin batch with shape: torch.Size([128, 784])\n",
      "Begin batch with shape: torch.Size([128, 784])\n",
      "Begin batch with shape: torch.Size([128, 784])\n",
      "Begin batch with shape: torch.Size([128, 784])\n",
      "Begin batch with shape: torch.Size([128, 784])\n",
      "Begin batch with shape: torch.Size([128, 784])\n",
      "Begin batch with shape: torch.Size([128, 784])\n",
      "Begin batch with shape: torch.Size([128, 784])\n",
      "Begin batch with shape: torch.Size([128, 784])\n",
      "Begin batch with shape: torch.Size([128, 784])\n",
      "Begin batch with shape: torch.Size([128, 784])\n",
      "Begin batch with shape: torch.Size([128, 784])\n",
      "Begin batch with shape: torch.Size([128, 784])\n",
      "Begin batch with shape: torch.Size([128, 784])\n",
      "Begin batch with shape: torch.Size([128, 784])\n",
      "Begin batch with shape: torch.Size([128, 784])\n",
      "Begin batch with shape: torch.Size([128, 784])\n",
      "Begin batch with shape: torch.Size([128, 784])\n",
      "Begin batch with shape: torch.Size([128, 784])\n",
      "Begin batch with shape: torch.Size([128, 784])\n",
      "Begin batch with shape: torch.Size([128, 784])\n",
      "Begin batch with shape: torch.Size([128, 784])\n",
      "Begin batch with shape: torch.Size([16, 784])\n",
      "After epoch\n",
      "after_fit\n"
     ]
    }
   ],
   "source": [
    "fit(1, learn, cb=CallbackHandler([TempCallback()]))"
   ]
  },
  {
   "cell_type": "markdown",
   "metadata": {},
   "source": [
    "# Refactor callbacks"
   ]
  },
  {
   "cell_type": "markdown",
   "metadata": {},
   "source": [
    "```\n",
    "class Callback():\n",
    "    def begin_fit(self, learn):\n",
    "        self.learn = learn\n",
    "        return True\n",
    "    def after_fit(self): return True\n",
    "    def begin_epoch(self, epoch):\n",
    "        self.epoch=epoch\n",
    "        return True\n",
    "    def begin_validate(self): return True\n",
    "    def after_epoch(self): return True\n",
    "    def begin_batch(self, xb, yb):\n",
    "        self.xb,self.yb = xb,yb\n",
    "        return True\n",
    "    def after_loss(self, loss):\n",
    "        self.loss = loss\n",
    "        return True\n",
    "    def after_backward(self): return True\n",
    "    def after_step(self): return True\n",
    "```"
   ]
  },
  {
   "cell_type": "code",
   "execution_count": 21,
   "metadata": {},
   "outputs": [
    {
     "name": "stdout",
     "output_type": "stream",
     "text": [
      "DOES_NOT_EXIST\n",
      "WHAT_ABOUT_THIS_ONE\n",
      "dumb\n",
      "dumber\n",
      "dumb dumber\n",
      "dumbest\n",
      "dumber\n"
     ]
    }
   ],
   "source": [
    "# quick example of __getattr__, getattr and setattr\n",
    "\n",
    "class Dummy():\n",
    "    def __init__(self,a,b):\n",
    "        self.dum1,self.dum2 = a,b\n",
    "    def dumb_func(self):\n",
    "        return self.dum1+' '+self.dum2\n",
    "    def __getattr__(self, attr):\n",
    "        return attr.upper()\n",
    "d = Dummy('dumb','dumber')\n",
    "#__getattr__\n",
    "print(d.does_not_exist) # 'DOES_NOT_EXIST'\n",
    "print(d.what_about_this_one)  # 'WHAT_ABOUT_THIS_ONE'\n",
    "\n",
    "# getattr\n",
    "print(getattr(d,'dum1'))\n",
    "print(getattr(d,'dum2'))\n",
    "print(getattr(d,'dumb_func')())\n",
    "\n",
    "# setattr\n",
    "# existing attr\n",
    "setattr(d,'dum2','dumbest')\n",
    "print(getattr(d,'dum2'))\n",
    "setattr(d,'dum3','dumber')\n",
    "print(getattr(d,'dum3'))"
   ]
  },
  {
   "cell_type": "code",
   "execution_count": 22,
   "metadata": {},
   "outputs": [],
   "source": [
    "import re\n",
    "\n",
    "_camel_re1 = re.compile('(.)([A-Z][a-z]+)')\n",
    "_camel_re2 = re.compile('([a-z0-9])([A-Z])')\n",
    "def camel2snake(name):\n",
    "    s1 = re.sub(_camel_re1, r'\\1_\\2', name)\n",
    "    return re.sub(_camel_re2, r'\\1_\\2', s1).lower()\n",
    "\n",
    "from typing import *\n",
    "\n",
    "def listify(o):\n",
    "    if o is None: return []\n",
    "    if isinstance(o, list): return o\n",
    "    if isinstance(o, Iterable): return list(o)\n",
    "    return [o]"
   ]
  },
  {
   "cell_type": "code",
   "execution_count": 23,
   "metadata": {},
   "outputs": [
    {
     "data": {
      "text/plain": [
       "'train_eval_callback'"
      ]
     },
     "execution_count": 23,
     "metadata": {},
     "output_type": "execute_result"
    }
   ],
   "source": [
    "cbname = 'TrainEvalCallback'\n",
    "camel2snake(cbname)\n"
   ]
  },
  {
   "cell_type": "code",
   "execution_count": 24,
   "metadata": {},
   "outputs": [],
   "source": [
    "class Callback():\n",
    "    _order=0\n",
    "    def set_runner(self, run): self.run=run\n",
    "    # use another object (runner) to call the same function\n",
    "    # note that a runner will maintain several callbacks in the callback list (cbs)\n",
    "    def __getattr__(self, k): return getattr(self.run, k)\n",
    "    @property\n",
    "    def name(self):\n",
    "        name = re.sub(r'Callback$', '', self.__class__.__name__)\n",
    "        return camel2snake(name or 'callback')"
   ]
  },
  {
   "cell_type": "code",
   "execution_count": 25,
   "metadata": {},
   "outputs": [],
   "source": [
    "# reponsible to switch the model back and forth in training or validation mode, \n",
    "# as well as maintaining a count of the iterations,\n",
    "class TrainEvalCallback(Callback):\n",
    "    def begin_fit(self):\n",
    "        self.run.n_epochs=0.\n",
    "        self.run.n_iter=0\n",
    "    \n",
    "    def after_batch(self):\n",
    "        if not self.in_train: return\n",
    "        self.run.n_epochs += 1./self.iters # maintain % of iterations. self.iters is # of batches in dataloader\n",
    "        self.run.n_iter   += 1 # maintain count of iterations\n",
    "    \n",
    "    # switch between training and validation mode\n",
    "    # train \n",
    "    def begin_epoch(self):\n",
    "        self.run.n_epochs=self.epoch # self.epoch is like i, i.e. for i in range(epochs)\n",
    "        self.model.train()\n",
    "        self.run.in_train=True\n",
    "    # validation\n",
    "    def begin_validate(self):\n",
    "        self.model.eval()\n",
    "        self.run.in_train=False\n",
    "        "
   ]
  },
  {
   "cell_type": "code",
   "execution_count": 26,
   "metadata": {},
   "outputs": [],
   "source": [
    "# class TestCallback(Callback):\n",
    "#     def begin_fit(self,learn):\n",
    "#         super().begin_fit(learn)\n",
    "#         self.n_iters = 0\n",
    "#         return True\n",
    "        \n",
    "#     def after_step(self):\n",
    "#         self.n_iters += 1\n",
    "#         print(self.n_iters)\n",
    "#         if self.n_iters>=10: learn.stop = True\n",
    "#         return True\n",
    "\n",
    "class TestCallback(Callback):\n",
    "    _order=1\n",
    "    def after_step(self):\n",
    "        # stop at 10th step\n",
    "        if self.n_iter>=10: return True"
   ]
  },
  {
   "cell_type": "code",
   "execution_count": 27,
   "metadata": {},
   "outputs": [
    {
     "data": {
      "text/plain": [
       "'train_eval'"
      ]
     },
     "execution_count": 27,
     "metadata": {},
     "output_type": "execute_result"
    }
   ],
   "source": [
    "TrainEvalCallback().name"
   ]
  },
  {
   "cell_type": "markdown",
   "metadata": {},
   "source": [
    "```\n",
    "def one_batch(xb, yb, cb):\n",
    "    if not cb.begin_batch(xb,yb): return\n",
    "    loss = cb.learn.loss_func(cb.learn.model(xb), yb)\n",
    "    if not cb.after_loss(loss): \n",
    "        return # will do this at validation step\n",
    "    loss.backward()\n",
    "    if cb.after_backward(): cb.learn.opt.step()\n",
    "    if cb.after_step(): cb.learn.opt.zero_grad()\n",
    "\n",
    "def all_batches(dl, cb):\n",
    "    for xb,yb in dl:\n",
    "        one_batch(xb, yb, cb)\n",
    "        if cb.do_stop(): return\n",
    "\n",
    "def fit(epochs, learn, cb):\n",
    "    if not cb.begin_fit(learn): return\n",
    "    for epoch in range(epochs):\n",
    "        if not cb.begin_epoch(epoch): continue\n",
    "        all_batches(learn.data.train_dl, cb)\n",
    "        \n",
    "        if cb.begin_validate():\n",
    "            with torch.no_grad(): all_batches(learn.data.valid_dl, cb)\n",
    "        if cb.do_stop() or not cb.after_epoch(): break\n",
    "    cb.after_fit()\n",
    "\n",
    "```"
   ]
  },
  {
   "cell_type": "code",
   "execution_count": 28,
   "metadata": {},
   "outputs": [],
   "source": [
    "# put 3 funcs above into one class\n",
    "class Runner():\n",
    "    def __init__(self, cbs=None, cb_funcs=None):\n",
    "        cbs = listify(cbs) # list of callbacks\n",
    "        for cbf in listify(cb_funcs): # cb_funcs are likely partial(SomeCallback,<init_input>)\n",
    "            cb = cbf()\n",
    "            setattr(self, cb.name, cb) # save callback object under its snake_name to runner\n",
    "            # e.g for TestCallBack, it will be: Runner.train_eval = TrainEvalCallback(<init_input from partial)()\n",
    "            cbs.append(cb)\n",
    "        self.stop,self.cbs = False,[TrainEvalCallback()]+cbs\n",
    "\n",
    "    @property\n",
    "    def opt(self):       return self.learn.opt\n",
    "    @property\n",
    "    def model(self):     return self.learn.model\n",
    "    @property\n",
    "    def loss_func(self): return self.learn.loss_func\n",
    "    @property\n",
    "    def data(self):      return self.learn.data\n",
    "\n",
    "#     def one_batch(xb, yb, cb):\n",
    "#         if not cb.begin_batch(xb,yb): return\n",
    "#         loss = cb.learn.loss_func(cb.learn.model(xb), yb)\n",
    "#         if not cb.after_loss(loss): \n",
    "#             return # will do this at validation step\n",
    "#         loss.backward()\n",
    "#         if cb.after_backward(): cb.learn.opt.step()\n",
    "#         if cb.after_step(): cb.learn.opt.zero_grad()      \n",
    "    def one_batch(self, xb, yb):\n",
    "        self.xb,self.yb = xb,yb\n",
    "        \n",
    "        # Only run if self('<method>') return False (which is the opposite of the func above)\n",
    "        # because  self('<method>') return False only when callback does not have that method (look at __call__ at the end)\n",
    "        # e.g for TestCallBack func\n",
    "#         class TestCallback(Callback):\n",
    "#         _order=1\n",
    "#         def after_step(self):\n",
    "#             # stop at 10th step\n",
    "#             if self.n_iter>=10: return True\n",
    "        # return True for after_step to stop. Thus will return False since there is no other method, which means to continue\n",
    "        if self('begin_batch'): return \n",
    "        self.pred = self.model(self.xb)\n",
    "        if self('after_pred'): return\n",
    "        self.loss = self.loss_func(self.pred, self.yb)\n",
    "        if self('after_loss') or not self.in_train: return\n",
    "        self.loss.backward()\n",
    "        if self('after_backward'): return\n",
    "        self.opt.step()\n",
    "        if self('after_step'): return\n",
    "        self.opt.zero_grad()\n",
    "\n",
    "#     def all_batches(dl, cb):\n",
    "#         for xb,yb in dl:\n",
    "#             one_batch(xb, yb, cb)\n",
    "#             if cb.do_stop(): return\n",
    "    def all_batches(self, dl):\n",
    "        self.iters = len(dl)\n",
    "        for xb,yb in dl:\n",
    "            if self.stop: break\n",
    "            self.one_batch(xb, yb)\n",
    "            self('after_batch')\n",
    "        self.stop=False\n",
    "\n",
    "#     def fit(epochs, learn, cb):\n",
    "#         if not cb.begin_fit(learn): return\n",
    "#         for epoch in range(epochs):\n",
    "#             if not cb.begin_epoch(epoch): continue\n",
    "#             all_batches(learn.data.train_dl, cb)\n",
    "\n",
    "#             if cb.begin_validate():\n",
    "#                 with torch.no_grad(): all_batches(learn.data.valid_dl, cb)\n",
    "#             if cb.do_stop() or not cb.after_epoch(): break\n",
    "#         cb.after_fit()\n",
    "    def fit(self, epochs, learn):\n",
    "        self.epochs,self.learn,self.loss = epochs,learn,tensor(0.)\n",
    "\n",
    "        try:\n",
    "            for cb in self.cbs: cb.set_runner(self)\n",
    "            if self('begin_fit'): return\n",
    "            for epoch in range(epochs):\n",
    "                self.epoch = epoch\n",
    "                if not self('begin_epoch'): self.all_batches(self.data.train_dl)\n",
    "\n",
    "                with torch.no_grad(): \n",
    "                    if not self('begin_validate'): self.all_batches(self.data.valid_dl)\n",
    "                if self('after_epoch'): break\n",
    "            \n",
    "        finally:\n",
    "            self('after_fit')\n",
    "            self.learn = None\n",
    "\n",
    "    def __call__(self, cb_name):\n",
    "        for cb in sorted(self.cbs, key=lambda x: x._order):\n",
    "            # where callback function (begin_epoch,after_step,...) are really called. If there is no such func -> None\n",
    "            f = getattr(cb, cb_name, None)\n",
    "            if f and f(): return True\n",
    "        return False"
   ]
  },
  {
   "cell_type": "code",
   "execution_count": 36,
   "metadata": {},
   "outputs": [
    {
     "data": {
      "text/plain": [
       "exp.nb_03.Dataset"
      ]
     },
     "execution_count": 36,
     "metadata": {},
     "output_type": "execute_result"
    }
   ],
   "source": [
    "type(db.train_dl.dataset)"
   ]
  },
  {
   "cell_type": "markdown",
   "metadata": {},
   "source": [
    "## Few more callback classes"
   ]
  },
  {
   "cell_type": "code",
   "execution_count": 42,
   "metadata": {},
   "outputs": [],
   "source": [
    "class AvgStats():\n",
    "    def __init__(self, metrics, in_train): self.metrics,self.in_train = listify(metrics),in_train\n",
    "    \n",
    "    def reset(self):\n",
    "        self.tot_loss,self.count = 0.,0\n",
    "        self.tot_mets = [0.] * len(self.metrics)\n",
    "        \n",
    "    @property\n",
    "    def all_stats(self): return [self.tot_loss.item()] + self.tot_mets # [cumm_loss_value,cumm_metric1,cumm_metric2 ...]\n",
    "    @property\n",
    "    def avg_stats(self): return [o/self.count for o in self.all_stats] # average all_stats by dividing by # of items in train/val set\n",
    "    \n",
    "    def __repr__(self):\n",
    "        if not self.count: return \"\"\n",
    "        return f\"{'train' if self.in_train else 'valid'}: {self.avg_stats}\"\n",
    "\n",
    "    def accumulate(self, run): # calculate count from batch size, add runner loss to total loss, calculate metrics and add to total metrics\n",
    "        bn = run.xb.shape[0]\n",
    "        self.tot_loss += run.loss * bn\n",
    "        self.count += bn\n",
    "        for i,m in enumerate(self.metrics): # use metrics function to calculate metric\n",
    "            self.tot_mets[i] += m(run.pred, run.yb) * bn\n",
    "\n",
    "# callback to add metric\n",
    "class AvgStatsCallback(Callback):\n",
    "    def __init__(self, metrics):\n",
    "        self.train_stats,self.valid_stats = AvgStats(metrics,True),AvgStats(metrics,False)\n",
    "        \n",
    "    def begin_epoch(self):\n",
    "        self.train_stats.reset()\n",
    "        self.valid_stats.reset()\n",
    "        \n",
    "    def after_loss(self):\n",
    "        stats = self.train_stats if self.in_train else self.valid_stats\n",
    "        with torch.no_grad(): stats.accumulate(self.run)\n",
    "    \n",
    "    def after_epoch(self):\n",
    "        print(self.train_stats)\n",
    "        print(self.valid_stats)"
   ]
  },
  {
   "cell_type": "code",
   "execution_count": 39,
   "metadata": {},
   "outputs": [],
   "source": [
    "loss_func = F.cross_entropy"
   ]
  },
  {
   "cell_type": "code",
   "execution_count": 40,
   "metadata": {},
   "outputs": [],
   "source": [
    "learn = Learner(*get_simple_model(db), loss_func, db)"
   ]
  },
  {
   "cell_type": "code",
   "execution_count": 45,
   "metadata": {},
   "outputs": [
    {
     "data": {
      "text/plain": [
       "'avg_stats'"
      ]
     },
     "execution_count": 45,
     "metadata": {},
     "output_type": "execute_result"
    }
   ],
   "source": [
    "AvgStatsCallback([accuracy]).name"
   ]
  },
  {
   "cell_type": "markdown",
   "metadata": {},
   "source": [
    "## Define callback with no partial: callback does not save as a runner attribute"
   ]
  },
  {
   "cell_type": "code",
   "execution_count": 43,
   "metadata": {},
   "outputs": [],
   "source": [
    "stats = AvgStatsCallback([accuracy,accuracy])\n",
    "run = Runner(cbs=stats)"
   ]
  },
  {
   "cell_type": "code",
   "execution_count": 46,
   "metadata": {},
   "outputs": [
    {
     "data": {
      "text/plain": [
       "[<__main__.TrainEvalCallback at 0x7fcee8e6a7b8>,\n",
       " <__main__.AvgStatsCallback at 0x7fcee8e6a908>]"
      ]
     },
     "execution_count": 46,
     "metadata": {},
     "output_type": "execute_result"
    }
   ],
   "source": [
    "run.cb"
   ]
  },
  {
   "cell_type": "code",
   "execution_count": 48,
   "metadata": {},
   "outputs": [
    {
     "name": "stdout",
     "output_type": "stream",
     "text": [
      "train: [0.4457242513020833, tensor(0.8655), tensor(0.8655)]\n",
      "valid: [0.60572392578125, tensor(0.8120), tensor(0.8120)]\n",
      "train: [0.2547105794270833, tensor(0.9243), tensor(0.9243)]\n",
      "valid: [0.536561962890625, tensor(0.8390), tensor(0.8390)]\n"
     ]
    }
   ],
   "source": [
    "run.fit(2, learn)"
   ]
  },
  {
   "cell_type": "code",
   "execution_count": 51,
   "metadata": {},
   "outputs": [],
   "source": [
    "loss,metric1,metric2=stats.valid_stats.avg_stats # use callback obj directly to get stats"
   ]
  },
  {
   "cell_type": "code",
   "execution_count": 52,
   "metadata": {},
   "outputs": [
    {
     "data": {
      "text/plain": [
       "(0.536561962890625, tensor(0.8390), tensor(0.8390))"
      ]
     },
     "execution_count": 52,
     "metadata": {},
     "output_type": "execute_result"
    }
   ],
   "source": [
    "loss,metric1,metric2"
   ]
  },
  {
   "cell_type": "markdown",
   "metadata": {},
   "source": [
    "# Use callback created from partial (to see Callback object's snake name becomes an attribute of runner)"
   ]
  },
  {
   "cell_type": "code",
   "execution_count": 53,
   "metadata": {},
   "outputs": [],
   "source": [
    "from functools import partial\n",
    "\n",
    "acc_cbf = partial(AvgStatsCallback,accuracy)\n",
    "\n",
    "run = Runner(cb_funcs=acc_cbf)"
   ]
  },
  {
   "cell_type": "code",
   "execution_count": 54,
   "metadata": {},
   "outputs": [
    {
     "data": {
      "text/plain": [
       "'avg_stats'"
      ]
     },
     "execution_count": 54,
     "metadata": {},
     "output_type": "execute_result"
    }
   ],
   "source": [
    "acc_cbf().name"
   ]
  },
  {
   "cell_type": "code",
   "execution_count": 55,
   "metadata": {},
   "outputs": [
    {
     "data": {
      "text/plain": [
       "[<__main__.TrainEvalCallback at 0x7fcee8e849e8>,\n",
       " <__main__.AvgStatsCallback at 0x7fcee8e84be0>]"
      ]
     },
     "execution_count": 55,
     "metadata": {},
     "output_type": "execute_result"
    }
   ],
   "source": [
    "run.cbs"
   ]
  },
  {
   "cell_type": "code",
   "execution_count": 57,
   "metadata": {},
   "outputs": [
    {
     "name": "stdout",
     "output_type": "stream",
     "text": [
      "train: [0.203928955078125, tensor(0.9392)]\n",
      "valid: [0.52443955078125, tensor(0.8497)]\n"
     ]
    }
   ],
   "source": [
    "run.fit(1, learn)"
   ]
  },
  {
   "cell_type": "markdown",
   "metadata": {},
   "source": [
    "## Get callback obj from runner"
   ]
  },
  {
   "cell_type": "code",
   "execution_count": 58,
   "metadata": {},
   "outputs": [
    {
     "data": {
      "text/plain": [
       "<__main__.AvgStatsCallback at 0x7fcee8e84be0>"
      ]
     },
     "execution_count": 58,
     "metadata": {},
     "output_type": "execute_result"
    }
   ],
   "source": [
    "run.avg_stats"
   ]
  },
  {
   "cell_type": "code",
   "execution_count": 64,
   "metadata": {},
   "outputs": [
    {
     "data": {
      "text/plain": [
       "train: [0.203928955078125, tensor(0.9392)]"
      ]
     },
     "execution_count": 64,
     "metadata": {},
     "output_type": "execute_result"
    }
   ],
   "source": [
    "run.avg_stats.train_stats # use runner to call callback obj to get stats"
   ]
  },
  {
   "cell_type": "code",
   "execution_count": 65,
   "metadata": {},
   "outputs": [
    {
     "data": {
      "text/plain": [
       "valid: [0.52443955078125, tensor(0.8497)]"
      ]
     },
     "execution_count": 65,
     "metadata": {},
     "output_type": "execute_result"
    }
   ],
   "source": [
    "run.avg_stats.valid_stats"
   ]
  }
 ],
 "metadata": {
  "kernelspec": {
   "display_name": "Python 3",
   "language": "python",
   "name": "python3"
  },
  "language_info": {
   "codemirror_mode": {
    "name": "ipython",
    "version": 3
   },
   "file_extension": ".py",
   "mimetype": "text/x-python",
   "name": "python",
   "nbconvert_exporter": "python",
   "pygments_lexer": "ipython3",
   "version": "3.7.1"
  }
 },
 "nbformat": 4,
 "nbformat_minor": 2
}
